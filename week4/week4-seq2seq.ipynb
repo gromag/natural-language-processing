{
  "nbformat": 4,
  "nbformat_minor": 0,
  "metadata": {
    "kernelspec": {
      "display_name": "Python 3",
      "language": "python",
      "name": "python3"
    },
    "language_info": {
      "codemirror_mode": {
        "name": "ipython",
        "version": 3
      },
      "file_extension": ".py",
      "mimetype": "text/x-python",
      "name": "python",
      "nbconvert_exporter": "python",
      "pygments_lexer": "ipython3",
      "version": "3.4.3"
    },
    "colab": {
      "name": "week4-seq2seq.ipynb",
      "provenance": [],
      "machine_shape": "hm",
      "include_colab_link": true
    }
  },
  "cells": [
    {
      "cell_type": "markdown",
      "metadata": {
        "id": "view-in-github",
        "colab_type": "text"
      },
      "source": [
        "<a href=\"https://colab.research.google.com/github/gromag/natural-language-processing/blob/master/week4/week4-seq2seq.ipynb\" target=\"_parent\"><img src=\"https://colab.research.google.com/assets/colab-badge.svg\" alt=\"Open In Colab\"/></a>"
      ]
    },
    {
      "cell_type": "markdown",
      "metadata": {
        "id": "aKXZd_lpVPo2"
      },
      "source": [
        "# Learn to calculate with seq2seq model\n",
        "\n",
        "In this assignment, you will learn how to use neural networks to solve sequence-to-sequence prediction tasks. Seq2Seq models are very popular these days because they achieve great results in Machine Translation, Text Summarization, Conversational Modeling and more.\n",
        "\n",
        "Using sequence-to-sequence modeling you are going to build a calculator for evaluating arithmetic expressions, by taking an equation as an input to the neural network and producing an answer as it's output.\n",
        "\n",
        "The resulting solution for this problem will be based on state-of-the-art approaches for sequence-to-sequence learning and you should be able to easily adapt it to solve other tasks. However, if you want to train your own machine translation system or intellectual chat bot, it would be useful to have access to compute resources like GPU, and be patient, because training of such systems is usually time consuming. \n",
        "\n",
        "### Libraries\n",
        "\n",
        "For this task you will need the following libraries:\n",
        " - [TensorFlow](https://www.tensorflow.org) — an open-source software library for Machine Intelligence.\n",
        " \n",
        "In this assignment, we use Tensorflow 1.15.0. You can install it with pip:\n",
        "\n",
        "    !pip install tensorflow==1.15.0\n",
        "     \n",
        " - [scikit-learn](http://scikit-learn.org/stable/index.html) — a tool for data mining and data analysis.\n",
        " \n",
        "If you have never worked with TensorFlow, you will probably want to read some tutorials during your work on this assignment, e.g. [Neural Machine Translation](https://www.tensorflow.org/tutorials/seq2seq) tutorial deals with very similar task and can explain some concepts to you. "
      ]
    },
    {
      "cell_type": "code",
      "metadata": {
        "colab": {
          "base_uri": "https://localhost:8080/"
        },
        "id": "mB32UF34V9H5",
        "outputId": "7845e317-d252-4659-fe01-e8eabd238d66"
      },
      "source": [
        "%tensorflow_version 1.x\n",
        "import tensorflow\n",
        "print(tensorflow.__version__)"
      ],
      "execution_count": 3,
      "outputs": [
        {
          "output_type": "stream",
          "name": "stdout",
          "text": [
            "TensorFlow 1.x selected.\n",
            "1.15.2\n"
          ]
        }
      ]
    },
    {
      "cell_type": "code",
      "metadata": {
        "colab": {
          "base_uri": "https://localhost:8080/"
        },
        "id": "CvvtOIshVPo6",
        "outputId": "2945c8a7-bdcb-45bc-d5ff-9563e181caaf"
      },
      "source": [
        "try:\n",
        "    import google.colab\n",
        "    IN_COLAB = True\n",
        "except:\n",
        "    IN_COLAB = False\n",
        "\n",
        "if IN_COLAB:\n",
        "    ! wget https://raw.githubusercontent.com/hse-aml/natural-language-processing/master/setup_google_colab.py -O setup_google_colab.py\n",
        "    import setup_google_colab\n",
        "    setup_google_colab.setup_week4()"
      ],
      "execution_count": 1,
      "outputs": [
        {
          "output_type": "stream",
          "name": "stdout",
          "text": [
            "--2021-10-23 09:25:08--  https://raw.githubusercontent.com/hse-aml/natural-language-processing/master/setup_google_colab.py\n",
            "Resolving raw.githubusercontent.com (raw.githubusercontent.com)... 185.199.108.133, 185.199.109.133, 185.199.111.133, ...\n",
            "Connecting to raw.githubusercontent.com (raw.githubusercontent.com)|185.199.108.133|:443... connected.\n",
            "HTTP request sent, awaiting response... 200 OK\n",
            "Length: 1939 (1.9K) [text/plain]\n",
            "Saving to: ‘setup_google_colab.py’\n",
            "\n",
            "setup_google_colab. 100%[===================>]   1.89K  --.-KB/s    in 0s      \n",
            "\n",
            "2021-10-23 09:25:09 (27.0 MB/s) - ‘setup_google_colab.py’ saved [1939/1939]\n",
            "\n"
          ]
        }
      ]
    },
    {
      "cell_type": "markdown",
      "metadata": {
        "id": "ych81bLAVPo8"
      },
      "source": [
        "### Data\n",
        "\n",
        "One benefit of this task is that you don't need to download any data — you will generate it on your own! We will use two operators (addition and subtraction) and work with positive integer numbers in some range. Here are examples of correct inputs and outputs:\n",
        "\n",
        "    Input: '1+2'\n",
        "    Output: '3'\n",
        "    \n",
        "    Input: '0-99'\n",
        "    Output: '-99'\n",
        "\n",
        "*Note, that there are no spaces between operators and operands.*\n",
        "\n",
        "\n",
        "Now you need to implement the function *generate_equations*, which will be used to generate the data."
      ]
    },
    {
      "cell_type": "code",
      "metadata": {
        "collapsed": true,
        "id": "bo8mlr5eVPo9"
      },
      "source": [
        "import random"
      ],
      "execution_count": 2,
      "outputs": []
    },
    {
      "cell_type": "code",
      "metadata": {
        "collapsed": true,
        "id": "rHBaJgR6VPo9"
      },
      "source": [
        "import operator\n",
        "\n",
        "def generate_equations(allowed_operators, dataset_size, min_value, max_value):\n",
        "    \"\"\"Generates pairs of equations and solutions to them.\n",
        "    \n",
        "       Each equation has a form of two integers with an operator in between.\n",
        "       Each solution is an integer with the result of the operation.\n",
        "    \n",
        "        allowed_operators: list of strings, allowed operators.\n",
        "        dataset_size: an integer, number of equations to be generated.\n",
        "        min_value: an integer, min value of each operand.\n",
        "        max_value: an integer, max value of each operand.\n",
        "\n",
        "        result: a list of tuples of strings (equation, solution).\n",
        "    \"\"\"\n",
        "    # STUDENT CODE      \n",
        "    operations = { \"+\": operator.add, \"-\": operator.sub }\n",
        "    # Note: we may end up with an equation with unusual\n",
        "    # notation like \"11--10\", where \"--\" should be expressed\n",
        "    # as \"+\"\n",
        "    # The following maps those odd notations\n",
        "    notation_map = { \"+-\": \"-\", \"--\": \"+\"}\n",
        "\n",
        "    for o in allowed_operators:\n",
        "      assert o in operations\n",
        "\n",
        "    numbers = random.choices(range(min_value, max_value), k=dataset_size*2)\n",
        "\n",
        "    sample = []\n",
        "    for pair in zip(numbers[:dataset_size], numbers[dataset_size:]):\n",
        "      operation_choice = random.choice(allowed_operators)\n",
        "      result = operations[operation_choice](*pair)\n",
        "      eq_literal = f'{pair[0]}{operation_choice}{pair[1]}'\n",
        "      for notation in notation_map:\n",
        "        if notation in eq_literal:\n",
        "          eq_literal = eq_literal.replace(notation, notation_map[notation])\n",
        "      \n",
        "      sample.append((eq_literal, str(result)))\n",
        "    return sample"
      ],
      "execution_count": 4,
      "outputs": []
    },
    {
      "cell_type": "markdown",
      "metadata": {
        "id": "PLFM6vUoVPo-"
      },
      "source": [
        "To check the correctness of your implementation, use *test_generate_equations* function:"
      ]
    },
    {
      "cell_type": "code",
      "metadata": {
        "collapsed": true,
        "id": "IbIuG3mlVPo-"
      },
      "source": [
        "def test_generate_equations():\n",
        "    allowed_operators = ['+', '-']\n",
        "    dataset_size = 10\n",
        "    for (input_, output_) in generate_equations(allowed_operators, dataset_size, 0, 100):\n",
        "        if not (type(input_) is str and type(output_) is str):\n",
        "            return \"Both parts should be strings.\"\n",
        "        if eval(input_) != int(output_):\n",
        "            return \"The (equation: {!r}, solution: {!r}) pair is incorrect.\".format(input_, output_)\n",
        "    return \"Tests passed.\""
      ],
      "execution_count": 5,
      "outputs": []
    },
    {
      "cell_type": "code",
      "metadata": {
        "collapsed": true,
        "colab": {
          "base_uri": "https://localhost:8080/"
        },
        "id": "qSCpHI-GVPo_",
        "outputId": "b90ef49c-7824-4cf3-d54e-6a5648df2655"
      },
      "source": [
        "print(test_generate_equations())"
      ],
      "execution_count": 6,
      "outputs": [
        {
          "output_type": "stream",
          "name": "stdout",
          "text": [
            "Tests passed.\n"
          ]
        }
      ]
    },
    {
      "cell_type": "markdown",
      "metadata": {
        "id": "8jy7FPGgVPpA"
      },
      "source": [
        "Finally, we are ready to generate the train and test data for the neural network:"
      ]
    },
    {
      "cell_type": "code",
      "metadata": {
        "collapsed": true,
        "id": "XGBJTtNMVPpB"
      },
      "source": [
        "from sklearn.model_selection import train_test_split"
      ],
      "execution_count": 7,
      "outputs": []
    },
    {
      "cell_type": "code",
      "metadata": {
        "collapsed": true,
        "id": "fergeaFdVPpB"
      },
      "source": [
        "allowed_operators = ['+', '-']\n",
        "dataset_size = 100000\n",
        "data = generate_equations(allowed_operators, dataset_size, min_value=0, max_value=9999)\n",
        "\n",
        "train_set, test_set = train_test_split(data, test_size=0.2, random_state=42)"
      ],
      "execution_count": 8,
      "outputs": []
    },
    {
      "cell_type": "markdown",
      "metadata": {
        "id": "7UoqzfUhVPpC"
      },
      "source": [
        "## Prepare data for the neural network\n",
        "\n",
        "The next stage of data preparation is creating mappings of the characters to their indices in some vocabulary. Since in our task we already know which symbols will appear in the inputs and outputs, generating the vocabulary is a simple step.\n",
        "\n",
        "#### How to create dictionaries for other task\n",
        "\n",
        "First of all, you need to understand what is the basic unit of the sequence in your task. In our case, we operate on symbols and the basic unit is a symbol. The number of symbols is small, so we don't need to think about filtering/normalization steps. However, in other tasks, the basic unit is often a word, and in this case the mapping would be *word $\\to$ integer*. The number of words might be huge, so it would be reasonable to filter them, for example, by frequency and leave only the frequent ones. Other strategies that your should consider are: data normalization (lowercasing, tokenization, how to consider punctuation marks), separate vocabulary for input and for output (e.g. for machine translation), some specifics of the task."
      ]
    },
    {
      "cell_type": "code",
      "metadata": {
        "collapsed": true,
        "id": "QgsRET6vVPpC"
      },
      "source": [
        "word2id = {symbol:i for i, symbol in enumerate('#^$+-1234567890')}\n",
        "id2word = {i:symbol for symbol, i in word2id.items()}"
      ],
      "execution_count": 9,
      "outputs": []
    },
    {
      "cell_type": "markdown",
      "metadata": {
        "id": "Rprj1RxQVPpC"
      },
      "source": [
        "#### Special symbols"
      ]
    },
    {
      "cell_type": "code",
      "metadata": {
        "collapsed": true,
        "id": "0xxEz48jVPpD"
      },
      "source": [
        "start_symbol = '^'\n",
        "end_symbol = '$'\n",
        "padding_symbol = '#'"
      ],
      "execution_count": 10,
      "outputs": []
    },
    {
      "cell_type": "markdown",
      "metadata": {
        "id": "CNnKWd6aVPpD"
      },
      "source": [
        "You could notice that we have added 3 special symbols: '^', '\\$' and '#':\n",
        "- '^' symbol will be passed to the network to indicate the beginning of the decoding procedure. We will discuss this one later in more details.\n",
        "- '\\$' symbol will be used to indicate the *end of a string*, both for input and output sequences. \n",
        "- '#' symbol will be used as a *padding* character to make lengths of all strings equal within one training batch.\n",
        "\n",
        "People have a bit different habits when it comes to special symbols in encoder-decoder networks, so don't get too much confused if you come across other variants in tutorials you read. "
      ]
    },
    {
      "cell_type": "markdown",
      "metadata": {
        "id": "gx7J5EwtVPpD"
      },
      "source": [
        "#### Padding"
      ]
    },
    {
      "cell_type": "markdown",
      "metadata": {
        "id": "tn8YDKyBVPpD"
      },
      "source": [
        "When vocabularies are ready, we need to be able to convert a sentence to a list of vocabulary word indices and back. At the same time, let's care about padding. We are going to preprocess each sequence from the input (and output ground truth) in such a way that:\n",
        "- it has a predefined length *padded_len*\n",
        "- it is probably cut off or padded with the *padding symbol* '#'\n",
        "- it *always* ends with the *end symbol* '$'\n",
        "\n",
        "We will treat the original characters of the sequence **and the end symbol** as the valid part of the input. We will store *the actual length* of the sequence, which includes the end symbol, but does not include the padding symbols. "
      ]
    },
    {
      "cell_type": "markdown",
      "metadata": {
        "id": "yXVQOOcPVPpE"
      },
      "source": [
        " Now you need to implement the function *sentence_to_ids* that does the described job. "
      ]
    },
    {
      "cell_type": "code",
      "metadata": {
        "colab": {
          "base_uri": "https://localhost:8080/"
        },
        "id": "nAWEA-mghItC",
        "outputId": "ce59fdf4-4a8f-4c64-d7af-c390eb5efa9d"
      },
      "source": [
        "a = [1,2,3,4,5,6]\n",
        "\n",
        "a[:3]"
      ],
      "execution_count": 11,
      "outputs": [
        {
          "output_type": "execute_result",
          "data": {
            "text/plain": [
              "[1, 2, 3]"
            ]
          },
          "metadata": {},
          "execution_count": 11
        }
      ]
    },
    {
      "cell_type": "code",
      "metadata": {
        "collapsed": true,
        "id": "9EXBivB0VPpE"
      },
      "source": [
        "def sentence_to_ids(sentence, word2id, padded_len):\n",
        "    \"\"\" Converts a sequence of symbols to a padded sequence of their ids.\n",
        "    \n",
        "      sentence: a string, input/output sequence of symbols.\n",
        "      word2id: a dict, a mapping from original symbols to ids.\n",
        "      padded_len: an integer, a desirable length of the sequence.\n",
        "\n",
        "      result: a tuple of (a list of ids, an actual length of sentence).\n",
        "    \"\"\"\n",
        "    # STUDENT CODE\n",
        "    end_symbol = \"$\"\n",
        "    pad_symbol = \"#\"\n",
        "    sent_ids = [word2id[char] for char in sentence]\n",
        "    # Trim sentence lenth (if need be) and add end symbol\n",
        "    sent_ids = sent_ids[:(padded_len-1)] + [word2id[end_symbol]]\n",
        "    sent_len = len(sent_ids)\n",
        "    sent_ids = sent_ids + [word2id[pad_symbol] for pad in range(padded_len - sent_len)]\n",
        "    \n",
        "    \n",
        "    return sent_ids, sent_len"
      ],
      "execution_count": 12,
      "outputs": []
    },
    {
      "cell_type": "markdown",
      "metadata": {
        "id": "2Rd6ex-FVPpE"
      },
      "source": [
        "Check that your implementation is correct:"
      ]
    },
    {
      "cell_type": "code",
      "metadata": {
        "collapsed": true,
        "id": "bdFGoDQ7VPpE"
      },
      "source": [
        "def test_sentence_to_ids():\n",
        "    sentences = [(\"123+123\", 7), (\"123+123\", 8), (\"123+123\", 10)]\n",
        "    expected_output = [([5, 6, 7, 3, 5, 6, 2], 7), \n",
        "                       ([5, 6, 7, 3, 5, 6, 7, 2], 8), \n",
        "                       ([5, 6, 7, 3, 5, 6, 7, 2, 0, 0], 8)] \n",
        "    for (sentence, padded_len), (sentence_ids, expected_length) in zip(sentences, expected_output):\n",
        "        output, length = sentence_to_ids(sentence, word2id, padded_len)\n",
        "        if output != sentence_ids:\n",
        "            return(\"Convertion of '{}' for padded_len={} to {} is incorrect.\".format(\n",
        "                sentence, padded_len, output))\n",
        "        if length != expected_length:\n",
        "            return(\"Convertion of '{}' for padded_len={} has incorrect actual length {}.\".format(\n",
        "                sentence, padded_len, length))\n",
        "    return(\"Tests passed.\")"
      ],
      "execution_count": 13,
      "outputs": []
    },
    {
      "cell_type": "code",
      "metadata": {
        "collapsed": true,
        "colab": {
          "base_uri": "https://localhost:8080/"
        },
        "id": "0G2K5RiYVPpF",
        "outputId": "0c5607d1-e654-4569-f152-f3b0138ed7e4"
      },
      "source": [
        "print(test_sentence_to_ids())"
      ],
      "execution_count": 14,
      "outputs": [
        {
          "output_type": "stream",
          "name": "stdout",
          "text": [
            "Tests passed.\n"
          ]
        }
      ]
    },
    {
      "cell_type": "markdown",
      "metadata": {
        "id": "5ZKjFtgNVPpF"
      },
      "source": [
        "We also need to be able to get back from indices to symbols:"
      ]
    },
    {
      "cell_type": "code",
      "metadata": {
        "collapsed": true,
        "id": "MymXm45IVPpF"
      },
      "source": [
        "def ids_to_sentence(ids, id2word):\n",
        "    \"\"\" Converts a sequence of ids to a sequence of symbols.\n",
        "    \n",
        "          ids: a list, indices for the padded sequence.\n",
        "          id2word:  a dict, a mapping from ids to original symbols.\n",
        "\n",
        "          result: a list of symbols.\n",
        "    \"\"\"\n",
        " \n",
        "    return [id2word[i] for i in ids] "
      ],
      "execution_count": 15,
      "outputs": []
    },
    {
      "cell_type": "markdown",
      "metadata": {
        "id": "ALhm23crVPpF"
      },
      "source": [
        "#### Generating batches"
      ]
    },
    {
      "cell_type": "markdown",
      "metadata": {
        "id": "P8YbR12xVPpF"
      },
      "source": [
        "The final step of data preparation is a function that transforms a batch of sentences to a list of lists of indices. "
      ]
    },
    {
      "cell_type": "code",
      "metadata": {
        "collapsed": true,
        "id": "vEzkZLjGVPpG"
      },
      "source": [
        "def batch_to_ids(sentences, word2id, max_len):\n",
        "    \"\"\"Prepares batches of indices. \n",
        "    \n",
        "       Sequences are padded to match the longest sequence in the batch,\n",
        "       if it's longer than max_len, then max_len is used instead.\n",
        "\n",
        "        sentences: a list of strings, original sequences.\n",
        "        word2id: a dict, a mapping from original symbols to ids.\n",
        "        max_len: an integer, max len of sequences allowed.\n",
        "\n",
        "        result: a list of lists of ids, a list of actual lengths.\n",
        "    \"\"\"\n",
        "    \n",
        "    max_len_in_batch = min(max(len(s) for s in sentences) + 1, max_len)\n",
        "    batch_ids, batch_ids_len = [], []\n",
        "    for sentence in sentences:\n",
        "        ids, ids_len = sentence_to_ids(sentence, word2id, max_len_in_batch)\n",
        "        batch_ids.append(ids)\n",
        "        batch_ids_len.append(ids_len)\n",
        "    return batch_ids, batch_ids_len"
      ],
      "execution_count": 16,
      "outputs": []
    },
    {
      "cell_type": "markdown",
      "metadata": {
        "id": "ArSmdtWUVPpG"
      },
      "source": [
        "The function *generate_batches* will help to generate batches with defined size from given samples."
      ]
    },
    {
      "cell_type": "code",
      "metadata": {
        "collapsed": true,
        "id": "txf-zWHuVPpG"
      },
      "source": [
        "def generate_batches(samples, batch_size=64):\n",
        "    X, Y = [], []\n",
        "    for i, (x, y) in enumerate(samples, 1):\n",
        "        X.append(x)\n",
        "        Y.append(y)\n",
        "        if i % batch_size == 0:\n",
        "            yield X, Y\n",
        "            X, Y = [], []\n",
        "    if X and Y:\n",
        "        yield X, Y"
      ],
      "execution_count": 17,
      "outputs": []
    },
    {
      "cell_type": "markdown",
      "metadata": {
        "id": "h2bsMPcPVPpG"
      },
      "source": [
        "To illustrate the result of the implemented functions, run the following cell:"
      ]
    },
    {
      "cell_type": "code",
      "metadata": {
        "collapsed": true,
        "colab": {
          "base_uri": "https://localhost:8080/"
        },
        "id": "pkQjHhyaVPpG",
        "outputId": "91a3f494-53b7-49d7-8d28-398fc72f4915"
      },
      "source": [
        "sentences = train_set[0]\n",
        "ids, sent_lens = batch_to_ids(sentences, word2id, max_len=10)\n",
        "print('Input:', sentences)\n",
        "print('Ids: {}\\nSentences lengths: {}'.format(ids, sent_lens))"
      ],
      "execution_count": 18,
      "outputs": [
        {
          "output_type": "stream",
          "name": "stdout",
          "text": [
            "Input: ('56+5235', '5291')\n",
            "Ids: [[9, 10, 3, 9, 6, 7, 9, 2], [9, 6, 13, 5, 2, 0, 0, 0]]\n",
            "Sentences lengths: [8, 5]\n"
          ]
        }
      ]
    },
    {
      "cell_type": "markdown",
      "metadata": {
        "id": "Ow2lghmIVPpG"
      },
      "source": [
        "## Encoder-Decoder architecture\n",
        "\n",
        "Encoder-Decoder is a successful architecture for Seq2Seq tasks with different lengths of input and output sequences. The main idea is to use two recurrent neural networks, where the first neural network *encodes* the input sequence into a real-valued vector and then the second neural network *decodes* this vector into the output sequence. While building the neural network, we will specify some particular characteristics of this architecture."
      ]
    },
    {
      "cell_type": "code",
      "metadata": {
        "collapsed": true,
        "id": "Mv_se3pTVPpH"
      },
      "source": [
        "import tensorflow as tf"
      ],
      "execution_count": 19,
      "outputs": []
    },
    {
      "cell_type": "markdown",
      "metadata": {
        "id": "P93z_fzsVPpH"
      },
      "source": [
        "Let us use TensorFlow building blocks to specify the network architecture."
      ]
    },
    {
      "cell_type": "code",
      "metadata": {
        "collapsed": true,
        "id": "OOQNp-xlVPpH"
      },
      "source": [
        "class Seq2SeqModel(object):\n",
        "    pass"
      ],
      "execution_count": 20,
      "outputs": []
    },
    {
      "cell_type": "markdown",
      "metadata": {
        "id": "1jbx64z0VPpH"
      },
      "source": [
        "First, we need to create [placeholders](https://www.tensorflow.org/api_guides/python/io_ops#Placeholders) to specify what data we are going to feed into the network during the execution time. For this task we will need:\n",
        " - *input_batch* — sequences of sentences (the shape will equal to [batch_size, max_sequence_len_in_batch]);\n",
        " - *input_batch_lengths* — lengths of not padded sequences (the shape equals to [batch_size]);\n",
        " - *ground_truth* — sequences of groundtruth (the shape will equal to [batch_size, max_sequence_len_in_batch]);\n",
        " - *ground_truth_lengths* — lengths of not padded groundtruth sequences (the shape equals to [batch_size]);\n",
        " - *dropout_ph* — dropout keep probability; this placeholder has a predifined value 1;\n",
        " - *learning_rate_ph* — learning rate."
      ]
    },
    {
      "cell_type": "code",
      "metadata": {
        "collapsed": true,
        "id": "EuB_IWgFVPpI"
      },
      "source": [
        "def declare_placeholders(self):\n",
        "    \"\"\"Specifies placeholders for the model.\"\"\"\n",
        "    # STUDENT CODE\n",
        "    \n",
        "    # Placeholders for input and its actual lengths.\n",
        "    self.input_batch = tf.placeholder(shape=(None, None), dtype=tf.int32, name='input_batch')\n",
        "    self.input_batch_lengths = tf.placeholder(shape=(None, ), dtype=tf.int32, name='input_batch_lengths')\n",
        "    \n",
        "    # Placeholders for groundtruth and its actual lengths.\n",
        "    self.ground_truth = tf.placeholder(shape=(None, None), dtype=tf.int32, name='ground_truth')\n",
        "    self.ground_truth_lengths = tf.placeholder(shape=(None, ), dtype=tf.int32, name='ground_truth_lengths')\n",
        "        \n",
        "    self.dropout_ph = tf.placeholder_with_default(tf.cast(1.0, tf.float32), shape=[])\n",
        "    self.learning_rate_ph = tf.placeholder(shape=[], dtype=tf.float32, name=\"learning_rate_ph\")"
      ],
      "execution_count": 69,
      "outputs": []
    },
    {
      "cell_type": "code",
      "metadata": {
        "collapsed": true,
        "id": "Ob0NWqYPVPpI"
      },
      "source": [
        "Seq2SeqModel.__declare_placeholders = classmethod(declare_placeholders)"
      ],
      "execution_count": 70,
      "outputs": []
    },
    {
      "cell_type": "markdown",
      "metadata": {
        "id": "o9-nptsWVPpI"
      },
      "source": [
        "Now, let us specify the layers of the neural network. First, we need to prepare an embedding matrix. Since we use the same vocabulary for input and output, we need only one such matrix. For tasks with different vocabularies there would be multiple embedding layers.\n",
        "- Create embeddings matrix with [tf.Variable](https://www.tensorflow.org/api_docs/python/tf/Variable). Specify its name, type (tf.float32), and initialize with random values.\n",
        "- Perform [embeddings lookup](https://www.tensorflow.org/api_docs/python/tf/nn/embedding_lookup) for a given input batch."
      ]
    },
    {
      "cell_type": "code",
      "metadata": {
        "collapsed": true,
        "id": "Uz6zFG38VPpI"
      },
      "source": [
        "def create_embeddings(self, vocab_size, embeddings_size):\n",
        "    \"\"\"Specifies embeddings layer and embeds an input batch.\"\"\"\n",
        "    \n",
        "    random_initializer = tf.random_uniform((vocab_size, embeddings_size), -1.0, 1.0)\n",
        "    # STUDENT CODE\n",
        "    self.embeddings = tf.Variable(dtype=tf.float32, \n",
        "                                  shape=(vocab_size, embeddings_size), \n",
        "                                  initial_value=random_initializer,\n",
        "                                  name=\"embeddings\")\n",
        "    # STUDENT CODE\n",
        "    # Perform embeddings lookup for self.input_batch. \n",
        "    self.input_batch_embedded = tf.nn.embedding_lookup(self.embeddings, self.input_batch)"
      ],
      "execution_count": 90,
      "outputs": []
    },
    {
      "cell_type": "code",
      "metadata": {
        "collapsed": true,
        "id": "vaO3jNa5VPpI"
      },
      "source": [
        "Seq2SeqModel.__create_embeddings = classmethod(create_embeddings)"
      ],
      "execution_count": 91,
      "outputs": []
    },
    {
      "cell_type": "markdown",
      "metadata": {
        "id": "jARxidIiVPpI"
      },
      "source": [
        "#### Encoder\n",
        "\n",
        "The first RNN of the current architecture is called an *encoder* and serves for encoding an input sequence to a real-valued vector. Input of this RNN is an embedded input batch. Since sentences in the same batch could have different actual lengths, we also provide input lengths to avoid unnecessary computations. The final encoder state will be passed to the second RNN (decoder), which we will create soon. \n",
        "\n",
        "- TensorFlow provides a number of [RNN cells](https://www.tensorflow.org/api_guides/python/contrib.rnn#Core_RNN_Cells_for_use_with_TensorFlow_s_core_RNN_methods) ready for use. We suggest that you use [GRU cell](https://www.tensorflow.org/api_docs/python/tf/contrib/rnn/GRUCell), but you can also experiment with other types. \n",
        "- Wrap your cells with [DropoutWrapper](https://www.tensorflow.org/api_docs/python/tf/contrib/rnn/DropoutWrapper). Dropout is an important regularization technique for neural networks. Specify input keep probability using the dropout placeholder that we created before.\n",
        "- Combine the defined encoder cells with [Dynamic RNN](https://www.tensorflow.org/api_docs/python/tf/nn/dynamic_rnn). Use the embedded input batches and their lengths here.\n",
        "- Use *dtype=tf.float32* everywhere."
      ]
    },
    {
      "cell_type": "code",
      "metadata": {
        "collapsed": true,
        "id": "qBM01bksVPpJ"
      },
      "source": [
        "# STUDENT CODE\n",
        "def build_encoder(self, hidden_size):\n",
        "    \"\"\"Specifies encoder architecture and computes its output.\"\"\"\n",
        "    \n",
        "    # Create GRUCell with dropout.\n",
        "    encoder_cell = tf.nn.rnn_cell.DropoutWrapper(\n",
        "        tf.nn.rnn_cell.GRUCell(hidden_size, dtype=tf.float32),\n",
        "        input_keep_prob = self.dropout_ph)    \n",
        "    # Create RNN with the predefined cell.\n",
        "    # See https://youtu.be/RIR_-Xlbp7s?t=1190\n",
        "    _, self.final_encoder_state = tf.nn.dynamic_rnn(\n",
        "        cell=encoder_cell, \n",
        "        inputs=self.input_batch_embedded,\n",
        "        sequence_length = self.input_batch_lengths,\n",
        "        dtype=tf.float32\n",
        "    )"
      ],
      "execution_count": 109,
      "outputs": []
    },
    {
      "cell_type": "code",
      "metadata": {
        "collapsed": true,
        "id": "lOoDxGAYVPpJ"
      },
      "source": [
        "Seq2SeqModel.__build_encoder = classmethod(build_encoder)"
      ],
      "execution_count": 110,
      "outputs": []
    },
    {
      "cell_type": "markdown",
      "metadata": {
        "id": "vdPB6tFeVPpJ"
      },
      "source": [
        "#### Decoder\n",
        "\n",
        "The second RNN is called a *decoder* and serves for generating the output sequence. In the simple seq2seq architecture, the input sequence is provided to the decoder only as the final state of the encoder. Obviously, it is a bottleneck and [Attention techniques](https://www.tensorflow.org/tutorials/seq2seq#background_on_the_attention_mechanism) can help to overcome it. So far, we do not need them to make our calculator work, but this would be a necessary ingredient for more advanced tasks. \n",
        "\n",
        "During training, decoder also uses information about the true output. It is feeded in as input symbol by symbol. However, during the prediction stage (which is called *inference* in this architecture), the decoder can only use its own generated output from the previous step to feed it in at the next step. Because of this difference (*training* vs *inference*), we will create two distinct instances, which will serve for the described scenarios.\n",
        "\n",
        "The picture below illustrates the point. It also shows our work with the special characters, e.g. look how the start symbol `^` is used. The transparent parts are ignored. In decoder, it is masked out in the loss computation. In encoder, the green state is considered as final and passed to the decoder. "
      ]
    },
    {
      "cell_type": "markdown",
      "metadata": {
        "id": "XQ35EkXIVPpJ"
      },
      "source": [
        "<img src=\"https://github.com/gromag/natural-language-processing/blob/master/week4/encoder-decoder-pic.png?raw=1\" style=\"width: 500px;\">"
      ]
    },
    {
      "cell_type": "markdown",
      "metadata": {
        "id": "vkSXl3usVPpJ"
      },
      "source": [
        "Now, it's time to implement the decoder:\n",
        " - First, we should create two [helpers](https://www.tensorflow.org/api_guides/python/contrib.seq2seq#Dynamic_Decoding). These classes help to determine the behaviour of the decoder. During the training time, we will use [TrainingHelper](https://www.tensorflow.org/api_docs/python/tf/contrib/seq2seq/TrainingHelper). For the inference we recommend to use [GreedyEmbeddingHelper](https://www.tensorflow.org/api_docs/python/tf/contrib/seq2seq/GreedyEmbeddingHelper).\n",
        " - To share all parameters during training and inference, we use one scope and set the flag 'reuse' to True at inference time. You might be interested to know more about how [variable scopes](https://www.tensorflow.org/programmers_guide/variables) work in TF. \n",
        " - To create the decoder itself, we will use [BasicDecoder](https://www.tensorflow.org/api_docs/python/tf/contrib/seq2seq/BasicDecoder) class. As previously, you should choose some RNN cell, e.g. GRU cell. To turn hidden states into logits, we will need a projection layer. One of the simple solutions is using [OutputProjectionWrapper](https://www.tensorflow.org/api_docs/python/tf/contrib/rnn/OutputProjectionWrapper).\n",
        " - For getting the predictions, it will be convinient to use [dynamic_decode](https://www.tensorflow.org/api_docs/python/tf/contrib/seq2seq/dynamic_decode). This function uses the provided decoder to perform decoding."
      ]
    },
    {
      "cell_type": "code",
      "metadata": {
        "id": "MzGExEO9JsOd",
        "colab": {
          "base_uri": "https://localhost:8080/"
        },
        "outputId": "38a0e06e-ef97-4bfe-98cc-b017dfbd3ddc"
      },
      "source": [
        "tf.expand_dims??\n",
        "tf.concat??\n",
        "# tf.fill??\n",
        "tf.contrib.seq2seq.dynamic_decode??\n",
        "\n",
        "import numpy as np\n",
        "\n",
        "a = np.array([[[1, 1.2, 1.3], [2, 2.2, 2.3], [7, 7.2, 7.3]],\n",
        "              [[3, 3.2, 3.3], [4, 4.2, 4.3], [8, 8.2, 8.3]],\n",
        "              [[5, 5.2, 5.3], [6, 6.2, 6.3], [9, 9.2, 9.3]]]) \n",
        "\n",
        "with tf.Session() as sess:\n",
        "  print(tf.strided_slice(a, [0, 0, 0], [3, 3, 3], [1, 1, 1]).eval())\n"
      ],
      "execution_count": 111,
      "outputs": [
        {
          "output_type": "stream",
          "name": "stdout",
          "text": [
            "[[[1.  1.2 1.3]\n",
            "  [2.  2.2 2.3]\n",
            "  [7.  7.2 7.3]]\n",
            "\n",
            " [[3.  3.2 3.3]\n",
            "  [4.  4.2 4.3]\n",
            "  [8.  8.2 8.3]]\n",
            "\n",
            " [[5.  5.2 5.3]\n",
            "  [6.  6.2 6.3]\n",
            "  [9.  9.2 9.3]]]\n"
          ]
        }
      ]
    },
    {
      "cell_type": "code",
      "metadata": {
        "collapsed": true,
        "id": "bIdwE7mYVPpJ"
      },
      "source": [
        "def build_decoder(self, hidden_size, vocab_size, max_iter, start_symbol_id, end_symbol_id):\n",
        "    \"\"\"Specifies decoder architecture and computes the output.\n",
        "    \n",
        "        Uses different helpers:\n",
        "          - for train: feeding ground truth\n",
        "          - for inference: feeding generated output\n",
        "\n",
        "        As a result, self.train_outputs and self.infer_outputs are created. \n",
        "        Each of them contains two fields:\n",
        "          rnn_output (predicted logits)\n",
        "          sample_id (predictions).\n",
        "\n",
        "    \"\"\"\n",
        "    \n",
        "    # Use start symbols as the decoder inputs at the first time step.\n",
        "    batch_size = tf.shape(self.input_batch)[0]\n",
        "    start_tokens = tf.fill([batch_size], start_symbol_id)\n",
        "    ground_truth_as_input = tf.concat([tf.expand_dims(start_tokens, 1), self.ground_truth], 1)\n",
        "    \n",
        "    # STUDENT CODE\n",
        "    # TODO: revisit\n",
        "    # Use the embedding layer defined before to lookup embeddings for ground_truth_as_input. \n",
        "    self.ground_truth_embedded = tf.nn.embedding_lookup(self.embeddings, ground_truth_as_input)\n",
        "     \n",
        "    # Create TrainingHelper for the train stage.\n",
        "    train_helper = tf.contrib.seq2seq.TrainingHelper(self.ground_truth_embedded, \n",
        "                                                     self.ground_truth_lengths)\n",
        "    # STUDENT CODE\n",
        "    # TODO: revisit\n",
        "    # Create GreedyEmbeddingHelper for the inference stage.\n",
        "    # You should provide the embedding layer, start_tokens and index of the end symbol.\n",
        "    infer_helper = tf.contrib.seq2seq.GreedyEmbeddingHelper(self.embeddings, start_tokens, end_symbol_id)\n",
        "    \n",
        "  \n",
        "    def decode(helper, scope, reuse=None):\n",
        "        \"\"\"Creates decoder and return the results of the decoding with a given helper.\"\"\"\n",
        "        \n",
        "        with tf.variable_scope(scope, reuse=reuse):\n",
        "            # STUDENT CODE\n",
        "            # Create GRUCell with dropout. Do not forget to set the reuse flag properly.\n",
        "            decoder_cell = tf.nn.rnn_cell.DropoutWrapper(\n",
        "              tf.nn.rnn_cell.GRUCell(hidden_size, dtype=tf.float32, reuse=reuse),\n",
        "              input_keep_prob = self.dropout_ph) \n",
        "            \n",
        "            # Create a projection wrapper.\n",
        "            decoder_cell = tf.contrib.rnn.OutputProjectionWrapper(decoder_cell, vocab_size, reuse=reuse)\n",
        "            \n",
        "            # STUDENT CODE\n",
        "            # Create BasicDecoder, pass the defined cell, a helper, and initial state.\n",
        "            # The initial state should be equal to the final state of the encoder!\n",
        "            decoder = tf.contrib.seq2seq.BasicDecoder(decoder_cell, helper, self.final_encoder_state)\n",
        "            \n",
        "            # The first returning argument of dynamic_decode contains two fields:\n",
        "            #   rnn_output (predicted logits)\n",
        "            #   sample_id (predictions)\n",
        "            # see: https://youtu.be/RIR_-Xlbp7s?t=1844\n",
        "            outputs, _, _ = tf.contrib.seq2seq.dynamic_decode(decoder=decoder, maximum_iterations=max_iter, \n",
        "                                                              output_time_major=False, impute_finished=True)\n",
        "\n",
        "            return outputs\n",
        "        \n",
        "    self.train_outputs = decode(train_helper, 'decode')\n",
        "    self.infer_outputs = decode(infer_helper, 'decode', reuse=True)"
      ],
      "execution_count": 126,
      "outputs": []
    },
    {
      "cell_type": "code",
      "metadata": {
        "collapsed": true,
        "id": "n2jCyBfEVPpK"
      },
      "source": [
        "Seq2SeqModel.__build_decoder = classmethod(build_decoder)"
      ],
      "execution_count": 127,
      "outputs": []
    },
    {
      "cell_type": "markdown",
      "metadata": {
        "id": "8N1vxENAVPpK"
      },
      "source": [
        "In this task we will use [sequence_loss](https://www.tensorflow.org/api_docs/python/tf/contrib/seq2seq/sequence_loss), which is a weighted cross-entropy loss for a sequence of logits. Take a moment to understand, what is your train logits and targets. Also note, that we do not want to take into account loss terms coming from padding symbols, so we will mask them out using weights.  "
      ]
    },
    {
      "cell_type": "code",
      "metadata": {
        "id": "Qo_9t1k9ej9c"
      },
      "source": [
        "tf.contrib.seq2seq.sequence_loss??\n",
        "# tf.sequence_mask??\n",
        "# # tf.cast??\n",
        "# m = tf.cast(tf.sequence_mask([1,2,3,4]), dtype=tf.float32)\n",
        "# with tf.Session() as sess:\n",
        "#   print(m.eval())\n",
        "tf.identity??"
      ],
      "execution_count": 140,
      "outputs": []
    },
    {
      "cell_type": "code",
      "metadata": {
        "collapsed": true,
        "id": "_xka1zKKVPpK"
      },
      "source": [
        "def compute_loss(self):\n",
        "    \"\"\"Computes sequence loss (masked cross-entopy loss with logits).\"\"\"\n",
        "    \n",
        "    weights = tf.cast(tf.sequence_mask(self.ground_truth_lengths), dtype=tf.float32)\n",
        "    # STUDENT CODE\n",
        "    # TODO: revisit\n",
        "    self.loss = tf.contrib.seq2seq.sequence_loss(self.train_outputs.rnn_output, self.ground_truth, weights)"
      ],
      "execution_count": 163,
      "outputs": []
    },
    {
      "cell_type": "code",
      "metadata": {
        "collapsed": true,
        "id": "DVnqWrjqVPpK"
      },
      "source": [
        "Seq2SeqModel.__compute_loss = classmethod(compute_loss)"
      ],
      "execution_count": 164,
      "outputs": []
    },
    {
      "cell_type": "markdown",
      "metadata": {
        "id": "Ljh25cMUVPpK"
      },
      "source": [
        "The last thing to specify is the optimization of the defined loss. \n",
        "We suggest that you use [optimize_loss](https://www.tensorflow.org/api_docs/python/tf/contrib/layers/optimize_loss) with Adam optimizer and a learning rate from the corresponding placeholder. You might also need to pass global step (e.g. as tf.train.get_global_step()) and clip gradients by 1.0."
      ]
    },
    {
      "cell_type": "code",
      "metadata": {
        "collapsed": true,
        "id": "vRCYdu0PVPpK"
      },
      "source": [
        "def perform_optimization(self):\n",
        "    \"\"\"Specifies train_op that optimizes self.loss.\"\"\"\n",
        "\n",
        "    # STUDENT CODE\n",
        "    # see week2 assignment\n",
        "    self.optimizer =  tf.train.AdamOptimizer(learning_rate=self.learning_rate_ph)\n",
        "    self.grads_and_vars = self.optimizer.compute_gradients(self.loss)\n",
        "    clip_norm = tf.cast(1.0, tf.float32)\n",
        "    self.grads_and_vars = [(tf.clip_by_norm(g, clip_norm=clip_norm), v) for g, v in self.grads_and_vars]    \n",
        "    self.train_op = self.optimizer.apply_gradients(self.grads_and_vars)"
      ],
      "execution_count": 165,
      "outputs": []
    },
    {
      "cell_type": "code",
      "metadata": {
        "collapsed": true,
        "id": "ms3XTTwmVPpK"
      },
      "source": [
        "Seq2SeqModel.__perform_optimization = classmethod(perform_optimization)"
      ],
      "execution_count": 166,
      "outputs": []
    },
    {
      "cell_type": "markdown",
      "metadata": {
        "id": "tvWFCWe_VPpL"
      },
      "source": [
        "Congratulations! You have specified all the parts of your network. You may have noticed, that we didn't deal with any real data yet, so what you have written is just recipies on how the network should function.\n",
        "Now we will put them to the constructor of our Seq2SeqModel class to use it in the next section. "
      ]
    },
    {
      "cell_type": "code",
      "metadata": {
        "collapsed": true,
        "id": "NTSEPGYjVPpL"
      },
      "source": [
        "def init_model(self, vocab_size, embeddings_size, hidden_size, \n",
        "               max_iter, start_symbol_id, end_symbol_id, padding_symbol_id):\n",
        "    \n",
        "    self.__declare_placeholders()\n",
        "    self.__create_embeddings(vocab_size, embeddings_size)\n",
        "    self.__build_encoder(hidden_size)\n",
        "    self.__build_decoder(hidden_size, vocab_size, max_iter, start_symbol_id, end_symbol_id)\n",
        "    \n",
        "    # Compute loss and back-propagate.\n",
        "    self.__compute_loss()\n",
        "    self.__perform_optimization()\n",
        "    \n",
        "    # Get predictions for evaluation.\n",
        "    self.train_predictions = self.train_outputs.sample_id\n",
        "    self.infer_predictions = self.infer_outputs.sample_id"
      ],
      "execution_count": 167,
      "outputs": []
    },
    {
      "cell_type": "code",
      "metadata": {
        "collapsed": true,
        "id": "kCj42TmOVPpL"
      },
      "source": [
        "Seq2SeqModel.__init__ = classmethod(init_model)"
      ],
      "execution_count": 168,
      "outputs": []
    },
    {
      "cell_type": "markdown",
      "metadata": {
        "id": "qyCgRe3fVPpL"
      },
      "source": [
        "## Train the network and predict output\n",
        "\n",
        "[Session.run](https://www.tensorflow.org/api_docs/python/tf/Session#run) is a point which initiates computations in the graph that we have defined. To train the network, we need to compute *self.train_op*. To predict output, we just need to compute *self.infer_predictions*. In any case, we need to feed actual data through the placeholders that we defined above. "
      ]
    },
    {
      "cell_type": "code",
      "metadata": {
        "collapsed": true,
        "id": "jy0IgTclVPpL"
      },
      "source": [
        "def train_on_batch(self, session, X, X_seq_len, Y, Y_seq_len, learning_rate, dropout_keep_probability):\n",
        "    # STUDENT CODE\n",
        "    feed_dict = {\n",
        "            self.input_batch: X,\n",
        "            self.input_batch_lengths: X_seq_len,\n",
        "            self.ground_truth: Y,\n",
        "            self.ground_truth_lengths: Y_seq_len,\n",
        "            self.learning_rate_ph: learning_rate,\n",
        "            self.dropout_ph: dropout_keep_probability\n",
        "        }\n",
        "    pred, loss, _ = session.run([\n",
        "            self.train_predictions,\n",
        "            self.loss,\n",
        "            self.train_op], feed_dict=feed_dict)\n",
        "    return pred, loss"
      ],
      "execution_count": 169,
      "outputs": []
    },
    {
      "cell_type": "code",
      "metadata": {
        "collapsed": true,
        "id": "4toojwZsVPpL"
      },
      "source": [
        "Seq2SeqModel.train_on_batch = classmethod(train_on_batch)"
      ],
      "execution_count": 170,
      "outputs": []
    },
    {
      "cell_type": "markdown",
      "metadata": {
        "id": "OMur7c4HVPpL"
      },
      "source": [
        "We implemented two prediction functions: *predict_for_batch* and *predict_for_batch_with_loss*. The first one allows only to predict output for some input sequence, while the second one could compute loss because we provide also ground truth values. Both these functions might be useful since the first one could be used for predicting only, and the second one is helpful for validating results on not-training data during the training."
      ]
    },
    {
      "cell_type": "code",
      "metadata": {
        "collapsed": true,
        "id": "gN8u2xh-VPpL"
      },
      "source": [
        "def predict_for_batch(self, session, X, X_seq_len):\n",
        "    # STUDENT CODE \n",
        "    feed_dict = {\n",
        "            self.input_batch: X,\n",
        "            self.input_batch_lengths: X_seq_len,\n",
        "    }\n",
        "\n",
        "    pred = session.run([\n",
        "            self.infer_predictions\n",
        "        ], feed_dict=feed_dict)[0]\n",
        "    return pred\n",
        "\n",
        "def predict_for_batch_with_loss(self, session, X, X_seq_len, Y, Y_seq_len):\n",
        "    # STUDENT CODE\n",
        "    feed_dict = {\n",
        "            self.input_batch: X,\n",
        "            self.input_batch_lengths: X_seq_len,\n",
        "            self.ground_truth: Y,\n",
        "            self.ground_truth_lengths: Y_seq_len,\n",
        "    }    \n",
        "    \n",
        "    pred, loss = session.run([\n",
        "            self.infer_predictions,\n",
        "            self.loss,\n",
        "        ], feed_dict=feed_dict)\n",
        "\n",
        "    return pred, loss"
      ],
      "execution_count": 171,
      "outputs": []
    },
    {
      "cell_type": "code",
      "metadata": {
        "collapsed": true,
        "id": "4ZKMHEx1VPpM"
      },
      "source": [
        "Seq2SeqModel.predict_for_batch = classmethod(predict_for_batch)\n",
        "Seq2SeqModel.predict_for_batch_with_loss = classmethod(predict_for_batch_with_loss)"
      ],
      "execution_count": 172,
      "outputs": []
    },
    {
      "cell_type": "markdown",
      "metadata": {
        "id": "4w6t9GjKVPpM"
      },
      "source": [
        "## Run your experiment\n",
        "\n",
        "Create *Seq2SeqModel* model with the following parameters:\n",
        " - *vocab_size* — number of tokens;\n",
        " - *embeddings_size* — dimension of embeddings, recommended value: 20;\n",
        " - *max_iter* — maximum number of steps in decoder, recommended value: 7;\n",
        " - *hidden_size* — size of hidden layers for RNN, recommended value: 512;\n",
        " - *start_symbol_id* — an index of the start token (`^`).\n",
        " - *end_symbol_id* — an index of the end token (`$`).\n",
        " - *padding_symbol_id* — an index of the padding token (`#`).\n",
        "\n",
        "Set hyperparameters. You might want to start with the following values and see how it works:\n",
        "- *batch_size*: 128;\n",
        "- at least 10 epochs;\n",
        "- value of *learning_rate*: 0.001\n",
        "- *dropout_keep_probability* equals to 0.5 for training (typical values for dropout probability are ranging from 0.1 to 1.0); larger values correspond smaller number of dropout units;\n",
        "- *max_len*: 20."
      ]
    },
    {
      "cell_type": "code",
      "metadata": {
        "collapsed": true,
        "id": "JzR263esVPpM"
      },
      "source": [
        "tf.reset_default_graph()\n",
        "\n",
        "# STUDENT CODE\n",
        "model = Seq2SeqModel(\n",
        "            vocab_size = len(id2word), \n",
        "            embeddings_size = 20, \n",
        "            hidden_size = 512, \n",
        "            max_iter = 7, \n",
        "            start_symbol_id = word2id[\"^\"], \n",
        "            end_symbol_id = word2id[\"$\"], \n",
        "            padding_symbol_id = word2id[\"#\"]\n",
        "        )\n",
        "# STUDENT CODE \n",
        "batch_size = 128\n",
        "n_epochs = 10\n",
        "learning_rate = 0.001\n",
        "dropout_keep_probability = 0.5\n",
        "max_len = 20\n",
        "\n",
        "n_step = int(len(train_set) / batch_size)"
      ],
      "execution_count": 173,
      "outputs": []
    },
    {
      "cell_type": "markdown",
      "metadata": {
        "id": "jsmZKRnqVPpM"
      },
      "source": [
        "Finally, we are ready to run the training! A good indicator that everything works fine is decreasing loss during the training. You should account on the loss value equal to approximately 2.7 at the beginning of the training and near 1 after the 10th epoch."
      ]
    },
    {
      "cell_type": "code",
      "metadata": {
        "id": "UQ0O-rfdMJFM"
      },
      "source": [
        "predictions = [[ 8,  6,  6, 14,  2,  0],\n",
        " [ 5, 10,  6,  6, 14,  2],\n",
        " [11, 14,  6,  5,  2,  0],\n",
        " [ 7, 13,  6,  9,  2,  0],\n",
        " [ 7, 13,  6,  9,  2,  0],\n",
        " [ 5, 12,  8,  2,  0,  0],\n",
        " [ 4, 12, 12,  8, 14,  2],\n",
        " [ 4,  5, 12,  8,  2,  0],\n",
        " [ 5,  6,  6,  6, 14,  2],\n",
        " [ 4,  5, 12, 12,  2,  0],\n",
        " [11, 13, 13,  5,  2,  0],\n",
        " [ 6, 13,  6,  5,  2,  0],\n",
        " [ 8,  6,  6,  7,  2,  0],\n",
        " [ 5,  6,  6,  6, 14,  2],\n",
        " [11, 14,  6, 14,  2,  0],\n",
        " [ 6, 13,  6,  2,  0,  0],\n",
        " [ 4,  5, 12,  6,  2,  0],\n",
        " [ 5,  6, 13,  6, 14,  2],\n",
        " [ 5, 10, 14,  6, 14,  2],\n",
        " [ 5,  6, 13,  6, 14,  2],\n",
        " [ 9, 13,  6, 14,  2,  0],\n",
        " [ 5,  8,  6,  6, 14,  2],\n",
        " [13, 13,  6, 14,  2,  0],\n",
        " [ 5,  8,  6,  6, 14,  2],\n",
        " [ 5, 12,  6,  2,  0,  0],\n",
        " [ 4, 11,  8,  8, 11,  2],\n",
        " [ 4,  5,  8,  6,  2,  0],\n",
        " [ 5, 12,  6,  2,  0,  0],\n",
        " [ 4,  6, 12,  8, 14,  2],\n",
        " [ 5,  6,  6,  6, 14,  2],\n",
        " [ 7,  6,  6,  7,  2,  0],\n",
        " [ 4,  5, 12,  8, 14,  2],\n",
        " [ 4,  8,  8,  8, 11,  2],\n",
        " [ 5, 14,  6,  5, 14,  2],\n",
        " [13, 13,  6, 14,  2,  0],\n",
        " [ 5, 14,  6,  6, 14,  2],\n",
        " [ 5,  8,  6,  6, 14,  2],\n",
        " [ 4,  8,  8,  8, 11,  2],\n",
        " [ 7, 13,  6,  9,  2,  0],\n",
        " [10, 14,  6, 14,  2,  0],\n",
        " [ 4,  8,  8,  8, 14,  2],\n",
        " [ 9, 13, 14, 14,  2,  0],\n",
        " [ 8,  6,  6,  5,  2,  0],\n",
        " [ 4,  8,  8,  6, 11,  2],\n",
        " [ 4,  5,  6, 12,  2,  0],\n",
        " [ 5, 12, 12,  2,  0,  0],\n",
        " [ 4,  5, 12, 12,  2,  0],\n",
        " [ 5, 14,  6,  6, 14,  2],\n",
        " [13, 13,  6, 14,  2,  0],\n",
        " [ 5,  6, 13,  6, 14,  2],\n",
        " [10, 13,  6,  5,  2,  0],\n",
        " [ 5, 12,  6,  2,  0,  0],\n",
        " [11, 14,  6, 14,  2,  0],\n",
        " [ 7, 12,  6,  7,  2,  0],\n",
        " [ 4, 11,  8,  8, 11,  2],\n",
        " [ 6, 12,  6,  2,  0,  0],\n",
        " [13, 13,  6, 14,  2,  0],\n",
        " [11, 14,  6,  6,  2,  0],\n",
        " [11, 13, 13,  5,  2,  0],\n",
        " [ 6, 12,  6,  2,  0,  0],\n",
        " [ 5, 12,  6,  2,  0,  0],\n",
        " [ 6,  6,  6,  7,  2,  0],\n",
        " [10, 13,  6, 14,  2,  0],\n",
        " [ 5, 10,  6,  6, 14,  2],\n",
        " [ 5,  6,  6,  6, 14,  2],\n",
        " [ 5,  6,  6,  6, 14,  2],\n",
        " [ 6, 12,  6,  2,  0,  0],\n",
        " [ 5, 14,  6,  6, 14,  2],\n",
        " [12, 13,  6, 14,  2,  0],\n",
        " [ 4,  5, 12, 12,  2,  0],\n",
        " [11, 14,  6, 14,  2,  0],\n",
        " [ 4,  6, 12,  8, 14,  2],\n",
        " [ 5,  6, 13,  6, 14,  2],\n",
        " [ 4,  5, 12, 12,  2,  0],\n",
        " [ 4, 11,  8,  8, 11,  2],\n",
        " [ 4, 12, 12,  8, 14,  2],\n",
        " [ 5,  6,  6,  6, 14,  2],\n",
        " [ 4,  8, 12,  8, 14,  2],\n",
        " [ 4,  8,  8,  8, 14,  2],\n",
        " [ 5, 11,  8,  6, 14,  2],\n",
        " [ 4,  5, 12,  8,  2,  0],\n",
        " [ 4,  8,  8,  8, 11,  2],\n",
        " [ 8, 13,  6, 14,  2,  0],\n",
        " [ 4,  5, 12,  8, 14,  2],\n",
        " [ 5, 12, 12,  2,  0,  0],\n",
        " [ 4,  8,  8,  8, 14,  2],\n",
        " [ 4, 11,  8,  8, 11,  2],\n",
        " [ 5, 11,  8,  6, 14,  2],\n",
        " [ 4,  5, 12,  8, 14,  2],\n",
        " [ 4,  5, 12,  8, 14,  2],\n",
        " [12, 13,  6, 14,  2,  0],\n",
        " [ 8, 13,  6,  5,  2,  0],\n",
        " [ 5,  8,  6,  6, 14,  2],\n",
        " [ 5,  8,  6,  6, 14,  2],\n",
        " [ 9,  7,  6,  7,  2,  0],\n",
        " [ 9, 13,  6, 14,  2,  0],\n",
        " [11, 14,  6, 14,  2,  0],\n",
        " [ 6, 12,  6,  2,  0,  0],\n",
        " [ 5, 14,  6,  6, 14,  2],\n",
        " [ 5, 11,  8,  6, 14,  2],\n",
        " [12, 13,  6, 14,  2,  0],\n",
        " [ 4,  5, 12,  8,  2,  0],\n",
        " [ 8,  6,  6, 14,  2,  0],\n",
        " [ 4, 11,  8,  8, 11,  2],\n",
        " [ 4,  6, 12,  8, 14,  2],\n",
        " [ 5, 12,  8,  2,  0,  0],\n",
        " [ 4,  8,  8,  6,  6,  2],\n",
        " [ 5,  6,  6,  6, 14,  2],\n",
        " [ 8,  6,  6,  7,  2,  0],\n",
        " [13, 13,  6, 14,  2,  0],\n",
        " [ 5,  6, 13,  6, 14,  2],\n",
        " [ 4, 11,  8, 11, 11,  2],\n",
        " [ 4,  8,  8,  8, 11,  2],\n",
        " [ 8,  6,  6,  5,  2,  0],\n",
        " [13, 13,  6, 14,  2,  0],\n",
        " [ 5,  6,  6,  6, 14,  2],\n",
        " [ 5, 14,  6,  5, 14,  2],\n",
        " [ 9, 13,  6,  5,  2,  0],\n",
        " [ 6, 13,  6,  5,  2,  0],\n",
        " [ 5, 12, 12,  2,  0,  0],\n",
        " [ 5, 14,  6,  5, 14,  2],\n",
        " [ 4,  5, 12,  8,  2,  0],\n",
        " [ 5,  6,  6,  6, 14,  2],\n",
        " [11, 14,  6,  6,  2,  0],\n",
        " [ 4,  5, 12, 12, 14,  2],\n",
        " [10, 14,  6, 14,  2,  0],\n",
        " [ 6, 12,  6,  2,  0,  0],\n",
        " [ 5,  6,  6,  6, 14,  2]]"
      ],
      "execution_count": 186,
      "outputs": []
    },
    {
      "cell_type": "code",
      "metadata": {
        "id": "BCJlazSdPgBX"
      },
      "source": [
        "\n",
        "\n",
        "  if(Y_batch_as_int[i]\n",
        "\n"
      ],
      "execution_count": 188,
      "outputs": []
    },
    {
      "cell_type": "code",
      "metadata": {
        "collapsed": true,
        "scrolled": true,
        "id": "vAwEifNUVPpM",
        "colab": {
          "base_uri": "https://localhost:8080/"
        },
        "outputId": "6e28d156-1a09-42a2-8c99-71edaf9dace5"
      },
      "source": [
        "session = tf.Session()\n",
        "session.run(tf.global_variables_initializer())\n",
        "            \n",
        "invalid_number_prediction_counts = []\n",
        "all_model_predictions = []\n",
        "all_ground_truth = []\n",
        "\n",
        "print('Start training... \\n')\n",
        "for epoch in range(n_epochs):  \n",
        "    random.shuffle(train_set)\n",
        "    random.shuffle(test_set)\n",
        "    \n",
        "    print('Train: epoch', epoch + 1)\n",
        "    for n_iter, (X_batch, Y_batch) in enumerate(generate_batches(train_set, batch_size=batch_size)):\n",
        "\n",
        "        # STUDENT CODE\n",
        "        # prepare the data (X_batch and Y_batch) for training\n",
        "        # using function batch_to_ids\n",
        "        X_batch_ids, X_seq_len = batch_to_ids(X_batch, word2id, max_len)\n",
        "        Y_batch_ids, Y_seq_len = batch_to_ids(Y_batch, word2id, max_len)\n",
        "        predictions, loss = model.train_on_batch(session, X_batch_ids, X_seq_len, Y_batch_ids, Y_seq_len, learning_rate, dropout_keep_probability)\n",
        "\n",
        "        \n",
        "        if n_iter % 200 == 0:\n",
        "            print(\"Epoch: [%d/%d], step: [%d/%d], loss: %f\" % (epoch + 1, n_epochs, n_iter + 1, n_step, loss))\n",
        "                \n",
        "    X_sent, Y_sent = next(generate_batches(test_set, batch_size=batch_size))\n",
        "    # STUDENT CODE\n",
        "    # prepare test data (X_sent and Y_sent) for predicting \n",
        "    # quality and computing value of the loss function\n",
        "    # using function batch_to_ids\n",
        "    X, X_seq_len = batch_to_ids(X_sent, word2id, max_len)\n",
        "    Y, Y_seq_len = batch_to_ids(Y_sent, word2id, max_len)\n",
        "    predictions, loss = model.predict_for_batch_with_loss(session, X, X_seq_len, Y, Y_seq_len)\n",
        "    \n",
        "    print('Test: epoch', epoch + 1, 'loss:', loss,)\n",
        "    for x, y, p  in list(zip(X, Y, predictions))[:3]:\n",
        "        print('X:',''.join(ids_to_sentence(x, id2word)))\n",
        "        print('Y:',''.join(ids_to_sentence(y, id2word)))\n",
        "        print('O:',''.join(ids_to_sentence(p, id2word)))\n",
        "        print('')\n",
        "\n",
        "    model_predictions = []\n",
        "    ground_truth = []\n",
        "    invalid_number_prediction_count = 0\n",
        "    # STUDENT CODE\n",
        "    # For the whole test set calculate ground-truth values (as integer numbers)\n",
        "    # and prediction values (also as integers) to calculate metrics.\n",
        "    # If generated by model number is not correct (e.g. '1-1'), \n",
        "    # increase invalid_number_prediction_count and don't append this and corresponding\n",
        "    # ground-truth value to the arrays.\n",
        "    for X_batch, Y_batch in generate_batches(test_set, batch_size=batch_size):\n",
        "        Y_batch_as_int = [int(y) for y in Y_batch]\n",
        "        ground_truth = ground_truth + [Y_batch_as_int]\n",
        "        X_batch_ids, X_seq_len = batch_to_ids(X_batch, word2id, max_len)\n",
        "        predictions = model.predict_for_batch(session, X_batch_ids, X_seq_len)\n",
        "        for i, p in enumerate(predictions):\n",
        "            output_padded = ids_to_sentence(p, id2word)\n",
        "            output = output_padded[:output_padded.index('$')]\n",
        "            output = ''.join(output)\n",
        "            output_int = None\n",
        "            try:\n",
        "              output_int = int(output)\n",
        "              if output_int != X_batch_as_int[i]:\n",
        "                raise ValueError(\"Prediction did not match\")\n",
        "            except Exception as e:\n",
        "              invalid_number_prediction_count +=1\n",
        "              print(e)\n",
        "\n",
        "            model_predictions = model_predictions + [output_int]              \n",
        "\n",
        "    all_model_predictions.append(model_predictions)\n",
        "    all_ground_truth.append(ground_truth)\n",
        "    invalid_number_prediction_counts.append(invalid_number_prediction_count)\n",
        "            \n",
        "print('\\n...training finished.')"
      ],
      "execution_count": null,
      "outputs": [
        {
          "output_type": "stream",
          "name": "stdout",
          "text": [
            "Start training... \n",
            "\n",
            "Train: epoch 1\n",
            "Epoch: [1/10], step: [1/625], loss: 2.716258\n"
          ]
        }
      ]
    },
    {
      "cell_type": "code",
      "metadata": {
        "id": "WZc5I1gzHZPH",
        "outputId": "6325a369-0f08-4d74-a36f-e90a15875d99",
        "colab": {
          "base_uri": "https://localhost:8080/"
        }
      },
      "source": [
        "    for X_batch, Y_batch in generate_batches(test_set, batch_size=batch_size):\n",
        "      Y_batch_as_int = [int(y) for y in Y_batch]\n",
        "      print(Y_batch_as_int)"
      ],
      "execution_count": 177,
      "outputs": [
        {
          "output_type": "stream",
          "name": "stdout",
          "text": [
            "[10147, -3186, -4152, 4771, 18719, 1929, 13592, -5826, 11262, 5118, 7046, 18685, 6513, -4627, 12057, 4181, 18623, 5642, 357, 3099, 13845, 10823, -6311, -4000, -5971, 2049, 3364, -3630, 1795, 4445, 1658, -5578, 5702, 13012, 2467, 10271, 4396, 12467, 10689, 9410, 16345, 1144, 12940, 13224, 1891, 12281, -249, 8871, 9008, 7714, 10654, 7022, 10070, -6073, 5343, 17808, 18587, 6933, 95, 14533, 6869, -374, 12713, 4586, -3845, 869, 3132, 936, 191, 3403, -1345, 14731, 11626, 16109, -8539, 4832, 4601, 6714, 2286, -833, 5170, 18819, 10405, -1612, -220, 1923, 9110, 12101, 11810, 5452, 10242, 801, 6794, 4160, 2166, 9206, 14153, 14158, 18124, 7125, 554, 13929, 7919, 3311, 2358, 10919, 11465, 13716, 5290, 59, 10673, -1134, 685, -2936, 4559, 10965, 10525, 10496, 13221, 3277, 12359, 10090, -7864, 9945, 1549, 3502, -9154, 7337]\n",
            "[9822, 10054, 6877, -5041, 12249, 7568, 2634, -7480, 13045, 8463, 4249, -1093, 6473, 8129, 7098, 2864, -1907, 14352, -1813, 16562, 748, -1014, 3953, 563, 6826, 7863, 4300, -5711, 6934, 4151, 3468, 1256, -3526, -1398, 10545, 12254, 13682, 11578, 11691, 3078, 2414, 15688, -2257, 8717, 7664, 6684, 11368, -1462, 10968, -1524, -5821, 8198, 645, 12151, 3907, 10556, 2369, -5631, 11387, 11438, 8527, 2394, 11979, 123, 13260, 9, -333, 9786, -501, -434, 10857, 3492, 6462, -7617, 3972, 828, 802, -447, 4529, 12865, 4857, -3324, -6324, 421, 15747, 9688, 16266, -3451, -1346, 10836, 1546, 12073, 1091, 4895, 17116, 7979, -5666, 13605, 10451, 6046, 11931, 1780, 10702, 1220, 14620, -840, -512, 11945, -4905, 9544, 1340, 5142, 8113, 17443, 838, 8959, 18204, -5728, 8360, 1519, 6226, 4872, 1803, 2917, 7481, 4593, 2939, -7433]\n",
            "[-2965, 3067, 13049, 2077, 4682, 1774, 2449, 1981, 2429, 9920, 61, 1506, -282, -1111, -3268, 12022, 9684, 12073, -1189, 983, 12083, 8813, 8599, 9657, 42, -7225, 406, -4614, 11170, 5299, 11519, 5925, 13521, 15600, 4637, 10023, 1112, 9065, 4164, -9418, 3318, 3113, 1873, 12142, -438, 15104, -3593, 9460, 14234, 1423, 10366, 6366, 10302, 5143, 9328, 11607, 8788, 15121, -2286, 3929, 1813, 1982, 7735, 3320, -4054, 12621, 5339, 2095, 7259, 9562, -5490, 1085, 1631, 3089, 8481, 18170, 8105, 5785, 10055, -373, 13420, -536, 1329, 2315, 7417, 4188, 6054, 12304, 7739, -3535, 3373, 4283, 11703, 13372, -4328, 10853, 9086, 12340, 1610, 10490, 14093, -1298, -669, 19475, -1454, 4918, 2358, 856, 1360, 17431, -4510, 5970, 13864, -1022, -4153, 728, -1725, 9779, 16033, -4344, 15230, 8638, 1677, 1528, -392, 4317, 16347, 10482]\n",
            "[15422, -191, -1700, -3375, 8434, 5117, -4491, -1949, 10683, -2673, -7575, -277, 8181, 11403, 11178, 1140, -1469, 11417, 908, 247, 316, 6687, 11466, 8074, -555, 9096, 12209, 12514, 847, 14746, -3506, 3216, 3264, -23, 10996, 11323, 2752, 8401, 12108, 13982, 13156, -6861, 7023, 14968, 2711, 3745, 1740, 7923, -4541, -6003, 12386, -445, 10958, 13477, 2702, 14425, 293, -3919, -2713, -4105, 14472, 11097, 13545, -1854, 1070, 11589, 5522, 8834, 12107, 13108, -1599, 11891, 5747, 3694, 120, 4256, -8141, 965, 2588, -1152, 297, 2386, 17502, -8177, 12029, 3489, 11590, 3210, 2009, 4060, 13455, 5782, -2829, 7483, 9728, 12923, 7265, -2223, -4211, 1464, -8794, 10939, -2609, -4613, -2032, 6176, 542, 6085, 87, 3189, 2028, 1029, 16167, -8707, -2547, 5969, 15884, 5302, 5239, -5068, 6266, -2598, -3147, -3371, 11281, 11104, 18073, -825]\n",
            "[10369, 6232, 7759, 6336, 6776, 4692, -215, 4906, 710, 5770, 3501, -1893, 1700, -1075, -1038, 7862, 12409, 10968, 2070, 7619, -1614, 17337, 11842, 192, 11829, -8724, -4013, -4450, 3622, 14597, 4063, 3767, 4152, 16191, 4112, -7, 7626, 15986, 1436, 1314, -5774, -895, -6638, 4972, 12569, 10547, 13362, 9539, 5110, 1410, 12247, 8096, -4751, -1408, 4949, 8859, 289, -303, 194, -1699, 18744, 10424, -926, 2179, 13469, 1558, -197, 7792, 9108, -1989, 13213, 3248, -555, 10488, 3228, 5639, -1504, -2570, -6144, 1834, 11800, 7664, 2761, 3132, 4589, 11103, 4672, 10452, 16639, -1377, 4853, 7414, 3674, 5611, 5620, 10024, 9162, 12574, 7376, 16694, 5893, 9539, -3407, 10617, 2991, 175, 2772, 6451, 515, 2333, -7439, 2600, -3279, 5962, -1689, 12137, 4088, 12997, 5065, 14693, 14756, -8068, 7621, 4473, -5730, -2363, 6151, 2070]\n",
            "[-1962, 8649, 12889, -5618, -2905, 5092, 3307, 1848, 12782, 9013, 14246, 329, 10031, 10058, 3255, 2988, 9471, 6761, 6905, 9807, 14013, 6345, -6353, 12935, 14284, -1444, 11198, 10206, 5737, 15548, 10121, -6683, 8522, 4819, 2677, 11414, -7585, 10018, -85, 15170, 9276, 16196, 11696, 1281, -1603, 3158, 4452, -656, -1254, 774, -2419, 15895, 12070, 1839, 2335, 7070, 4504, 9976, 14309, 1227, -2376, 9532, 2250, 6923, -7008, 3596, 5451, 3899, 8572, -417, -8, 4048, 15454, 490, 11723, 3885, 8117, 4966, 6059, -1839, 7603, 523, 12547, -3034, 6893, 9610, 8074, 4692, -349, 13206, 683, 15985, 9413, 19106, 14194, -1411, 12511, 5762, 9794, 5119, 9294, 9552, 4839, 4959, 12839, 12671, 4417, 7319, 437, 1859, -3645, 1871, 17174, 214, 6390, -4871, 6388, -6384, -2103, -1232, 6176, 14059, 1188, -3630, -234, -1241, 16045, 17583]\n",
            "[6109, 6384, 9375, 5114, -5109, 11608, -5493, 12182, 17256, 17024, 4855, 8801, 1187, 369, -2999, 4362, 4871, 9924, 14685, -8355, 7075, 6744, 6390, 8195, 1034, 10730, 12142, 11724, 7089, 10381, -2923, -1745, 7695, 1591, 7079, -273, -1226, 9203, 2856, 13115, 1218, 1008, -8955, 9384, 4625, 12562, 12683, 4105, -2374, -343, 6157, 11619, -434, 9463, 3972, 5779, -4022, -4255, -4283, 3132, -2833, 13896, -1527, 4625, 8113, -3126, 10979, 9382, 6917, 12654, 6178, 217, 4951, 3825, -806, 717, -5858, 15083, -8011, 14243, 1992, 6559, 3978, 8704, 14275, 8456, 11168, -5129, 10646, 10465, 17357, 3160, 12234, 950, 3318, 11686, 13325, 12319, 7284, 13366, 15178, 12237, 10532, 6337, -635, -5106, -1997, 6973, 6749, -2099, 5069, 9909, 5334, 5824, 1758, 12662, 9064, -7146, -2710, 432, 10610, -1117, 15310, 7224, 7050, 9033, -7089, -7185]\n",
            "[12996, 1285, 6945, 817, 10104, 7030, 8450, 2375, -3549, -999, 10005, 15360, 3686, 7873, -3625, 8021, 2514, 12852, 3914, 2006, 10720, -2239, 1304, -1400, -3185, 7423, 1568, -939, 656, 3528, 8976, -617, -372, -5360, 5274, 6402, -2119, 2264, -5608, 10102, -8140, 3868, -4889, -6582, -788, 8506, -416, 8340, -1517, 775, 3155, -570, 5014, 4754, 6439, 8745, 14456, -4629, 15756, 9515, 14470, -1242, 6756, -6999, 11737, -3864, 5750, 14033, 791, -5580, 8123, -545, 9864, -8990, 9520, 2837, 12319, 52, 6230, 9959, 6844, 236, 5267, -4469, 8830, -5686, 7687, 7436, -533, 1271, 8527, 14802, -6391, 15220, 11491, 184, 18547, 11344, 6900, 16846, 5323, 5686, 7476, 15583, 2916, -5386, 9580, -1974, -744, 10866, 3116, -8067, 10026, 4996, -5260, -813, -3687, 6437, 8885, 12764, 10355, 4160, 10678, -431, 4243, 2834, 6152, 471]\n",
            "[6319, 10874, 2706, 5070, -965, -700, -345, -5038, 2830, -9030, 2415, 8350, 4458, 12779, 13526, 7117, -252, 9747, 14556, 8735, -2544, 13776, 1539, 2089, -2797, 11403, 7681, 12828, 9787, 12522, 11106, 5473, 6926, 13104, 12129, 14361, 14973, -266, 16069, -6847, 1507, 11432, 3692, 648, 2335, -215, -8035, -2031, 3272, 14624, 7530, 9166, 1221, 7929, 6999, 12971, 12854, -7557, 12653, 8032, 12009, 4966, -8261, 12288, -3127, 4392, -5179, 17362, -3213, -975, 7538, 1696, -3010, 8949, 8571, -6257, -5977, 15502, 7663, 5721, 3761, -5184, 1639, -3894, 13071, 787, 5709, 1312, 3793, 4215, 2, 9157, 1260, 2373, 10058, -1139, 994, 15161, 2608, 10134, 1461, 136, 19605, 10638, 1183, -3028, 6499, 487, 14006, 8930, 7343, 8324, 5775, -1798, 3855, 3859, 12596, -2648, 11580, 7064, 13538, 9840, 2089, -8046, 8282, -6394, -3311, 11961]\n",
            "[18698, -1787, 8086, 10410, -8428, 3539, 6099, 10294, 4134, -4420, 69, -784, 11866, 3950, 14520, 12379, 7646, 19584, 6411, 13913, 4268, 5439, 14015, 10133, 4619, -1429, 5524, 1318, 6094, 12502, 8600, 11044, -2248, 2484, 6643, 15326, -720, 6839, -7603, 8830, 2661, 7993, 13975, 4356, 16879, 1699, -5061, 7960, 13020, -352, 9951, 5319, 14065, 11586, -1404, 15723, 1673, 1816, 1591, 10364, -1023, 6387, 17822, -5876, 17519, 7874, 3568, 4010, 8389, -954, 4770, 1266, -592, -1836, 2133, 81, 7508, 8254, 4259, 3833, 12227, -8140, 852, -2958, -2496, 4106, -281, -6169, -869, 14390, 2203, 371, 9186, 6718, -6466, 227, 7620, 14775, 15021, 9624, -5261, 11630, 6598, 10050, 16417, 9066, 12913, 13129, 8162, 7280, 7983, -3603, 11537, 13737, -402, -1797, -1437, 11474, 5297, -5594, -3156, 17396, -30, 10281, 16639, -1517, 7897, 893]\n",
            "[1382, 7800, 16749, 191, 14709, 8498, -744, 4423, 12097, -1465, 9013, -2907, 3800, 17779, 15843, 3396, -6099, 8797, 4446, 1985, 13916, -3535, 18849, -3102, 12051, 1935, -908, -5461, 10511, 9807, 11492, -1521, 15592, -4074, 1632, -5170, -6710, 5861, 6098, 1029, 5376, -4141, 2139, 10084, 11320, 3883, -3429, -6177, 12333, 11792, -1911, 6169, -7938, 16560, -284, -8328, -2158, 9349, 12170, 5988, 6961, 10173, -3008, 522, 1814, 12079, 4664, -633, -299, 17159, -1535, -4993, 15292, -4402, -2012, -1440, 6064, 11495, 1135, 8892, -2269, 8813, 16693, 7208, -1175, 10784, 16826, 10944, -76, 13268, 11465, 19091, 6419, 5163, 15321, 4515, 3162, 2149, -2338, -9393, 7302, 2620, 3220, 8858, -3027, 15297, 7772, 6705, 7853, 3681, 2925, 7460, 3246, 8360, 11362, 8168, 317, -5018, 186, 7443, 10284, 2378, -1312, 7353, 14773, -2881, 2354, -1401]\n",
            "[6860, -165, 11361, 6219, 11231, 13049, -5102, 10641, -2685, 2234, 9040, 1595, 1757, 7509, 1244, -7128, 5086, 167, -7497, 9041, 8756, 18037, 1997, 10596, 12054, 6738, 5064, 11007, 6826, 9209, 7642, 10683, 8173, -5561, 12440, 4510, 1967, 8044, 8182, 15614, 6962, 773, 3787, 3253, 8882, 1296, -2475, 6644, 2521, 4143, 12377, -4276, 5757, 11649, 10231, 8033, 2202, 19381, -5447, 6203, 17945, -3742, 7674, 11586, 9435, -5050, 11511, 7871, 12654, 1311, 1068, 11392, -4159, 9365, -1567, 4507, 16466, 5031, 10377, 4974, 10495, 12461, -2720, 12538, 4831, 6924, 3169, 7576, 6625, 5737, 3880, 1563, 7874, 12142, 17548, 16469, -306, 11865, -3321, 9789, -3677, 11785, 11358, 8065, 3259, -1110, 5487, -6598, 128, 14378, 696, 14878, 7136, 12103, -3327, -6263, 11342, 7372, 6414, 4198, 17170, 1441, 849, 16031, 15333, -486, 5741, 4856]\n",
            "[10612, -142, -4594, 3869, -284, 12413, 6799, 2988, 7734, 5292, 1370, -3300, -1225, 6738, -5651, 12361, -1519, 18237, 3925, -8631, 5879, -1503, -222, 6901, -3112, 13302, 1635, 4599, -4597, 13174, -2056, 16171, -2164, 4132, -4032, 9730, 10222, 11706, -3585, 1887, 9398, 14122, 7075, -960, 17974, 8886, 3096, 3301, 5124, -2072, 7845, -2062, 10054, 10867, 11984, 10641, -481, 9482, 1267, 3223, -6296, 4166, 17318, 13569, -1285, 9733, 3674, 7362, 16020, 4663, 10931, 12517, 8790, 6240, -3472, 2189, 10298, 1007, 8232, -6752, 13527, -5369, -10, 15070, 14153, 13205, 2349, -7639, 9573, 9125, 5063, 8107, -428, 13422, 1482, 13610, 10161, 3133, 1452, 2885, 1447, 1045, -1985, -1457, 9241, -3556, -1637, 14309, -3278, -4920, 7657, 7368, 14528, 17777, 11187, 9279, 8486, -5796, 15909, 8667, -1262, 11939, 10357, 5034, 14648, 8629, 10152, -436]\n",
            "[13625, 3347, 11382, 15801, -8603, 17989, -6223, -9071, 9729, 11219, 791, 11144, 7464, 3975, -4062, 4947, -3994, 6770, 9419, 15331, 2298, 2937, 3436, 9508, 8999, 7300, -5119, 16143, -1387, 10577, -2386, 5232, 9686, 15079, 8283, 7023, -1194, 6057, 2675, 4333, 15829, 1824, 3097, -5244, 6778, 18772, 101, 9381, 8311, 9298, -3033, 1401, 3039, -7365, 4336, 3540, 116, 4239, -1646, 10786, 3251, -2176, -9036, -4671, 8639, 2739, 3456, 14278, 10235, 4629, 12163, 5816, -817, -3971, 9795, 4019, 10690, 8431, 5668, 8205, 1859, 14283, 5118, 18468, -834, -2077, 3697, 6653, -1283, 14546, 10140, -188, 8293, 2717, 5039, 8612, 10328, 10085, 14654, 5824, 10783, 17715, 635, -2819, 7690, -5184, 14929, 3851, 9554, 13655, 18018, -3540, 9356, 1094, -2422, 10542, -7082, 6714, -5634, 3380, 6970, -1039, 13192, 12816, 6173, 13738, 10948, 7317]\n",
            "[15194, 3105, 5562, 3823, 2666, 8896, 6289, 6615, 6755, 17459, -549, 2108, 4099, 13422, 3700, 7851, 3339, -4338, 1521, -1106, 14129, 6957, 2166, -944, 12656, 185, 11492, -4528, -3713, -2992, -2392, 11095, -5749, 6629, -4082, -8637, 8005, -887, 15108, 3914, 3474, 2851, 1558, -2825, 12092, 8929, 12992, 19269, 5766, 11749, 13776, -1550, 2403, 12037, 6683, -669, 14388, -4817, 13628, 5422, -2133, 16687, 8067, -2175, 3361, 2933, 16541, 2296, 6980, 2603, -4432, 16367, -7225, 10736, 2562, 14462, 3395, 6673, 11714, 8129, 13528, 8485, 11405, -5487, 14814, 17460, 964, 5917, 9670, 11811, 14158, 16379, -3345, -4795, 10955, 4821, 3709, 12402, 14051, -794, -426, -1688, 7546, 1517, 8843, 969, 5154, -1637, 1501, -6743, 1260, 14160, -1045, 11772, 8862, 12676, 7699, -2529, 4470, 14993, 599, 2130, 3298, 6354, -587, -5712, 11627, -1759]\n",
            "[423, 11474, 3930, 12296, 12998, 287, 9092, 13176, -259, 5360, -4337, 891, 15680, 8950, 6905, 8017, 5298, 13167, -3946, 15349, 2590, 7207, 6932, 4953, -5291, 10738, 980, 8723, 8645, 6834, -1056, 11328, 18337, 3868, 5666, 10636, 6077, -2990, 12908, 9944, 6199, -740, 4483, 3888, 8250, 143, 3202, 9999, -4532, -6318, 1690, -4862, 9213, 8315, 2494, -1654, 5493, -4630, 12849, -3349, 3033, 12043, -2333, 6016, 15486, 10710, 5673, 2455, 8530, 5603, -3704, 11974, 7513, 9451, 3118, 2628, -1214, 4850, 6802, -1459, 583, -6224, 12105, 6136, 4864, 4600, -1995, 8814, -2209, 8585, -5340, 3259, -2612, 4484, 12460, 5398, -3135, 3831, 889, 15925, 3760, 15615, 7113, 6666, -3896, -3202, 9201, -1105, -4817, 9708, 15392, 4486, -7658, 3687, 13220, 6849, 12102, 5590, 7162, 7656, 15692, 2994, 13444, 2169, -2766, -3881, 4771, -5927]\n",
            "[-1298, -441, 2938, 2472, 14256, 10714, 9243, 8030, 12823, 82, 10499, -3322, -1390, -5428, 6706, 11538, 20, 9190, -6165, 11526, 13136, 12960, 14378, -792, 2023, -526, -329, 7486, -4144, 10350, -1178, 9937, 3605, 11942, -1156, 11918, 4999, -6594, 224, -4395, -2929, 2797, 6244, -3647, 991, 4644, 10880, 1012, -454, 10788, -2055, 3816, 8630, 6986, 7780, 10486, 1472, 1439, 13134, 3674, 9472, 2981, 13247, 7166, 9987, 7003, 449, 10352, 3950, 12188, -2089, 6267, -801, -2345, 4573, 4155, 13328, 15501, 1219, -4096, 10343, 12675, 10289, 1777, 1518, 4662, -1899, 105, 13654, -2492, 2855, -5484, 9790, -7861, 3808, 13680, 2978, 6389, 4235, 7663, 9184, 7298, 10374, 18345, 4825, -437, 17798, 349, 51, 2822, -7224, 13012, -3086, 13212, 7962, 181, 8765, 15354, 7245, 10688, 6644, 7498, -5059, 9039, 12063, 9531, 13401, 15101]\n",
            "[10553, -1673, 10410, 15797, 7085, 9983, 8502, 11440, 1601, 11209, 555, 4636, -62, 7233, 3819, 12442, 14452, 11649, 3058, -1184, 16537, -6530, -4148, -5429, 2736, 8813, 11888, -73, 2667, 13694, 15329, 7398, 14844, 3374, 9906, 4176, 656, 12572, 5086, 7531, 5120, 3628, -4609, 1506, 5304, -2038, 14216, -2829, -852, -4053, 8976, 7262, 362, 8616, 4076, 5044, 2455, 5986, 8884, -790, 10484, 185, -4222, 12535, 12428, 9274, -4655, 8858, -6460, -6741, 800, 48, 5187, 136, 15201, 7869, 3334, -810, 9325, 12587, 5869, 6804, 1104, -3548, 895, 277, 3248, 1425, -4935, 14940, 2507, 1012, 3459, 16170, -3134, 2457, 13162, 12224, 19198, 5004, 5400, 13787, 2542, 9846, -3980, 11213, -9447, 6813, 16761, 4874, 6189, -3328, 7001, 1279, -1862, 8991, 8674, 8691, 6363, 394, 4339, -7109, 6210, -8787, 11973, 470, 16037, 11249]\n",
            "[6174, 4329, 1903, 399, 11513, 2589, 271, 16189, 8178, -67, 7277, 3311, -66, 13117, 8805, 6142, -1259, 14418, 1157, 12041, 10568, 314, -6569, 10004, -1414, 10492, 849, 17085, 11043, 16980, -2991, 11941, -1593, 6162, 10183, 5820, 15121, -4006, 2048, 9489, 9033, 11620, 14844, 11227, 10267, 13904, 13062, 6961, -3799, 8061, 10637, -9090, 16937, 4871, 5083, 5585, 7682, 4369, 13866, 7009, 9143, 9219, 14, 15399, 1056, 3631, 9876, 65, 14910, 3734, -468, -4716, -80, 4138, 3965, -5424, 6105, 8288, 18235, -1618, 5001, -4201, 2976, -439, 10004, 4120, 11199, 6590, 3666, 2758, -4087, 5062, 15011, 8197, 8563, 6786, 3545, 2632, 11082, 12413, 333, 8116, 6529, 3892, -72, 2541, 4507, 3610, 2126, 16266, 11044, 10425, 7856, 4975, 15091, 5051, 13932, -1647, -5318, 13402, 8785, 2247, 5107, 1209, 10840, 10966, 9264, -2236]\n",
            "[7798, 16318, 8270, 1726, 10047, 1067, 11998, 140, -2220, -5498, 13852, 9831, 5436, 3940, 2383, 12820, 5266, 3964, -4394, 10359, 10093, 1514, -5637, 4338, -2151, 30, 10171, -3402, 4270, 9744, -909, 7416, 772, 13883, 2624, 13178, 6565, 7227, 16036, 10797, -583, 11228, 15904, 9210, 2034, 3989, 4760, 308, -3732, 6132, 9694, 3799, 337, 6838, 5958, 9310, 9385, -5666, 9459, 402, 2448, -5005, 9015, 15531, 10316, -2561, 8683, 10379, 3297, 6492, 12183, 13456, -3102, 3300, -2033, 3362, -6151, 14011, -2458, 3981, 8908, 4037, 7156, 10342, 11482, 11128, 727, 8064, -1260, 4430, 9401, 3676, 10897, 10637, 9172, 4006, 16577, 15654, 14740, -5767, 10343, -2037, 769, 5175, 10081, -3887, 11740, 12027, 7233, 17360, 11804, 13163, 5829, 1729, 9206, 2397, 13609, 8738, 6491, -6626, -7426, 3936, 8341, 7729, 9199, 8285, 2933, 6654]\n",
            "[870, -6167, 5488, 13002, 3770, -603, 16452, -3386, -1754, -4009, 5723, 7580, -1106, -2432, -7221, 14490, -4234, 4772, -1942, 7398, 12391, -1429, -2790, -5042, 13292, 10849, 6863, -4137, 4698, 9083, 9588, 5789, 2833, 8238, 10249, -7632, -1936, 5877, -718, 2840, -1488, -2680, -6264, 2764, 15554, 11095, 8648, -647, 1834, 3935, 10642, 8152, -2553, 14107, 15098, 2290, -1675, 14052, 13438, 4604, 4697, 6675, 8073, 1331, 16587, -45, 1316, 434, 12600, 1669, 2024, 8672, 2506, 7431, 5223, 3947, 6749, 5582, 8054, 985, -3231, 8406, -2118, 806, 430, 2140, 2280, 13251, 6806, -5137, 7927, -8506, 3639, 7676, 8752, 16384, 104, 2043, 7806, 18472, -4462, 6238, -2849, 805, -1677, -1285, 488, 2310, 5070, 18914, 5879, -2864, 370, 3675, 6477, 15673, 15614, 5547, 9524, -373, 1107, 5817, 14201, 3404, -35, 12286, 1392, 7867]\n",
            "[10968, -7217, 3124, 1927, 5565, 17172, -161, 6305, -2150, 4555, 15993, 5756, 7610, -1315, -729, -6391, 9415, 6201, 6713, 12482, 90, 3386, 6806, -5333, -1343, 10307, -2406, 15236, -4869, 16238, -5792, 5073, 8269, 7190, 2335, 12971, 2483, -61, -7092, 1558, 11169, -5896, 18043, 7399, 16298, 14825, 6546, -350, -1342, 16929, -3255, 14243, 6107, 16298, -3025, 5947, 11988, 12544, 3232, 678, 43, 8595, 1486, 7791, 13506, -2591, 5764, 14170, 5001, -6007, -2213, -1823, 13873, -4781, 10459, 12456, 8610, 5222, 14513, 5846, -165, 11745, 10066, -4938, -7357, 9368, 8890, 286, 11863, 5968, 10022, 12937, -4386, 10229, 7905, 3344, 3194, 5598, 3682, 18617, 2302, 10706, 9183, 9340, 6380, -3246, 9528, 11217, 7139, -8639, 6887, -8960, 212, 10112, 6281, 12346, 8058, 4344, -1133, 4518, 10836, -787, 5915, 11707, 216, 9050, 1435, 10332]\n",
            "[9804, 3343, 7255, 5654, 7679, 9661, 4207, 16315, 5243, 3526, 5026, 6113, 12720, 11687, 5771, -3163, 206, 7570, 9252, 4653, -2332, 4257, 11549, 5739, 3479, 7831, 10291, -2311, 14155, 2495, 8147, 10746, -258, 9728, 3173, 5741, -5856, 13557, 12217, 234, -846, 8131, 3385, 3535, 9368, -1995, 6311, 10794, 5777, 6626, 161, 6994, 9248, 2813, -5657, 2316, 465, 13298, 4876, 11711, 1297, 2370, 12785, 3752, 11270, 17188, 13508, 7276, -583, 9098, 8574, -3817, -4516, -6168, 10393, 11802, 6213, 1883, 9273, 11339, 14280, 16356, 3675, 10247, -3833, -1743, -3555, 5698, -4608, 5659, 7346, 16793, 2818, -3831, 13985, 4762, 16822, 149, 5122, 341, -1887, 4253, 5380, 3874, 5740, 11274, 3881, 339, -7748, -1771, 11414, 14764, 6287, 9517, 5246, 4062, 10831, 390, 2487, -3579, -1018, 5393, 6022, 2500, -1141, 11920, 10138, 2833]\n",
            "[9458, -712, 6768, -8074, 987, 8872, -713, -5052, 9092, 11970, 15268, 5388, 18251, 6710, 1454, 11414, 3850, 10810, 5327, -3017, 6417, 14640, -7031, 2202, 8809, -437, 10350, 10114, 6382, 12610, 7955, 6830, -310, 3637, -5325, 15229, 612, 3789, -252, -6627, 5890, 3940, -1280, 9713, 7376, 7652, 9701, 1034, 3744, 2749, -4709, 12634, -367, 16801, 12215, 10643, 10585, 6080, 12414, 11716, 574, -4005, -750, 4793, 5328, 4510, 5685, -4225, 11420, 6503, 1372, 8453, 6350, -332, -1131, 12200, -1357, 12188, 1055, -1664, 13139, 1346, 14308, 7112, 1583, 4479, 9999, 15413, 6977, 6672, 10842, -1319, 12989, 9100, 1302, 4087, 863, -17, 9198, -2076, 13068, 4314, 7548, 3818, 4695, -5590, 5764, 7818, 6971, 6326, 3979, -3907, -5498, 6479, 10952, 2858, 11558, -1727, 9539, 8894, 6466, 363, 17361, -3228, 55, 144, 3740, 11069]\n",
            "[-463, 5650, 49, 2195, 4889, 3852, -3695, -3756, 6411, 16119, -9131, 6491, 17820, 10990, -1336, 11225, 10702, -5808, 2127, 15772, -1258, 15494, 17607, 6391, 9509, 17648, 9607, 10455, 5113, 8476, 12393, -6526, 9620, 15958, -802, 8231, 11964, 2684, 9031, 260, 6125, 15075, 4306, 3225, 6574, 4770, 12973, 386, 12145, 300, 14992, 11287, -4116, -6793, -3940, 1345, 3968, -9245, 3253, 1134, 1467, -6891, 5123, 4479, -1204, 8596, -5299, 3915, 1988, -8564, -565, 4760, 6275, 14397, 1557, -517, 13958, 1047, -770, 7556, 14658, 14816, 8193, -2362, 2494, -3298, 14272, 8635, 3981, 5703, -7200, 8743, -6456, -1562, -1012, -1109, 12567, -3977, 2824, -710, 943, 1200, -6164, 12858, 1008, -3243, 4221, -2877, 8826, 5180, 5123, 3740, 15737, 17061, 10302, -1107, 9700, 3398, 8786, 10889, 463, 9163, 9623, 15548, 4679, 7463, 2554, 12777]\n",
            "[14252, 9342, 7426, 6253, 3402, -6800, -14, 5902, 3506, 10337, 16848, 5158, -363, 2739, 2545, 15008, 4155, 9158, 9152, -3065, 764, 9375, 1480, 12730, 11271, 15525, 18096, 4604, 16891, 2012, 3952, 109, 10774, 6897, 9942, -2839, 2760, 1878, 222, 1137, -8531, 6587, 12044, -1685, -5015, 12219, 152, 4581, 5275, 3510, 182, -3322, -338, 11008, 7812, 10776, 7732, -1418, 5647, 10724, 700, 1138, -4023, -2022, -3313, 2934, 7779, 2669, 5369, -1025, 9819, -592, 1779, 3646, 10588, 3664, -1697, -610, 579, 9786, 6733, 13092, 7900, 1984, 1823, -4461, 12596, 9878, 14329, 18484, 11952, 16189, 544, -3259, 7188, -3782, -4171, 4247, -1379, 8015, 4135, 9998, 6929, 6916, 1452, 2540, 478, 3092, 6718, 3398, -7260, -5592, 2888, 4418, 4924, 1207, 15179, -2451, 480, 3052, 5340, 2596, 8439, 16105, -925, -5552, 6260, -8445]\n",
            "[-9062, 11595, 1503, 12226, -690, -5983, 4436, 700, 9638, -3732, 14950, 11981, 6351, 6979, 11360, 4902, 9822, 12185, 9571, 5986, 8129, -5132, -797, 5506, 10237, -876, 788, 6207, -1250, 6475, 15401, 1302, 7542, -2891, 11152, 6195, 13535, -2756, -2533, 1046, 6166, -748, 5217, 8787, 4030, 10602, -3750, 7473, -7093, 14111, 3812, 5557, 10489, 14740, 6581, 8844, 10334, 9652, 15732, 2374, -891, 14226, 14709, 7970, 4929, 12646, 7975, -3997, 13549, -3784, -3156, 11661, 8660, 902, 14628, 7915, 12314, -5370, 4374, 10457, -2559, 4926, 4860, 12976, 3717, 14239, 11669, 8983, -3740, 6933, 2575, 2947, 11706, 16, -4179, 6847, 479, 4724, 12285, -1403, 6378, -6093, 4194, 3121, 1679, 15359, 10765, -4911, -3222, 6264, 15208, 5760, 9792, 214, 9755, 13966, 16308, -2220, 12570, 171, -1307, 8858, 4439, 3145, 3029, 2079, 13829, 7833]\n",
            "[14470, 8628, 4765, 6231, 8561, 10935, 4735, -808, -2174, 5752, -3604, 13642, -2125, 6756, 4518, 9006, 13519, -258, 13235, 3427, 10534, 14147, 4275, 9292, 11272, 17523, -3150, 387, 12595, 5967, 5242, 12973, -955, 12501, 1902, -1445, 6514, -1130, -4031, 14686, 12303, 4133, 8364, 3446, 2951, 9892, -567, 6476, 4876, 17012, 776, -3399, 1900, 10525, 10975, 11028, -177, -9560, -1239, 466, 6478, -2146, -4966, 12648, 5125, 4571, -2442, 15184, 7532, 8579, -8219, 11045, 3263, 3449, -3045, 12198, 1417, -3273, -1648, 5719, -4071, 1661, 8656, 3824, -614, 13150, 5028, 5516, -636, 166, 10288, 4836, 2512, 1165, 8587, 8690, -4808, -3250, 1621, 11705, 4276, -2497, 5044, 8489, -3275, 10312, 15824, -5422, 5002, 2262, 13137, 10385, 18074, 13782, 1614, 11863, 4386, 3883, 2409, -3319, 4753, 8925, 13312, 12584, 7648, 4909, 4942, -1528]\n",
            "[-2145, 7705, 1050, -9832, 3835, -6704, -1083, -8817, 6542, 7508, 336, -1483, 897, 8834, 3569, 1165, -2235, -2221, 5619, 16911, 15042, 4992, 10585, 7466, 7019, 7689, 10399, 3827, -593, 8878, 9013, 7667, -379, 12967, 12330, -6024, 17379, 3238, 1899, -2487, 9638, 14610, 10446, -1724, 17568, -7209, 2158, 1560, 4287, 2415, 13249, 12051, 5139, -5862, 17386, 5158, -6459, 8412, -1117, 18570, 2774, 5660, 12289, 5339, 12257, -1760, 12273, 7258, 11201, 2156, 4143, -239, 720, 1162, -4981, 3759, 2550, 1519, 11182, 219, 10499, 5373, 9508, -644, -5041, 2088, 638, -1801, 91, 6972, 13638, 12184, 12276, -2701, 4466, -4122, 8814, 4242, 14924, 13193, -5806, -2061, 10914, -4947, -512, 3686, 4634, 16864, 3209, 4868, 11110, 3761, 852, -1651, 2621, 6670, 9985, 9844, 3926, -1374, 9661, 7293, 3228, 12608, -5994, -3852, 11897, 17834]\n",
            "[261, 2029, 8767, -268, 12217, 4715, 6795, 4754, 872, 13671, 5827, -3969, 4031, -2060, 16691, 3733, 4993, 10064, 1908, 3898, 8239, 15929, -1592, 15404, 8068, 12230, 1072, -3205, 15023, 876, 16078, 13344, 1945, 7287, -603, -5816, 15200, -955, 11274, 7670, 10444, -2623, -1343, -4212, 537, 7697, 6395, -5930, 9894, 7278, -7526, 11260, 11098, 2140, -2504, -4327, 3383, -1316, -275, 5616, 5531, 14831, -4093, -1068, 14440, 15935, 8988, 5646, 5803, 4288, -446, 6303, -5742, 14037, 16023, 6549, 14729, 4679, 971, 2365, 8764, 3841, 1481, 810, 11268, 13491, -1377, 11417, 18440, 10723, -1895, 6486, 16973, -1484, 12060, -3810, 11053, 9446, 11112, 14864, -1244, 7589, 5903, 9313, 12809, -2221, -1115, 1745, 6724, 3744, 9187, 16365, 9718, 13320, -9080, 11136, 14218, -6548, 12689, 2795, 2737, -451, 13823, 1068, 4742, 14147, 3222, 6171]\n",
            "[-2141, 9645, 2351, -3163, 9176, -807, 7850, 6403, -294, 2938, 4544, -5654, 9944, 9482, 16579, 7257, 179, 13656, 16677, -1931, 12999, 8115, 10238, 13534, 13047, 2448, 2607, 15940, 7833, 12198, 3889, -470, 11614, 9880, -1762, -5450, 13089, -4207, 12462, 9326, 12688, 9324, 11689, 14293, 12305, 13070, 2220, 13917, 1904, 881, -5075, 2128, -1099, 112, 10847, 12361, 6193, 10049, -769, 10488, 3954, 1872, -746, 15733, 13362, 12041, 10365, 16714, 7958, 15566, 4986, -3698, 13647, -887, 11751, 3220, 10787, 5057, 14428, 18329, 7183, 5835, 15626, 1415, 5476, 5891, 7117, 4725, 10990, 9497, 668, -6340, -4367, 14954, -3131, -1507, 9324, 3286, 4770, 13686, -1795, 4493, 13071, 11111, 9433, 8880, 14307, 4502, 9831, 7467, 17188, 3642, 13108, -4760, 16613, 6590, 1530, 1383, 6512, -449, 6529, 13619, 2227, 5982, 13958, 13279, 9062, 11276]\n",
            "[12275, -2698, 4321, 7478, 7478, -1576, 7403, -7088, 10963, -1809, 12014, 4794, 1166, 3198, 1318, 8676, 7786, 14009, 838, 6858, 2792, 5905, -2252, 7643, 3000, -2154, 3695, 15028, 5157, 7106, -1177, 7678, 2398, 2938, -1569, -8328, 12265, 11537, 1101, 3984, 10378, 12169, 5098, -7123, -4562, 2886, 13027, 9392, 19240, 7182, 5945, -8543, 8007, 4733, 15849, 12354, 9986, 13862, 9274, 7102, 4182, 17515, 1321, 8918, -6534, 2272, 6792, 15749, 7748, 11013, -8275, 11085, -4029, 4244, 15494, 11255, 13204, 4104, 4182, -851, 14070, -2433, -2408, 10175, -990, -7362, 737, 16558, 7129, 17833, -3794, 12406, 3068, -2907, -2078, -5309, -4426, 16279, 7087, 29, 674, 11629, 3010, -130, 7478, 11168, -9440, 9364, 5904, 9364, 12429, 8719, -4561, 8422, 2932, 17059, 6523, -5648, -2895, 18365, -303, 6006, -1187, 10137, -4030, 11167, 12822, 11311]\n",
            "[10824, 6419, 3709, -3651, 9728, 6651, 11975, 14573, 6193, 14174, 13968, 6597, 8998, 14890, 16365, -2925, 8628, 5993, 17841, -506, 12815, 10903, -1723, 6751, 8957, -7690, 8297, 9122, -1727, 8081, 3705, 4190, 16986, 7161, 637, -747, 322, 264, 1757, 4879, -4300, 10442, -500, 2173, -1204, -1393, 14384, 9987, 1618, 1645, 868, 8793, 6419, -2566, 12935, 3349, 3378, 11047, 7278, 9387, -5044, 4843, -2919, 6896, 850, 15467, 8286, 8099, 4329, -1693, 418, -963, -3718, -2, 774, -2155, 2625, 17960, 14118, 1728, 9039, 8495, -4337, 1142, -4668, 8240, 13443, 6682, 6491, 751, 8996, -3575, 2318, -5137, -1686, -2543, 9264, -1150, 1040, 8940, 9089, 4554, 2100, 16402, 2517, 5160, 6082, -7549, 3063, 2587, -1950, 7657, 11538, 1184, 4550, -3873, 13420, 7683, 3176, 5583, 10262, 8449, 4871, 5411, -773, 16757, 7794, -2343]\n",
            "[-128, 10266, 6375, -3969, -2932, 9882, 677, 3809, 10235, -2477, 7311, 3919, 7763, 627, 10497, 8546, 6656, 14152, -3224, 7931, 3997, 8848, 8660, 1962, 7258, -3374, 2999, 11326, 5448, 4714, 17657, -919, 5598, -2977, -176, -6860, -2304, 16887, 7890, 9107, 291, -608, -8512, 8097, 9376, 1225, -2891, 7289, 13600, 6880, 611, 1397, 4659, 6610, -4210, -5562, 8721, 16309, 12442, 13968, 13153, 17067, 2526, -7105, -4426, -2859, -407, 14560, 1257, -2442, 12217, 5885, 8681, 7273, 4455, -2921, 15387, 4604, 12472, 6430, 2832, 10078, -5087, 520, -2902, 8367, 6501, -1010, 1609, -1685, 2622, -7858, 10274, 11513, 12705, 3907, 911, -2231, 2885, -3693, 3328, -823, 245, 1013, -4086, -4144, 5759, -3560, 279, 3567, 10067, 10499, 4406, 15270, 13923, 8215, -467, 91, 3361, 7543, 5035, -4107, 11149, 10029, 4705, 11764, 7789, -1767]\n",
            "[5613, -427, 2274, 13140, -2623, -3505, 12108, 2603, 9852, 343, -4040, 2066, 1241, 8467, 3014, 1448, 5335, -7741, -6870, 13255, -5282, 5627, 5534, 14010, 11679, 7044, 12176, 4755, 8486, -486, -2452, 2041, 14933, -5006, 15115, 11870, -4963, 11626, 2417, 8535, 6813, 3391, 10858, 10874, 5396, 11224, 4478, 1694, 8068, 10770, -6444, 1231, 7680, -3351, -1865, -3194, 3636, -3511, 7957, 3446, 2548, -3880, -3553, 8195, 7528, 5174, -2734, 7271, 2398, 18214, 4525, -984, 2778, 7209, 6739, 12301, -1896, 662, -1623, -2961, 3454, 8719, 537, 6334, 13311, 2678, -7061, 7360, 4509, 1773, -4102, 13207, -5143, -2774, 15628, -1730, 1989, 17730, 1685, 5797, 3965, 1818, 1000, 10925, 5162, 7486, -6023, -4352, 9091, 11295, 15659, 4763, 18433, 9191, 3999, 216, 1298, 3550, -2858, 4188, 12389, 13992, 10835, 1475, 4200, 8358, -2604, 7560]\n",
            "[4535, -1654, 664, 7266, 7667, 7703, 5701, -4321, -945, -6119, -1558, 5865, 1155, 2582, 8711, 14717, -2105, 9338, 15871, 1350, 11955, -6251, 4480, 7758, 9640, 9062, 5503, 2188, -3015, -6797, 10547, -3143, 1733, 4714, 10512, 12402, 5859, 11656, 3214, 724, 7173, 4741, 7816, 448, 1298, 12684, -3004, 2968, 7779, 141, -5895, -1313, 8739, 753, -4475, 7587, 12890, -2743, 2485, 3807, -2796, 4332, 12250, 9744, 1695, -4837, -3725, 9604, 4080, 4040, 16636, 14811, 7550, -5307, 325, -4858, -2214, 4416, 12281, 14123, 15313, 7294, 3156, 10468, 9764, 9160, 18434, 13542, 2862, 10177, 3149, 5720, 8557, 9166, -4517, 11213, -7007, -7618, -1113, 18120, -1469, -4123, -1637, 11797, 16058, 5108, 1461, 19135, -4897, 13897, 9598, 10965, -2738, 4404, 18302, 2068, 7751, -2279, 8459, 9898, 9854, -2034, -1262, 8209, 10414, -4506, -995, 10124]\n",
            "[-641, 6603, 15913, -7733, 385, -5258, -7189, 6638, 6927, -3330, 2412, 1927, 7299, 5615, 4389, 2275, 1121, 5439, 3044, 12549, -2487, 8351, -2448, 8108, 14142, 1196, 8594, 4645, -8703, -8069, 9127, 7740, -147, 7001, 16007, 18163, 5939, 14008, 2847, 16539, 4778, 7419, 1631, 9022, 12758, 15777, 9938, 6388, 959, 13697, 15854, -479, 7801, 612, 9388, 16891, 12813, 2028, 6243, 8688, 10845, 9175, 2968, 11081, 2659, 8682, 1274, 5832, 5817, -4848, -7127, 5249, 6385, 6913, 5652, -4725, 14767, -319, 6456, 18767, 1560, 6943, 7283, 6240, -1563, 2739, 8480, 4564, 4642, 1724, -8535, 5173, 4068, 8227, 12707, 262, 2006, 1956, -3531, 5385, 3462, 3588, -84, -3419, 7867, 8696, 8297, 9843, 2838, -5732, -184, 5219, -3745, 9693, 3846, 1290, 10868, -3544, 3538, 2419, 3654, 11446, -916, 16112, 10576, 6691, 7579, 651]\n",
            "[-3678, -5428, 8854, -4500, 2763, 529, -2072, 6990, 18803, 13785, 8353, 8369, 10445, -239, -5669, 7681, 7304, 12180, 12789, -1663, 11676, -4992, 10733, 10618, 1444, 13490, -1931, 12753, -1544, 2593, 6856, 1654, 12515, 7129, -1520, 707, 13772, 11416, 12, 5640, -6875, 12547, 6686, 6779, 7141, 1664, 15342, -3856, 11380, 10002, 6755, 12980, 8796, 91, 14029, 18447, -6959, 1104, 11871, 2742, -2026, 7630, 4881, -1518, -3698, 8009, 3808, 6923, -1728, 1321, -6032, 12048, 5763, -5022, 179, 7651, 15619, 1348, 7797, 11763, 6470, 6957, 15821, 7753, 6454, 1487, 615, 7441, 2898, 14990, -3904, 7966, 8923, 7777, -656, 104, 17777, 2041, 7911, 1676, -6051, 1216, 6784, 8627, 38, -744, 7411, 3364, -3646, 713, 8726, -7240, -1144, 583, 7079, 10937, -2693, -3867, 3092, 296, -2263, 241, 15031, 10773, 10132, -7970, 16398, 7638]\n",
            "[7332, -4720, 9273, 3924, 6103, 5918, -6545, 13201, -1034, 16110, -8559, 2262, 11399, 8059, -1302, -7721, -4641, 223, 12643, -2212, 4514, 5010, 325, 9167, 658, 18197, -2867, 11489, 5226, -472, 15520, -4556, -7408, 8745, 3525, 7871, -993, 6137, 9370, 8340, 4641, 6695, -6500, 656, 7171, 4872, 9427, -3311, 9396, 4775, 10279, 8830, 5922, 2987, 1062, -4281, 15212, 3936, 8571, -3196, 5332, -241, 2643, -5431, 10644, 44, 16277, 6497, 3817, 2609, 1688, 10890, -2684, -2892, 14235, 4222, -823, 13414, 11799, -2608, 5625, 9426, 2983, -1693, 13293, 11195, 3441, -1421, 2294, 6981, -6070, 2506, -4649, 8453, 3164, -3379, 3032, 12041, 631, 2665, 12530, 8039, -6999, 4427, 1381, 10235, 13656, -2061, 10453, -2332, 7829, 2367, 11433, -3433, -1341, -764, 3138, -2854, 11783, 5037, -5562, 16531, 3519, 4070, 13902, 1826, 13400, 9521]\n",
            "[-3911, 13405, -3210, 13517, 9179, 6715, 13138, 9487, -6370, 15012, -1545, 9367, 14598, -1359, 11334, 9236, 2191, -5224, 7070, -4657, 25, 11318, 8633, 11826, 8685, 16170, 3805, 9035, 8070, -792, 13760, 8030, 3443, 12699, 7951, 6728, 7036, 725, 7016, 13029, 4391, 261, 2368, -7095, -3576, -628, 3031, 13806, -1606, 1357, 5062, -2867, 9203, 549, -5970, 2919, 17603, 1191, 3520, -6495, 7433, 15294, 7947, 11102, 7244, 9313, 3700, 571, -1265, 6521, -138, -906, 2539, 935, 8179, 4308, 16261, 3554, 2995, 16304, -2651, 12149, 9009, 488, -2217, 8447, 8181, 4501, -1325, -1582, 4281, -6185, -4851, 7375, 3245, 4963, 3769, 9715, 4452, 6181, 10587, 13427, 3029, 5653, 17049, 10407, 962, 9427, 11890, 15676, 4907, 4537, 1118, -3378, -2522, -243, 16899, -5581, 4758, 2475, 522, -5121, 1322, 594, -4660, 3602, -3839, 11234]\n",
            "[-2589, 6546, 1304, -5163, -5985, 13439, -1235, 5206, -4718, 1612, 3511, -209, -1770, -6075, -3504, 16041, 10798, 4536, 16555, -2045, 5774, 267, 6091, 15106, -4780, 10817, 15213, -3884, -264, 14233, 14910, 2076, 6892, 1588, 13083, -9195, 1604, 8716, 8916, -3883, -3221, 9070, 15805, 11056, 7053, 5370, 9149, 8089, 9870, 13879, 6517, 431, 3178, 4604, 10917, 947, 10211, 4532, 15026, 14901, 10101, 5824, 2401, 1731, 2152, 4057, -5139, 15687, 11218, -2217, -4310, 1119, -2713, -3066, 9650, 4221, 1269, 10228, -3922, 12011, 9387, 55, -5120, 16364, 9852, 3319, -6930, 5798, 1474, 3263, 5786, -2203, -4940, 3143, -5862, -5101, 15713, 11410, 2255, 10296, 4977, 1520, 447, -5850, 4258, 4883, 3100, 10107, -2768, -1028, 2299, -5486, 11278, 3292, 2198, -4334, 13129, -5622, 3776, 712, 11449, -1168, 16545, 13691, -5229, 4426, 7373, 1465]\n",
            "[3284, -1862, 11096, 5997, 6390, 10355, 14803, 7012, 9012, 1984, 10279, 18530, 905, 3119, -836, 12235, 7281, -6742, 9677, 6965, -9293, -4782, -6230, 7548, 14559, 13336, -4141, -1340, 19045, 8641, 6311, 11251, -7066, 1635, 1136, 1779, -4757, 14879, 682, -5478, 5229, -4240, 3906, 4609, 1004, -4950, -2122, 6738, 14814, 246, 3578, 9835, -8739, -215, -1189, 17414, 7574, 13399, 15250, -4783, 16690, 11342, 14142, 15350, 15797, 8377, 6587, 15542, 14082, 13774, -4562, 12360, 16744, -794, 3662, -7587, 12483, -4146, 10811, -1004, 5556, -1039, 6469, 199, -566, -3221, 3809, -6343, 6424, 8895, 1226, 1329, 15569, 11261, 992, -3807, -380, 4159, 9881, 11492, 15980, 4478, 12281, 966, 4256, 726, -1016, 11813, 11955, 10917, 10991, 4684, -273, 12405, 10867, 11404, 2332, 1518, 15248, -961, 1528, -2683, -1844, 9706, 9378, -3400, 10017, 3072]\n",
            "[6236, -5356, 8324, 982, 8249, -6174, 18523, -5777, 8283, 15045, -7171, 7989, 15277, 7425, 11485, 7860, -6997, -1061, -2852, 2124, 4747, 9811, 4903, -3367, 6210, -3525, -5005, 11975, 5289, -5736, 15175, -8603, 9558, 3515, 4597, 2616, 3355, 9703, -2923, -242, 19040, 14050, -4976, 9537, 13197, 5060, 9313, -5628, 941, 11518, 10549, -4575, 2508, 2944, -2242, 9306, 565, 16058, 8501, -4889, -1103, 3703, 15871, 4168, 7869, 8928, -988, 3572, 8306, 10846, 16117, 6147, 15171, 4329, 11610, 16531, 8536, 4290, -4811, -1287, 5140, 10933, 1543, 8494, -3469, 8226, 16968, 18322, 626, -3245, 9373, 10874, 13853, 16219, 2372, 10333, -6368, -2320, 14317, -7027, -1303, 6794, 11621, 1870, 123, 5248, -6746, -3152, 3877, 13962, 721, 6865, 13117, 17826, 16656, 275, -675, 8626, 5814, 11026, 69, -6021, -4330, 14358, 16415, 4512, 5274, 7948]\n",
            "[10661, -3202, 10353, 7833, 3445, 18559, -2241, 5391, 6341, -1754, 5950, 4397, -3273, 6019, 11578, -3280, 9585, -6027, -635, 8207, 5685, 1214, 1701, 1952, -2896, 9898, 2857, 14884, 5738, 3132, -3664, 9312, 6260, 3440, 9723, 12622, -2737, 5704, 2425, 3371, -2000, 15065, 3990, 1535, 8953, -954, 11429, 7023, 12017, 4487, 5093, 1927, 24, -465, 13867, 249, -1609, 3877, -639, 948, -5820, 14255, 7752, 5598, 1214, 16207, 10089, 675, 11800, 236, 10205, 15411, -4515, 3099, 17032, 2888, -3927, 5549, 705, 580, 17532, -341, -2602, 10579, 6270, 9352, -1984, -459, 5381, -6846, -27, 13341, -3175, 16997, 2610, 493, 3494, 5150, 10920, -2816, 7375, -4041, -6034, 18961, 14266, 9604, 2614, 15116, 13367, 3639, -6076, -7489, -453, 6430, -2441, -6095, 7314, 3809, -1036, -3646, 6726, 7573, 10591, -1361, 7193, 196, 16968, -1280]\n",
            "[13807, -1679, 8403, -5486, 13850, -972, 10933, 3581, 11973, 4864, -3470, 10322, 411, -2548, 9525, 6742, 3149, 18289, 648, 3779, 4797, 7728, 166, 345, 442, 4718, 2710, 6476, 4770, 15355, -1998, 8349, 11024, 5326, -3570, 14595, 12257, 12254, 8546, -3678, 8621, 12269, 18453, 12689, -3583, 6162, -1239, -2157, 3555, 11690, 2730, 837, 12815, 3529, 14213, -68, 7857, 1557, 9828, -3148, 4385, 5192, 326, -6763, 8038, 3507, -4300, 3061, 233, 7534, -4065, 13333, -87, 9884, -1032, -283, 10268, 4749, 14642, 10331, -3482, -8204, 8198, 14859, 4361, 9911, -8101, 1775, 1551, 8458, 10562, 7378, 4061, 11908, -371, 6070, -2870, 3192, 13819, 10222, 8442, 4470, 5413, 14417, 2644, 3765, 6164, 250, 4080, 2176, -3097, 8986, 7573, 14444, 7918, 6293, 2236, 5280, 4676, 12932, 5926, 16760, 450, 5828, -4230, -4754, 11900, 17727]\n",
            "[-4046, 3439, 15546, -9174, 6699, -6046, 6012, 3952, 7973, 7676, -8380, 5227, 13356, -793, 13492, 3666, 9655, 4514, -7754, -4741, -2982, -1557, 7380, 4798, 1174, 6540, -549, 15591, 5838, 1279, 8317, 3683, 14592, 7061, -247, 4567, 1233, 12027, 5256, 8543, 4039, 16366, 15612, 6511, 6049, 4721, 694, 12046, 11760, 15443, -670, 16677, -557, 7918, 10681, 16038, 5700, -5521, 9393, -1263, 4191, 9851, -5829, 6373, 1506, -6244, 117, 13227, 7898, 4996, 8976, -2830, -1661, 7694, 11000, 15736, 15113, -194, -3234, -1777, 8418, 12002, 16697, 5440, 8722, 13000, -5037, 7766, 5200, 1171, 12001, 1679, -4856, -5355, 8650, 10992, 10168, -2987, 4097, 8251, -4060, -5795, 9642, 11024, 14738, 10705, -1446, 8770, 936, 10752, 1381, -8734, 8014, 6359, 14581, 194, 8453, -3876, 4526, 7375, -2372, 13211, 1819, 11391, 8625, 7287, 15272, 9988]\n",
            "[6048, -2015, -2789, 291, 7802, 12829, 11899, 7033, -1472, 3463, 11834, 4985, -7956, 5968, 9231, 1148, 505, 770, 10837, 489, 1534, 14486, 11326, 8061, 11202, 16228, 2913, -936, 2746, 4086, 9434, -489, 2701, 4250, 9081, 3266, 6233, 9912, -336, 12842, -5978, 742, 10683, -2348, 15089, 11751, 6792, 1216, 2401, 10732, 7784, 8364, 5856, 1868, 11431, 17683, 7940, 4058, 2792, 10479, 979, 3641, 13899, -2763, 14265, 6887, -242, 8702, 8021, 10673, 1414, -2064, 10336, 8032, 388, 6797, 5108, 6407, 9117, 13973, 57, 4395, 3362, 5501, 11728, 12806, 14059, 6922, 17781, -5075, -2067, 17060, 19473, 3624, 10607, 8455, 7284, 5199, 13128, 14632, 5242, 381, 5767, -4923, -6541, 7291, 5961, 11578, -2844, 13615, -782, -5557, 9937, -1384, 4171, -1227, -636, 12727, 15877, 5105, -6225, 4936, 4423, 14549, 7931, 7536, -1958, 4087]\n",
            "[-1703, 418, 4973, -5482, 1352, -3231, 8357, 2087, -3879, 10247, -3447, 3881, 10276, 9333, 526, -626, 9407, 1410, 7614, -5036, 13992, 9797, -2697, 13178, 5053, 10635, 2620, 3664, 8337, -1118, 6013, 5890, 6353, 902, 9891, 14864, 12218, 8341, 8152, 12217, 1321, 5313, 10271, 12222, 11620, 13922, 395, -8899, 9207, 1089, 1851, 6646, 8678, 163, -1541, -3374, 14116, -1603, 7005, 9485, 4181, 8784, 5933, 2118, 8510, -5125, 12397, 4383, 771, -1777, 10831, 4864, 12065, 2766, 7331, 7212, 7418, -5888, -6830, 13885, 17011, 0, -2980, -4462, -3282, 2239, 13528, 17556, -953, 10319, 13659, 12143, 14944, 10929, 2994, 6146, 9533, 8370, 4658, -1740, 17070, 7135, -1344, -912, 2337, 13701, -3830, 10185, 16074, 16886, 5429, 6444, 9971, -755, 10323, 14677, -2713, 1240, 14595, 14490, 16095, -1846, 2001, -7799, -679, -3222, 13796, -1549]\n",
            "[11760, -2421, 5986, -2786, 3710, -1512, 5815, 1629, 5142, 11095, 14122, 2339, -3170, 10234, -1817, -4846, 6606, 471, -1446, 4936, 8306, -449, 13183, 10485, 15040, 8262, 16094, 12196, -4627, 15561, 5728, 2866, 6651, 1247, -4770, 1769, 11086, 4949, 3775, 3082, 9709, 11204, 17402, -3930, 12365, 1732, 1819, 3288, -6626, 5519, 9533, -126, 10684, -49, 4576, 9807, 13598, 14793, 9655, 11125, 11780, 5379, 9159, 1276, 5866, 12305, 12970, 9396, 4071, -3936, 2918, 12195, -6326, 7110, 70, 5880, 13421, 11780, -4996, 7401, -4949, -4713, 2630, 6441, -5902, 1089, 9167, -5801, 6733, 2596, 3489, -6073, -7381, 14913, 14393, -1545, 15835, -2710, 6705, 7145, 13425, 2325, -1909, 3435, 8920, 11940, 2044, 13303, 10944, 13041, -6933, -5464, 320, 10201, 1617, 9293, 11041, -4620, -167, -615, 17157, 1856, -164, 16568, 5562, -5896, 2713, 10680]\n",
            "[-326, 5941, 7160, 13684, 14009, -4166, -470, -4888, 13082, 16728, 10729, -2077, 10096, 4872, 13870, 12080, 5800, 12288, 13007, 6286, 18516, 12486, 451, 14148, 7722, -2608, -9609, 7508, -646, -4877, 5545, 6551, -6711, -3425, 8029, 9321, 7943, 6904, 7252, 3726, 2028, 9970, 15237, 12071, 17098, 6589, 6735, 9093, -710, 508, 13237, 15447, 13698, 3318, 10753, 5650, 1228, 5684, 11799, -5560, -367, 9764, 4806, -616, 11641, -6262, 9637, 17172, 2613, 4959, -7097, -1300, -3142, -739, 60, 11871, -2688, -8372, 12176, 4753, 10099, 625, -1036, 1615, -517, -1512, 17642, 13191, 10304, 4230, -4144, 12418, -8306, -9073, -3528, 13113, 11540, 1835, 15966, 9865, 13511, 10450, 15427, 6475, 16869, 6912, 520, 11258, 14303, 15068, 5516, 13550, 10137, -5817, 12561, 8130, -4855, 8725, 10768, 6367, 7571, 14198, -6205, 10146, 9762, 7607, -1021, 4646]\n",
            "[11342, -6741, 9182, 1503, 3942, 3932, 12690, 8622, 4519, 765, 12308, -3359, 3041, 7420, 10007, -6039, 11557, 11289, 15104, 2593, 16131, -2983, -3426, 11867, 14471, -718, -4851, 6968, 7580, 2844, 10817, -916, 8501, 9636, 7874, 14327, -7250, 12271, 9025, -267, 12792, 2178, 18141, 12011, -5513, 3038, 13173, 11378, 6758, 6530, 12857, 12059, -4123, 4570, 687, -82, 10223, 15316, 3907, 3584, 5806, 2324, 14948, -2672, 13792, 9474, 13219, -146, 1864, -6038, 6232, 9744, -1175, 8243, 9625, 11176, 9787, 5282, -5474, 17878, 10799, 202, -7666, 10189, 1327, 6477, -229, 11415, -4160, 14106, 8545, 10150, 8376, 1827, 3661, 406, 13317, 9910, 4167, 17797, 18588, 653, -6294, 9678, 7308, 11596, 513, 11215, 604, 3054, 12231, -3596, -5626, 3276, 10999, -4651, 7916, -4166, 7771, 3353, 1213, 14538, 10277, 4296, 9072, 504, -744, -1149]\n",
            "[1414, -814, 6373, -2997, -1933, 7578, 9789, 14229, -2943, 10002, -1432, 3019, -6870, -2602, 3988, 706, 5267, 6272, 10093, -1294, 4273, -5121, 5508, 8603, 7797, 14028, 6648, 3924, 2229, 1062, 8513, 10104, 6616, 14303, 1014, 11857, -1211, -4100, 14812, 4019, 7873, 9391, 14388, -4366, 7155, 1298, -2669, 11456, 7221, 4718, 17068, 5845, 13960, 11154, 4026, 8666, 7221, 13264, 9595, 2231, 9623, 9636, 1729, 11008, 10611, 575, 11110, 7030, 12237, 14227, 6997, 9731, -66, 1480, 14722, 9626, -909, 7095, 11366, 5432, 11946, 5006, 9474, 2148, 4797, -6202, -6817, -1341, 13442, -4037, 1065, -2665, 13918, 381, 438, 4491, 8323, 6372, 2436, 13474, 7987, 6737, 6398, 422, 8689, -6339, 1689, 3662, -2388, 8483, 6026, -1106, -5550, -4204, -223, -4091, 15658, -2808, 10903, 10450, 47, -286, 10684, 2956, 6173, 11376, 229, -1953]\n",
            "[-714, 840, 12630, -1946, 5703, -349, -3718, 5756, 11290, 14625, 5172, 12053, 12036, 503, 83, -3183, -4928, 5743, -1829, 8659, 2485, 8826, 15973, 8838, 16073, -4412, -2273, 787, 15624, 111, 3082, 4755, 6865, 3931, 634, -2365, -9169, -684, 2415, 4907, 17817, 10375, -6730, 10245, 7382, 2836, 6110, -5402, -934, 818, -6000, -6856, -1750, 12272, 11921, -2515, -1122, 1544, -3303, -1606, 9585, 3909, 708, 8057, 6055, -691, 3277, -4232, 6950, 1720, 8197, 618, 4004, 5639, 4621, 4485, 8991, 4760, 12184, 4556, 131, 4496, 9229, 13286, 3629, 1905, 15617, 5499, 4936, 465, -35, 2307, 9045, 457, 1847, 16184, -1393, 9060, 14054, 9799, 13598, 11027, 760, 2230, 1068, 12230, 9517, 6555, 4101, 1606, -7737, 5904, 5115, 1887, 8506, 1003, 2351, 9783, 8779, -108, 3563, 2096, 8133, 10246, 234, -5931, 5006, 4431]\n",
            "[8642, 5, 6076, 6295, 11839, 11930, -2875, 14505, 8211, -6683, 3492, -2684, 9157, 17397, 5196, -2525, 327, 13169, -4269, 1543, -1721, 3106, 5276, 2048, 15653, 7239, -204, 150, -7523, 295, 14666, 13739, 13379, 17683, -1628, -2102, 4646, 6942, 6403, 9884, 1069, -5232, 8286, 13320, 5446, -3052, 12139, 10753, 9855, 10408, 12937, 15853, 14494, -4578, 4880, 11387, 4579, 5599, -5917, 1097, 7616, -97, -1702, 3901, -638, -1614, 51, 16408, 210, 14763, -3975, 13893, 8339, -1879, -3461, 8765, 17766, 8345, 10, 3582, -495, 4987, 599, 10826, 12465, 1983, 4356, 13062, 10862, -7139, 11243, 3189, 3792, 4689, 2896, 7938, 13833, 5362, 7472, 2387, 14696, 16891, 2922, 14009, 4820, 19294, 13540, 9307, 12423, 6526, 14041, 11511, -1653, 13104, 10276, 3124, 13329, 2811, 13307, -2725, 4739, -1663, -3337, 4893, -364, 12788, 11158, 35]\n",
            "[4684, 14695, 2126, -1692, -1316, 8674, 9784, -4961, 5484, 7111, -3535, -4827, 14582, 7257, 2796, 9737, 10377, 6264, 9574, 8755, 6471, -911, 3133, -1900, 11556, 10706, -4768, 9888, -4912, 6629, 4210, 1578, 961, -5628, 9117, 1199, -8797, 11152, -583, -1799, 9308, 6734, 6048, 12676, 13508, 9803, -9266, 16952, 3040, -2300, 1463, -12, 11166, 1235, 14978, 10469, 161, -1887, -15, -6882, 5864, -5473, 11122, 3261, 56, 1751, 2121, -1286, -45, 8456, 507, 12255, -5320, -5129, 5178, 13290, -2595, -114, 13056, 15776, -5174, -4439, 5339, 12924, -2107, 9966, 3740, -2939, -8977, -1048, 5855, 4697, -5455, 12248, 9526, 7882, -5751, -8986, 10431, 19247, 13649, 3804, 4183, 6003, 2217, 5932, 16080, 972, 13106, 12763, -6572, 5212, 11731, 13055, -5487, 18636, 11194, 2212, -1178, 1280, 4236, 8261, 4378, 3988, 9064, -1427, 12095, 8738]\n",
            "[15097, 6533, 15063, 47, 9769, -4789, 7517, 12648, 6386, -2573, 2346, -1077, 2445, 11595, 4720, -1918, 10865, 7130, 14531, 1148, 12182, -2645, 15876, 5735, 681, 2276, 10637, 7265, 9097, 5356, 2168, 64, -5903, 12638, 11016, 6638, 14296, 4592, 4556, 18268, 9317, 4728, -9495, 13157, 13874, -3380, 327, 415, 10186, 2410, -8156, 65, 12389, 12336, -1058, -1277, 10719, 7733, 1567, -2762, 542, 9078, 719, 8310, -4415, -394, -58, 11326, 14436, 13102, 4666, -414, 6423, -3015, -1244, 4090, 17873, -5116, 10763, -5225, 15777, 2987, -1656, 10405, 9182, 15293, 450, -676, 6845, 6176, 5591, -7161, 5908, 3186, 3753, 7482, 4044, 1326, 657, 880, 109, 6052, 7794, 4475, 2414, -2900, 5782, -3985, 8955, 12807, 9281, 3569, -372, -5553, 14211, 3928, 9523, 2843, 1800, -4386, -4153, 7538, -2079, 5822, 6676, 8805, -967, 15512]\n",
            "[16466, 521, 12873, 16369, 2915, 4544, 18957, 12509, 9383, 9565, 8449, -1683, -2376, 11226, -5044, -188, 3888, 8481, -6232, 11833, 2887, 5182, 8698, -2935, 1638, 9103, 10848, 3669, 6344, -7233, 17628, 6988, 5827, 11121, -2044, 17135, 1955, 2571, 3065, 4647, 3999, 9673, 11841, 10334, -653, 516, 13962, 6116, -3817, -3725, 4668, 6901, 15886, 2653, 3254, 4211, 8321, -1262, 8031, 5300, 6546, 16639, 6601, 10409, 534, -6101, 15724, 1615, 12905, 4467, 6732, 14313, 9264, 1958, -1391, 879, 15464, 1377, 15087, 4691, -1914, 2002, 7344, 15012, 14512, 722, -3501, 9041, 8460, 6244, -2512, 5, 11374, 14104, 11636, 9512, -3782, 12606, -4155, 4323, -5482, 12347, 4604, 15156, 13482, 2371, 12772, 2546, -3476, 215, -1163, 5092, 8367, -4586, 1948, 7314, -5107, 4479, 5203, 3268, -1058, 5354, 6919, 8001, -1380, -2501, -3566, 502]\n",
            "[-2849, -569, -1555, -6825, -2828, -849, 7940, -8097, 12178, 10225, 5038, -3577, 8342, -1625, 4281, 18106, 9963, 6204, 8516, -4339, 4612, -5351, 10535, 2864, -1382, 13221, 451, -2712, 1109, -4068, 2687, 861, -1372, -760, 6057, 4758, 2499, -1746, 10674, 13850, 4204, -3762, 4211, 18058, -2471, 1527, 16206, -2008, 5415, 3356, 15328, 19540, 1986, 4834, -3726, 775, 11082, 10432, 3755, 6733, 9827, 7710, 13977, 7057, 3316, 8780, -1043, 18934, 11256, -1962, -3628, 3812, 2935, 1286, 2201, 6050, 6118, -676, 17958, -7206, 14988, 6069, 102, 18734, 8640, 17298, 4611, 8809, 1217, 4770, 2200, 15013, -812, 6191, 3199, 6075, 10572, 6575, -2447, 14706, -3431, 10645, 5345, 8570, -4997, 8359, -2445, 3213, -2703, 2501, 4489, 3483, 12239, 1175, 12140, 5488, 3951, -6802, 17393, 4204, -6741, 9559, 14688, 3667, 8565, 8347, 12583, 9124]\n",
            "[-1494, -197, 4246, -4902, 9762, 7459, -2008, 8214, 6713, 11879, -1512, -6, -3820, 4552, 17692, 8356, 16561, 9168, -269, 9251, 15806, -4415, 12398, -3274, 1856, 13034, 6039, 2165, -1306, 5372, 10702, 12724, 2509, 1711, 4354, 12465, 7806, 13015, 13972, 16004, 13033, 1637, 8832, 2097, 12579, 15664, 16315, 13987, 10462, -1289, 5870, -114, -1521, 4400, 11585, -8099, 1785, 10377, 14733, 17061, 10348, -2686, -5619, -319, 936, 11844, 10810, 9499, 10805, 7460, 15453, 3335, 342, 11404, 7788, 3185, 11164, -5138, 674, 15919, -3138, 8133, 985, -6400, 2474, 716, 9463, 5958, 8827, 1668, 2184, -882, -4059, 9893, 2174, 5362, 7269, 16092, -1472, 12118, 2221, 4382, 711, 9704, 4258, 5257, -6717, 6933, 2852, 7966, -1055, 8678, 11577, 17192, 18099, 1690, 8657, 4011, 2050, 179, 15665, 17183, 2428, 3628, 4575, -7013, 8762, 17956]\n",
            "[8583, 13648, 7869, 17240, 13831, -910, 14099, -1297, 9694, -270, -4221, 2961, 1053, 1345, -4525, -1146, 8589, 6739, 8323, 3318, 15537, 92, 1826, -137, 2544, 11258, 3381, 10511, -748, 2447, -4231, 9164, 5217, 10137, -4282, 15659, 2179, 3699, 6132, -2910, 5148, 5226, -3535, 5575, 11892, 12430, 13600, 769, -5472, -9278, -2991, 9360, -8363, -3447, -532, 5818, 6730, 4472, 11051, 16973, 4486, 14705, -1520, 7581, 17989, 5826, 650, 5170, 8474, -1245, 16838, 14800, 8302, 6224, 1761, 8120, 14082, -6273, -986, 894, 3603, 7164, 2459, -8518, -1130, 6732, 133, -1476, 3015, 14724, 4964, 127, 4265, 6809, 9150, 9811, 11119, 9286, 15280, 10150, 2107, 248, 5388, 6817, 9243, 6206, 8891, 3955, 3965, 8988, 7068, 12382, 8152, -7416, 16942, -6007, 2378, 1588, -3513, 2007, 871, 14254, -6703, 6972, -4013, 6369, -776, 3246]\n",
            "[4250, -3743, 9818, 6598, 2106, -32, 5076, 5673, 9624, 7616, -558, -1355, 13995, 12589, -1606, -6515, 2661, 4418, 340, 7328, 16778, 5064, 10200, -1139, 3671, 8667, 9164, 4007, 3453, -1444, 9311, 6895, 2505, 12843, 6376, 11986, -2961, 14929, 6636, 3971, 1092, 13645, 5943, -2936, -3505, 2834, 136, 6270, 6194, 6954, 9704, 11006, 7671, 13502, 1794, -498, 17056, -1001, 7647, 4947, 3262, 5401, 2988, 3973, 5332, -1336, 2800, 19054, 6894, 1814, -3918, 10060, 17293, 4296, 4621, 7721, -1208, 12195, -3585, 17225, 4196, -7935, 3467, 17033, 7182, 1825, 5503, 982, -2805, -2452, 10163, 13559, 6185, 1848, 14832, 11006, 6019, 4498, 11088, 11346, 181, -3241, -1283, 19, 14780, -19, 2975, 7524, 7053, 12662, 13068, -23, 4288, -666, -4165, -2704, 11387, 4789, 13345, 7023, 7161, -5536, 4263, 10743, 14340, -7199, 8069, 5646]\n",
            "[6481, 10887, 413, 7331, 13482, 10042, 4033, 8165, 7076, 3638, 5045, 10348, 10915, -8648, 10568, 2647, 10581, 3887, 1152, 8458, 180, 13374, 1107, -583, 10966, -731, 3341, 5672, 10301, -7368, 6692, 10120, 13345, 13143, -3864, 9655, -3689, 16435, -2778, -501, 16777, -1386, 10252, -7386, 1254, -2378, 6199, -3664, 245, -125, 16248, 8890, 6933, -8456, 10238, 4346, 3163, 10129, 8561, 5481, 5526, 10207, 13274, 4806, 11101, 8942, 16103, 13606, 386, 10043, 6678, 4251, 2411, 6585, 10838, -1988, -6694, -1592, -2414, -4830, 10757, 15593, 13072, -6088, 1535, 12822, -277, 6523, 9998, 4231, 2645, 1752, 13855, 3746, 9033, 13997, 5193, 2565, 12458, 2317, 11708, 2152, -315, -3265, 4001, -2146, 6770, 1176, 9799, 1014, 13969, -29, -3276, -548, 13040, 16872, 2729, 350, 16313, 16323, -2631, 5700, -7513, 13712, 13169, 7940, 12841, 2695]\n",
            "[7777, -1864, 1102, -1305, -1542, 5314, 1288, -938, -8937, -1714, 3691, 13767, -3382, -4461, 44, 2738, 7613, 2347, -2537, -4281, 1548, 2414, 12602, 10673, 9148, 9858, 1889, -1678, -4106, 7194, -5329, 8845, -7950, 12713, -2660, 4530, 1178, -5379, 7590, -1122, 8620, 9582, 8120, 7661, 10824, 13920, -2249, 11334, 6601, -2032, 3710, 4197, 9097, 12645, 3965, 17168, 7785, -2665, -1718, 2235, -1546, 11187, 6647, 1708, -7166, 8669, 7118, -3743, -2149, 9275, 3034, 11297, 9168, 4459, 5469, 14786, 14049, -1697, 5672, 12830, 6873, 3144, -5313, 9216, -2717, 13867, 4962, 3802, 3957, 10099, -5082, 5, 637, 6761, 2043, 10666, 15895, -486, 495, 10217, 4707, 9772, 5243, -1766, -3304, 3876, 9320, 844, 12093, 6740, -6491, 7254, 8249, 13407, 9765, 14712, 5424, -214, 5015, -4311, -4688, 5079, 9813, 6493, 12135, 14676, 12472, -7445]\n",
            "[-5840, 8441, 3096, -4597, 257, 8780, 9137, 2145, -1115, -1714, -8293, 2469, 7658, 11551, 6263, 11701, 8512, -2069, 9864, -1972, 9507, 4606, 14818, -2270, 1511, 16133, -3393, 325, 8355, 2391, 8184, -2551, 4907, 12533, 9315, 1544, 7697, 1755, 5784, -2498, 17840, 2199, 13159, -6073, 7000, 12977, 15162, -514, 13297, 6903, 4985, 8488, 6440, 7060, 6087, 17913, 15524, 7223, 3975, -803, -3237, -3426, -3478, 4708, 17769, 8842, 619, 2127, 3977, 2889, 11195, 10857, 1632, 3800, 13356, 3629, 9905, 9676, 329, -5256, 8013, -5430, 5971, 11148, 5298, 5322, -38, 10728, -2844, 411, 15155, -516, 4286, 2707, 8329, -1861, -6230, -2919, 2462, 3005, 14047, 10162, 17692, -2792, 16361, -1678, 1190, -2236, 13783, 14211, 7795, 6919, -3199, 10396, -407, 9403, 8848, -3709, 5965, -2853, 2353, 10947, -697, 5449, 11971, 14526, 5399, -1091]\n",
            "[12893, 12364, 15107, 9664, 16871, 14834, -7225, -1695, 5017, 9823, 2460, -2669, 1845, 7360, 7863, 3604, 6438, 15774, -120, 10864, 3271, 271, 14876, 4557, 3771, 11977, 14345, 6584, 1121, 7982, 1386, 2732, -5094, 17062, 3730, 9096, -2615, 5345, 9099, 3719, 1723, 10118, 5426, 6408, 4306, 17078, 4931, 5491, -4440, 17953, -1781, 2163, 4792, -5981, -571, -3007, 327, 13620, -7739, -7000, -7737, 23, 13496, -152, 3761, -1071, 7901, -9420, 17018, 7718, 11410, 14283, -8235, 5608, 5308, 2494, -7246, 8671, 2175, 238, -5918, 3822, -9191, 2678, -777, 5232, 1174, -1103, 19212, 6957, 7737, 3723, 2644, 8882, 8292, -833, 1589, 2648, -2508, 1240, 765, 740, 13188, 2891, 12665, 684, 2692, 11579, 9114, -3718, 7674, 15193, 3959, -520, 10616, -87, 8440, 10220, 1141, 4097, 9586, 3113, 18502, 10895, -3368, -1664, 681, 83]\n",
            "[11402, -3628, 2428, -1309, -5506, -1299, 561, -2370, 2591, 11796, 10090, -3260, 14176, 661, 9198, 16940, 13155, 6617, 12825, 10782, 5218, -1809, 6456, -3554, 14777, 3575, 7083, 12411, 5585, -9687, 518, 3709, 5079, -721, 10485, 2940, 13408, 8285, 3523, -6843, 5931, 2932, 11944, -3425, 13556, -1279, 8805, 6879, 16392, 14778, -4281, 8402, 3622, -2303, 8711, 9698, 399, 8624, 6881, 17235, 8538, 17947, -8507, 11321, 8716, -1935, -5185, -5925, 11794, -1994, -2925, 1121, 17597, -1619, 3900, -3867, 8552, 9783, 8917, 9557, -4577, -15, 7043, 9503, 3904, -2973, -3886, 9226, 3872, 16256, 4388, 11137, -4062, -6516, -4876, 14661, 17839, 4307, 4434, -3111, 3547, -1433, -9213, 6075, -1114, 8718, 12374, -4626, 1235, 2578, 530, 9662, 4920, -1979, 7946, -7623, -6460, -3602, 2921, 554, 2045, 10291, 4002, -3721, -6984, 6623, 11954, 12918]\n",
            "[16707, -2498, 13663, 2952, -397, 2439, -4335, 14772, 13537, 5786, 2034, 7113, 862, 7483, -5216, 3508, 1547, -748, 336, 2103, 6581, 4915, 9327, -3252, -5198, -1077, 12234, 16971, 9581, 11351, 5704, 822, 400, -4607, 5221, 1706, -5036, -5090, 10617, 4235, 6371, 4563, 5810, 7750, 1593, 4646, 7849, 2695, 8605, 3928, 8626, 5795, 12453, -6591, 5613, -49, 1011, -3360, 7865, -1023, 10747, -2989, 412, 5825, 15248, -1080, 14045, 5147, -865, -5277, 811, 3737, 1575, 10114, 5190, 10946, 13279, -9004, -2974, -8463, 16340, 9521, 8728, 6771, 25, 8520, -5576, -4224, -4474, 9603, -2462, 16865, 117, 7276, 7005, 3996, 9508, 12597, 16312, 5452, 16056, -1550, 12320, 4528, 17871, -1084, 1173, 5925, -971, 9662, 3912, -1950, 14789, -2609, 10447, -3497, 9816, -1158, -2818, 14604, 948, -1305, -260, -811, 4495, -4234, 3904, -1309]\n",
            "[-127, 2971, 1361, 7108, -6830, 6982, 19366, 18083, -1032, 2052, -549, 9733, 12319, 824, 11458, -1437, 15855, 13622, -3505, 5952, 1028, 389, -3169, 5028, 11965, 8026, -1661, -5470, 9127, -1874, -1618, 8482, -5406, 12153, 14083, -6652, 7130, 18613, -5700, 11968, -1715, 1230, 7547, 12884, 13440, 5836, 2036, 10242, 10537, 11424, -6050, 11127, 2960, 13810, 13075, -1918, 11649, 10459, 10915, 1252, 3064, 12863, 3096, 6304, 7898, 3075, -3042, 18122, 4239, 4014, 6087, -228, 3364, 8867, 19025, 4239, -849, 2331, -3032, 13081, 10019, 4348, 7313, 6213, 8387, 4993, 4953, -8167, 8796, 2532, 1637, 7681, -6593, 6956, 2385, -1307, -7563, -3861, -6159, -1419, 6805, 6709, -1243, -1649, 5263, -533, 6522, -849, 4832, 8204, 2857, 15556, -447, 14225, 13353, 2219, 10434, -8353, -4364, 2385, 6282, 14743, 3341, 1527, 2618, -4966, -2859, 7789]\n",
            "[8482, 12437, 2502, 760, -4213, -2810, 10497, 9164, 8691, 5975, 6318, 8664, 3507, -1644, 11562, 5569, 5087, 2175, 13258, 9478, 483, 3189, -6896, 4467, 4954, 9631, -2513, -8927, 4481, 13473, 5309, -2564, -2475, 3285, 2760, -2600, 1257, -2530, -8236, 10533, 9653, 5543, 8924, -802, 4808, -98, 6333, 12740, 9165, 10034, 909, 5088, 7859, 765, 6696, 5020, -2061, -546, -992, -282, 3876, 5201, 18846, -17, 6224, -6719, 10936, 8940, 13340, 13790, 13410, 6161, -2834, 13894, -6568, 4977, 17350, 9882, 4266, 10869, 16924, -3432, 3112, -1682, 5491, 10375, 11494, 15771, 3001, 11773, 776, -5690, 12859, 8131, 5399, 9995, 9660, 5967, 1200, 11421, 9249, 11387, -4792, 11074, 6758, 2738, -4354, 1419, 8672, 11095, -5760, 2786, 2070, 166, -1186, -1062, 14032, 5661, 4410, 1466, 4879, 12825, 11268, 1293, 9745, 8142, 5494, 2538]\n",
            "[4224, -7668, 10204, 13213, -2928, 14225, 84, 1119, 10866, -1716, 9235, 11716, -8788, 5781, -7240, -2626, 6781, 11243, 6067, -2777, -3341, 4404, 3171, 1162, 15853, 17429, 18910, 12741, 13079, 7398, 8492, -3415, -663, -949, -3691, 17200, 2415, 13729, 9021, 3147, 8956, 398, 10665, 13054, -368, -598, 9013, 1480, 3085, -3593, 3059, 5384, -6829, 8107, 8155, 1728, -4246, 5246, -2703, -5492, 10660, 9226, 113, 2722, -1297, 10560, 1191, -4899, 5859, 14876, -2067, -6741, 8045, 4650, 6851, 14719, 12424, 10569, 8865, -989, 9287, 7116, 11823, 11665, -7781, 13760, 2212, -864, 3269, 10999, 11823, 16055, 475, -2812, -3596, 12567, 19025, 15354, 14205, 354, 9195, 10624, 4113, 13155, 4703, 8235, -3055, 13647, 5135, 1280, 2870, -549, 3488, 3633, -837, -978, 14722, 4446, 17283, 14952, 11502, 2600, 10445, 5934, -337, -2888, 8909, -6154]\n",
            "[-5591, 7407, 14254, 13555, 10623, -3790, 6758, 17202, 5766, -3505, 6351, 8789, 8901, 6081, 9376, 3381, 125, -6321, 19641, 5914, 2454, 15425, 15620, 6064, 8926, 8488, 3460, 10750, 7511, 1594, 12456, -3053, 1786, 1546, 4279, 7915, 5020, -4684, -6959, 5033, 10523, -5018, 2616, 5848, 1918, 443, 1252, 7173, -1385, 3060, 8191, 10893, -1125, -1309, 16044, -7039, -2291, -1671, 13680, 1963, 12969, 8659, -1782, 5763, -2762, 5649, -737, 14375, -7276, 9321, -2101, 3063, -2601, 7608, -6270, 14029, 9974, 159, -4288, 353, -92, 11440, 12930, 2104, 14274, 898, 6326, 8864, -2923, 1785, 1580, 9697, 17116, -351, -2747, -3729, 5002, 12674, 2909, 11561, 12761, 6164, -5805, 564, 4674, 7275, -4729, -752, 13191, 5290, 2274, -7013, 4368, -4225, 6472, 3875, -2029, 3863, -5286, 4646, 9179, 2835, 7753, 11380, -3375, 9578, 14776, -9230]\n",
            "[-2169, 10784, -6433, 2931, 3609, -1163, -380, 4906, 12953, 10317, 1124, 6168, -1223, 11765, 9649, 13170, 2230, 2857, 3522, 13782, 5234, 10000, -6430, 17451, 5754, 6398, 16930, -204, 824, 4423, 300, 9478, 4578, -6007, 4022, -4000, 517, 11885, 4483, -1004, -3545, -1172, -5256, 16442, 979, 1695, 13248, 11952, -4081, 14361, 8151, 10784, 2619, 7812, 3074, -2566, 4676, -1287, 6805, 10534, 6195, -5601, 12698, -5292, 5513, 10796, 6302, -160, 11028, 432, -4878, 9276, 13829, -53, 5573, -1366, 5957, 14828, -5788, -7809, 10596, 5315, 3301, 5398, 6442, 12463, 9354, 4331, -699, 7470, 13087, 6429, 10880, -3158, 10452, 12273, 9049, -2572, 2854, 11794, 11687, 9033, 3334, 10024, -3641, -7685, 7451, 9344, 11869, 1717, -4980, -5139, 7853, 3812, -1459, 100, 700, 11636, 9495, 18299, 9599, 2954, -6262, 2195, 4514, 10941, 5327, 4955]\n",
            "[-2745, 929, 8434, 5799, 4539, 1226, 18542, 8083, 11448, -3337, 10077, 880, -206, -6447, -8163, 3120, 17381, 3184, -7521, 7896, -8489, 12907, 11419, 8132, -7890, -3, 17981, 2311, -2581, 5999, 4000, 725, -2374, 1596, 1595, 2973, -8624, -2761, 2252, 8959, -7127, 1522, 9363, 8066, 8788, 12122, -4709, -474, 425, 6725, -2979, -4620, 3428, 2677, 14272, 5858, 6746, -2488, 12880, 3463, 15119, 1137, 11434, 3794, 3628, 5110, 13270, -4710, -578, 15192, 4281, -6879, 918, -3448, 1968, -2700, -3113, 2357, -1530, 754, -464, 10000, 5976, -3563, -4293, 6600, 8187, 2008, -2679, 1231, 12149, -2124, -3431, -5556, 2569, 8478, 4932, 14616, 5660, 644, -1976, 11248, 764, 14335, 15828, -647, 14199, -2554, 7027, -2526, 9346, 2552, 12187, 10455, 13052, 1064, 12019, 314, 1667, 6148, -5, 4291, 3641, -7385, 10247, -5717, 84, 13909]\n",
            "[13931, 13223, -6598, 3910, 6322, -1598, 2631, 13412, -864, 797, 13496, 7253, 8903, 8540, -983, 9574, -2749, 1195, 7095, 7856, 13507, 7638, -4053, -3604, 967, 9199, 7010, -2417, 3351, 14347, 2256, 8713, -2678, 4249, -4998, -8135, 925, 10107, 8666, 1208, 6881, 13603, -2839, 9645, 13422, 4623, -925, 12604, -6107, 327, 11661, 4242, 18472, 11544, 4142, 9825, -7478, 8641, -5821, -2072, 11293, -1700, 10043, 2564, -3603, 2379, -800, 834, 4826, -2249, -5056, 8182, 184, 15639, 7683, 10904, 7456, 9583, 6937, 7497, -1278, 4814, 6141, 11301, 3233, 6163, 1017, 4980, 962, 8959, 9337, 14017, 4173, 3617, 3473, 10596, 989, 5819, 12868, 4071, -747, 14144, 12381, -4881, 5597, -1710, 2321, 9713, 7389, 2844, -2979, 11826, 9282, -5002, -2931, 12013, -1643, -8269, 2966, -225, 3538, 14498, 6132, -1549, 13437, -5964, 11669, 5451]\n",
            "[-3281, 4483, -1100, 5629, 3458, 423, 12408, -1106, -2462, 7262, 2115, -1014, 6750, 110, 6504, 13121, 6335, 11816, 8959, 7916, -2658, 12448, 9061, 4895, -3807, 1183, 915, 2794, 11221, 5309, 12557, -3550, 2331, 3962, 6065, 13201, -3437, -5581, -3352, 4099, -2501, -597, 7781, 12760, 4975, 540, -3385, 4221, 17103, -6373, 259, -7537, 3310, -4512, 14899, 3216, 16692, 8851, 7758, 8684, -2675, 13199, 14683, -6672, 15476, 7683, 16295, 8520, 8737, 14011, -33, 7985, 12412, 13838, 14970, -3885, 12858, 15413, 18030, -2525, 13454, 11790, 1017, -8416, 1791, 10309, -6202, 1863, 2476, 8719, 10446, -2263, -1149, 14772, 1923, 11301, -6011, 9424, 5628, 9802, 7549, 6496, 16132, 7664, 5780, -1182, 3790, 14595, -1692, 2075, -6949, 8996, 2192, 12464, 9481, 4984, 2876, 5463, 200, -1125, 7922, 4194, -360, 14500, 2311, 8660, 8372, 766]\n",
            "[15230, 4467, 15329, 7538, 12967, 15586, -2992, -2453, 13577, 8235, 9257, 8173, 11264, 10566, -5479, -1516, -5798, -5445, 14029, 11308, -5771, -3020, 5227, -701, 10829, 6945, 15489, 6892, 17265, 6130, 11998, 588, 7082, 14986, 5800, -739, 5950, 7764, 6609, 6000, 5363, -1956, 13828, 9225, -1057, 15235, 5413, 15685, -1038, 5452, 3304, 119, 324, -2846, 4346, 1056, -8911, 14156, 3329, 12934, 10929, -2263, -3010, 16411, -115, 8975, 4219, 7531, 5582, -1630, 7962, -31, -5390, -2735, 1413, 7964, 6184, 10426, 14408, 10044, 17609, 1518, -6414, 8572, 481, 10194, 4473, -5385, 12080, 318, 8750, -2097, 1452, -266, 3324, 2066, -3255, -7264, 5501, 12192, -4031, 2891, 8605, 14266, -4844, 8120, -4735, 1321, 9942, 2521, -3624, 11773, 10702, 8532, -709, 1008, 4458, -4648, 1404, -558, 6662, 4814, 13909, 12955, 2664, -3942, 66, 6366]\n",
            "[2333, 7580, 12340, -1054, -3146, 3331, 2753, 8224, 18897, 11033, 11602, 5899, 4402, -894, 6860, 2434, 6894, 13522, 9606, 10424, -13, 18242, 2611, -4645, 9347, 12919, 4874, 2549, -3521, 198, 6358, 10283, -220, -6825, 932, -7460, -4357, 15498, 1492, 6291, 2075, -2984, 3111, 16940, 3805, 7230, -8107, 7339, 10317, 11291, 5107, 4341, -2233, 170, 7787, 17320, 9239, -2257, 4872, -7061, -783, 7057, 3479, 14167, 6816, -777, 651, 5835, -2510, -6105, 6741, 13424, 15340, 1446, 7279, -2068, -432, 11067, -2133, 4040, 6130, 2900, -3342, -3700, 13758, 9388, -6254, -1660, -2361, 1323, 11717, 12999, -3857, 8989, -1972, 16051, 2228, 2323, 15157, 6686, 4182, 5662, 8950, 1980, -6963, 16105, 10370, -7210, -463, 6751, 2785, 4460, -1364, 14850, 7469, 1224, -675, -5609, 8363, 2876, 2996, 8224, 5899, 6685, -478, -5658, 712, 13235]\n",
            "[-5631, 4577, 7547, 6319, 6824, -7001, -1021, 15064, 514, 7354, 13352, -1332, -1174, 12044, 4104, 2560, 17865, -1245, 2949, -420, 171, 2274, -2440, 909, 9943, 1807, 4376, -2298, 25, 5256, -5712, 5247, 8307, 6133, 14737, 4331, 12758, 8983, -272, 9671, 3494, 9941, 10933, 6277, 1624, 4270, 5135, -3959, 11869, 18938, -2415, 2699, 2461, 4657, 9232, 2845, 11258, -3279, -4746, 19327, 1609, -1979, 6444, 12481, 28, 2897, 4372, 10156, 4554, 5074, -3976, 15163, 16006, 5983, 16402, 10789, -926, 6792, 14622, 10962, 4384, 4647, -3144, 6089, -4809, -1946, 7876, 14364, 3299, -7398, 3364, 7621, 6628, 8177, -6033, 874, -4021, -2971, -4074, 8685, 110, -7765, -311, 9068, -1594, 4838, 11262, 3789, 11921, 4914, 6254, 11369, 1887, 976, -2925, 11635, 11594, -4439, 7036, 7109, 11792, 3914, -1537, 14723, -260, 9997, 11231, 3004]\n",
            "[3696, -1484, 7818, 15234, 5090, 15142, 8289, 11228, 6274, -4150, -2272, -3159, 13770, -611, -669, 7334, 6096, 13829, 5404, 14675, 14307, 12991, 7613, 9499, -1548, -5919, 10363, 11052, 10063, 1571, 18024, 11530, 15296, 1184, 6496, 12818, 1643, 17682, 9753, 17743, -1620, 2079, 9955, 2610, -218, 3041, 1429, 3181, 10738, 9348, -6444, 4011, 13957, 727, 13026, 7594, 10104, 12018, 10003, 12045, 8977, -502, -6000, 9898, -3465, 8917, -2890, 18164, 5817, 3291, 4362, 1773, 1483, 2679, 1872, 10832, 6633, 10493, -3412, 11013, 2688, 5225, 10778, 3393, 3561, 9557, -4846, 2331, 5786, -2936, 13167, 3671, 11384, 136, -2424, 15731, 9261, 3205, 9887, -3306, 14021, -1822, 19715, 2924, 2880, -4892, 2700, 13279, 313, 116, 11905, 3494, 16547, 9045, 15844, 5995, 6141, -5695, -4889, 6034, 13243, 12853, 6191, -1896, -1857, 5430, 8590, 1532]\n",
            "[1176, 1508, 13111, 12295, 11806, 13802, 11096, 8471, 12963, -1458, 17423, 14434, 6628, 2657, 2099, 14471, 13544, 6134, 10987, 11354, 11860, 122, 940, 5060, 7078, 14155, -261, -3926, -5653, -1929, 4106, -5088, 298, 6753, 2961, -5415, -6403, 11131, 8213, 2545, 10465, 18454, 5213, -2683, 3004, 6840, 8859, -4703, 11056, 14723, 13646, 1973, 7358, 12797, 8118, -1920, 7390, 1024, 11100, 11299, -5482, 15427, 14207, 10496, 12088, 10464, 7437, 15767, 17182, 14433, 9573, 1704, 10288, 17561, 15150, 4137, 15351, 14449, 15776, 3522, 13950, 4075, -2984, 12586, 16036, 6955, 6183, 5051, 425, 6216, 7272, 16634, 8443, 9073, 796, 10607, 12980, -2187, -938, 5396, 10159, 4096, -2615, -1007, 1077, -2165, 7300, -8615, 5054, -1983, -1921, 16999, 4003, -2681, 7510, -695, 5130, -6916, -3688, 6070, 1436, -5983, -2963, 9308, -7183, -1775, 11214, 5320]\n",
            "[8633, 11527, 681, -412, 2376, 2635, 8212, 5871, 8465, 13070, 6958, -1804, -5547, 2647, 2823, 1633, 10417, 6586, 12682, 4951, 11966, -4670, 4838, -6150, 8195, 9859, 1022, 15304, 14962, -3871, 1508, -5037, 9684, 1495, 19151, -8375, 3104, 2932, 16834, 3685, 4471, 4204, -1147, -1115, 17049, -4705, 7243, -7337, 4791, 4378, -4988, 1838, 4723, 5152, 15023, 2900, -7138, 10161, 5141, 12966, 5117, 1621, -85, 15170, -1848, 3640, 11552, -822, 597, 9066, 9648, 8387, 3367, 2907, 522, -5474, 10512, 5162, 8583, 9075, -6522, 4736, 7313, 2863, 7681, 5973, 8161, 13884, -819, 10163, 9897, 7602, 1098, 9760, -4775, 9394, 16067, 826, 301, 2174, -1715, 14971, 1776, 5505, -2809, -3273, 18835, -5362, 3072, -286, 720, 1923, 9636, -4529, 7987, -245, 10839, 7164, 2792, 9396, 18030, -5974, 10710, 8431, -4355, 11023, 9207, 8266]\n",
            "[-3827, 10021, 16792, -524, 10150, 12633, -3098, -4100, 2608, -2183, 3447, 18407, 2407, 15328, -1771, 8729, 6401, 3337, 6520, 6783, 7600, 2002, -3256, -1848, 1842, 12216, 13435, 2843, 6254, 595, 11559, 5285, -2263, 2279, 15030, 11946, -1798, 10348, 4682, 289, 5659, -3174, 7388, -219, -6533, -197, 1265, 4448, -2147, 4853, -1565, -3197, 5499, -1549, 6607, -1906, -9, 11200, 3304, -247, -2963, 16787, -457, 1000, -1890, 8039, 477, 7364, 11099, -4488, 1808, 2425, 4697, 16957, 173, 14305, -2285, 8345, 9848, 16209, 8256, 14826, -2570, 1405, -3399, 1017, 8484, -2530, 2109, -6513, 15462, 17725, 9126, 14242, 6004, 1986, 3389, 11301, 2083, -727, 4312, 6106, 11702, 14756, 11588, 7273, 6415, 4945, 12291, 9159, 12397, 13882, 15251, -2470, 7165, 5307, 10828, -1048, 4071, 2918, 5643, -101, 4648, -5762, 5598, 6695, 874, 1106]\n",
            "[3886, -764, 2694, 2941, 10949, 7182, 525, 7561, 9419, 2815, 9901, 5365, 2828, 2816, -3552, 9962, -1043, 10759, 14212, -7121, 15732, 2766, 3327, 2280, 7505, -2886, 7643, 11100, 6347, 8600, -2608, 10253, 13001, -327, 6533, 1863, 10214, 6580, 4796, 3444, -846, -4419, 14767, 9999, 11564, 10528, -5471, 12739, 8373, 11808, 7197, 4970, 18054, 12449, 2547, 16057, 11247, 6655, 124, 2984, 7901, 12925, 10908, -1219, 580, 16337, 5924, -2006, -3953, 5259, 11026, 4448, 1017, 10369, 5210, 7696, 15231, 1589, 11516, 5775, 11222, 7411, 13067, 12459, 7854, 6536, 9816, -5012, -3520, -6692, 9347, 3231, 3438, 13737, 1065, -2180, 14968, 2577, -2093, 4568, 13881, 1902, -159, 12174, 11911, 9909, 14348, 2263, 7768, 4717, -77, 5580, 12007, 4970, 5211, 2446, 1686, 11398, 2671, 6413, 5528, -2537, 12892, 11639, -2621, -22, 4375, 8209]\n",
            "[10442, 3271, -1115, -3689, -771, 413, 14000, 4872, 10168, 4874, -1650, 1053, -821, 576, -675, 15673, 14385, 7028, 2755, 14473, 2732, -5088, -410, 12691, 12826, 6175, 4938, -8370, 9221, 2332, -1159, -7081, -3045, 3786, 6815, 9662, 145, 13286, 12413, 3287, 8960, 9298, -2675, 998, -1393, 5392, 8000, -8881, 1561, 323, -1635, -7063, 18529, 13174, -87, 8583, 3397, 2621, 4382, 8624, -1174, 15074, 2160, 645, 3380, 8911, 8122, 16958, -3319, 4452, -2734, 6409, -421, -1621, -1634, 11780, -1683, 5786, 7624, 3187, 5127, -157, 1242, 4778, -161, 756, 13147, -1844, 8733, 48, 7038, 15123, 8380, 4960, -9376, 3361, -2648, 5251, 5283, 9159, 9140, -546, 4933, 6095, 2139, -818, 5009, 4907, 7379, 4392, 5707, 6485, 11130, 516, 12777, 5388, -3896, 4730, 6324, -7449, -8559, 3643, 2255, 10462, 5611, 660, 18635, 4804]\n",
            "[3014, 13041, 12025, 13441, 4004, 12801, 429, 15719, 4441, 9048, 6908, 14477, 10868, 1729, 2446, 6762, 11723, 10013, -504, 8529, 11853, -994, -453, 10479, -3536, -561, -4498, 4854, 6759, -7003, 16299, 10152, 14790, 4407, 1729, 9165, 10783, 10518, 14556, -1480, 12219, -512, 7409, 12000, -1843, -3113, -978, -8557, 7557, -5413, -3251, 1635, 12901, 14603, 5040, 16494, 11474, 10987, 13423, 3204, 1446, 6264, 17652, 6218, -979, 2891, 3477, 3911, 5610, 19685, 18180, 19286, 483, 3514, 8306, 2640, 16192, 8946, -3747, 9282, -351, 14745, 12051, 12867, -460, -3819, -7606, 12064, 6283, -1428, -2073, 2038, -5856, -6010, 13753, 1908, -5579, 11085, 1994, 1969, 687, 4612, 5339, 11809, 16554, -3934, 2510, 4663, 15055, -5653, -1053, -330, 8718, 15788, -2452, 2351, -235, 5746, 6043, -2948, -1441, 10530, 2590, 14120, 5956, 220, 639, 8824]\n",
            "[6085, 9340, 5463, 2612, 61, -2262, 2963, 496, 8032, 3618, 5385, 6967, 7145, 5697, -5667, 6376, 322, -5028, -5498, 14277, 8410, 1399, 17540, 857, 14453, -7766, 9252, 7976, 3765, 6106, -1087, 9079, 7770, -7184, 6458, 7973, -7408, 16055, 14914, -733, 9675, 17713, 442, 15813, 8626, 11060, 6737, 4805, 7983, 15153, 11591, 4993, 301, -6874, 2355, -1479, 4748, 4386, -3662, 7447, 6838, -1118, 12514, 158, -6740, 13684, 9436, 7224, 16688, 8871, -4384, 10648, -3754, 2969, 7698, 13479, 5937, 6008, -4988, 5025, 1992, 9751, -1114, 5848, -399, 9905, 7648, -883, 18189, 85, 3555, 17538, 2439, 8411, 5264, 17608, 16068, 5464, 446, 6652, 5850, 2270, 8469, 9089, 6376, 12884, 12464, 11155, 11475, -3213, -8316, -523, 3306, 2735, 970, 11907, 10411, 10633, -378, 13621, 6493, 6133, 8661, 4164, 10564, -7044, 5652, 297]\n",
            "[440, 8250, -8046, 14187, -1735, -2466, 10274, -1272, 9328, 311, 490, 11005, -1472, 4656, -570, 19109, 4277, -5941, 4334, 10476, 9018, -6229, 14090, 11079, 73, 4508, 8309, -961, 10537, 624, 2781, 1919, 13717, -2727, 160, -3687, 6594, 858, 8171, -9374, 5173, 9362, -3993, 6978, -1651, 1880, 615, 15205, -436, -4747, -2190, 1133, 5881, -576, 1827, 7063, -4464, 10371, 5108, -2225, 11985, 14146, 7995, 7869, 9519, 18244, 12276, -2673, 10199, 10589, 18339, 5801, -8973, -3216, 5996, 12618, 6049, 8644, 104, 16019, 12900, 6814, 15852, 2328, 6168, 2839, -6694, 4161, 1872, 3278, -3, 6928, 14645, -3815, 9624, 14700, 5876, 14912, -4675, 15411, 6968, 754, 1426, 5037, -1867, 4640, 10859, -4804, 8785, 11412, -352, -900, 5600, 13355, -260, 8850, 13861, 5726, 5781, 8223, 10370, -6737, -2118, 3581, -3938, 5137, 9237, 12909]\n",
            "[1613, 14549, 4141, 4680, 1725, 9305, 7480, 13483, 8396, 3973, -1184, -5856, 17318, 6898, 7446, -2582, 8635, 7464, -1167, 5240, 6057, 8504, -4661, 9874, 6301, 6640, -606, 5461, 3362, 11735, 8865, 377, 10881, -243, -2972, 15385, 4366, 12454, -6426, 4805, 7198, 17425, 11901, 4393, 14310, 1065, 2818, 7731, 1608, 1194, 4916, 7787, -945, 19095, 5268, 10409, 3930, 13375, 2673, 2707, 8245, 16098, -682, 3885, 11476, 9763, 13297, 5485, 13037, -6954, -2689, -8394, -3859, 2951, 6659, 2060, 7552, 6549, 1747, 13084, 9489, 10129, -1867, -4859, -125, 8341, 7621, -4848, 7960, -2430, -6752, 9703, -4463, 16278, -332, 7500, 7512, 14395, 12646, 11261, 1534, 13583, -6062, 16985, -214, 12424, -247, 10510, 14721, 2995, 7066, 11790, -4880, -5385, 4232, 9661, 13825, -2067, 15158, 9589, 7375, 13837, 14186, 1271, -2550, 4849, -1080, 15528]\n",
            "[16435, 15207, 12445, -6731, 11083, 769, 6592, 14897, 1562, 8776, -573, 7873, 11212, 2411, -4455, 6844, 6958, 7845, -2653, -5692, -1908, -3195, 5781, 5922, 8225, -193, 6825, 3027, 7980, 14492, 9984, 10805, 3418, -7497, -665, 557, 4189, 6538, 11975, -2038, 10753, -1496, 9433, 15150, -727, 9878, 9550, 14417, -7357, 12408, 1840, 16810, 13055, 6388, 11503, 1245, 1812, 200, 11107, 4046, 844, 6097, 5569, -652, 5595, -1875, -1735, -4448, 5449, -407, 1234, 2100, -6361, 14509, 10348, 4492, 11073, 5329, 5241, 9101, 11768, 4824, 7768, 1722, 6136, 9736, 499, 11268, -4326, 153, -4451, -5042, -1204, 4117, -623, -3065, 10534, -693, 13644, -1085, 14993, 11302, -5327, 8219, 393, 7888, 3162, 16046, 11493, 6919, 407, 9935, -399, 1680, 10398, 342, 13163, 4582, 1031, -3278, -2938, 4198, 3359, 2301, 943, 9504, 11084, 2801]\n",
            "[4684, 362, 3482, 15457, 15691, 3483, -349, -865, 3742, 2198, 16473, -3622, 5485, -1440, 6795, 5107, 16364, 6707, 5547, -693, -9107, -1561, 11867, 5342, 13552, 115, 10679, 3377, 7141, 9211, -7167, 4513, 6165, 9422, -3602, 5782, -5251, 6730, -1273, 887, 7376, -3835, 15115, -1441, -3940, -3890, -3359, 12328, 4761, 12936, 901, 8687, 251, 1488, 3378, -5603, 7259, 498, 1526, -2962, 5533, -8089, 15036, 4499, 11919, 3190, 12768, 3006, 11530, 15150, 14266, -6214, -587, 239, 1061, 7594, 14103, 8865, 4573, 6706, -1696, -1338, 10352, -1310, 1994, 6278, 14629, 2095, 1046, -1217, 8012, 13078, 6708, 10881, -601, 5862, 10509, -1525, 8241, 3977, 7930, 9169, 4317, 5058, 9689, -29, 1852, 6351, 18713, 3971, 891, 6236, 12860, 11170, -1960, 6270, -599, -474, 11620, -795, 9528, 6241, 3724, 16563, 2736, -2101, 14777, 17847]\n",
            "[10945, 16794, 207, 4901, -4432, -1052, 8596, 9927, 14974, -697, 11057, -7344, -1108, -12, 4579, 11535, 7566, 11587, 15640, 2802, 10377, 7596, 8847, -2909, 7155, 3471, 6966, 830, 13858, 7708, 6931, 10915, 9514, -4568, -8475, 8437, 9869, -1877, 11554, 5161, 4027, 12808, 11093, 11220, -1354, 6184, 14204, 11362, 13879, 8095, -315, 11591, 9502, -7467, 261, 10906, 19429, 13689, 2879, 5399, 17215, 1013, 7108, 18212, 9751, 6263, 8983, 12928, -6600, 12489, 11039, -6763, 4098, 3946, -3250, 7271, 1783, 8733, 3540, -8384, 2162, -992, -1165, 16358, 13288, 9691, 3012, -2920, 6237, -5677, 8228, -2059, 17211, 1249, 2390, 1788, 1613, 12980, -525, 10514, 9223, 2046, -9007, -4488, 4208, 10038, 15489, 1609, 9090, 9292, 605, 19331, -2100, -4637, 11159, 2698, 9873, -6180, 17139, 11445, 10855, 12213, 6444, 5954, 12029, -5914, 1123, 19210]\n",
            "[840, -6710, 3605, 2468, 5818, 16296, 10433, 11421, 5038, 16110, 18489, 11897, -2904, 16894, 11898, 803, 8455, 11289, 2402, 8245, 7125, 3418, 12186, -280, -1061, 6914, 16398, 3937, 16756, 8165, 12539, 7474, 12816, 1752, -3566, 12869, 10772, 1217, -917, 9303, 1114, 1692, 8428, -3950, 12022, 12893, 195, 1283, 1334, 6485, 10638, 2258, 7320, 6539, 5159, -7539, -3610, 11143, 5321, 2250, 9431, -2732, -5145, 2581, -7836, -2464, 14655, 9812, -3620, 1336, -1671, 13190, 8971, 3142, 17227, -5445, 9935, 9951, 12854, 17664, 7604, 5431, -4909, 1143, -4980, -7246, 6198, 16581, 2045, 12848, -810, 4528, -1200, 10484, 13563, -1392, 2881, 7429, 2083, 3754, 12381, 9602, 1427, 5226, 6028, 13986, 5911, 1432, -373, 5299, 1015, -1075, 4621, 6005, 8761, 16210, 10133, 13606, 6307, 3010, 4493, 2007, 5642, 7697, -8518, 3316, 8216, 332]\n",
            "[793, 15391, 7427, -2764, 15918, 15142, 11194, 10424, -4486, -765, -5159, 9049, -678, -169, -6862, 15703, -522, -3089, 12159, 11984, -464, 1722, 8935, 16233, -8150, 3815, 2841, 16013, -9447, 11728, 6439, 6352, 5862, -5197, 3858, 17994, 13444, 4800, 7824, 4655, -469, 2455, 1407, -8245, 1371, 9300, 4607, 15548, 8331, 6425, 7371, 663, 3922, 3235, 15584, 2711, 12148, -2326, 18157, 431, 11563, 14525, 17414, 8694, 15993, -976, 12921, 2720, 7259, 3889, -4565, 12896, -1723, 3735, 17597, -3962, -1323, -4045, -543, -1313, -1181, -2370, 7805, 1821, 11531, 15963, 8375, 8143, 10312, 6786, 11046, 6293, -1403, -2181, 1700, -3072, 1415, 13155, 7998, 15797, 12837, 5239, -2107, -2851, 4200, 5693, 10859, 13782, 1771, 9976, -1986, 9303, 8954, 109, 13076, 1185, -593, -996, 3083, 3725, 3081, 8278, 3717, 2421, 13516, -2577, -1199, 10922]\n",
            "[2547, 2405, 14885, 8311, 10355, -2895, 7951, 507, 18696, 13068, -121, 5773, 4712, 2503, 15306, -1412, 6158, -6904, 9653, 1400, 16144, -1471, -87, 18387, 10379, 17497, 1810, 3716, 7600, 12270, 2961, 10299, 12210, 10330, -4313, -4047, 7365, 11608, 11624, 982, 10340, 1476, 7143, 3038, 11628, 15738, 4752, -1310, 720, 7985, 2673, -4235, 2257, 9339, -1680, 15381, -1534, 10238, 8914, 7708, -268, 8633, 14515, 16667, 7265, 1311, -2902, -2560, 4647, -1640, 14829, -3874, 3423, 1636, -5574, 6001, 715, 13138, 5313, -3735, 11930, 8287, 10258, -8604, 7438, 4771, -900, 6377, 9827, 2156, 8984, 17036, 2577, 16763, -1360, 3442, 6088, 12388, 2233, -2917, 17254, -5074, 15000, 10696, 4853, 11298, 5500, 9775, 13707, 7829, -922, -5210, -5626, 1766, -6777, 118, -3009, 14214, 6733, -3179, 10713, 1381, 6378, 9210, -622, 13121, 3991, -3256]\n",
            "[13706, 2522, 17322, 1331, -5246, -2282, -1869, 5680, 3906, 15109, 15737, 11806, -56, 409, 5867, 4401, -3109, 15034, 7334, 942, 12114, 11045, 627, 3097, 19076, 718, -4521, 10519, 17034, -3263, 16214, 14837, 4809, 6097, 7664, 14791, 14284, 2672, -3414, -875, 4599, 11531, -5052, 11660, 2543, 89, 13277, -4623, -2532, 4678, 332, 13210, 865, 1523, 12875, 16515, 4894, -7420, -9135, 14986, -2844, 14417, 2394, 2307, 1908, 2633, 7155, 5059, -4231, 11414, 11597, -1769, 6590, -3655, -279, 4697, 9040, 10528, 8430, 7917, 5621, -4813, 8296, -4771, 1941, -5844, -2678, -7030, -6611, 9601, 7908, 6236, 1668, 2024, -435, 9750, 3790, 1666, 3262, 4575, 8373, 5431, 5862, 354, 9933, 973, 2343, 1823, 3103, -6095, 4708, 7954, 7337, 1029, -6078, 4558, 9139, 18188, -5904, 13934, 3535, 3140, 15717, 13232, -3809, 5043, 6042, -3528]\n",
            "[6267, 4318, 497, 18125, -2023, 5952, 17985, 4723, 14208, 10177, 14385, 7768, 12705, 12699, 11215, 8140, 8179, 15030, -2890, 12245, -3156, 1049, -3381, 10724, -1543, 2174, 6958, 6474, 7626, 341, 15381, 3345, 7259, 10905, 5753, 1370, 7376, -482, 4238, 11739, -7518, -8442, 2326, 4679, 8379, 4223, 3710, 12719, 7003, -1061, 12197, -6653, 17566, -6967, 9219, -1056, 5708, 4242, 6743, 11135, 8033, 13864, 15775, 3597, -2193, 240, 12029, 11191, 15828, -5996, 12368, 15969, 11913, -4674, -4175, 13346, 15691, -370, 12815, 11902, 16338, -4805, 6164, 1141, 7233, -5199, 11930, 6467, -2413, 13614, 8200, -569, 4020, 4521, 8035, 16848, -344, 12325, 3312, -509, 3689, -6938, 7896, 1470, 14642, -2488, 8038, 9841, 5144, 2301, -5065, -4674, 2059, 2614, 6401, 13451, 1147, -7907, -1587, -4216, 8419, 2325, 5802, 10280, 12887, 2241, -3882, -3939]\n",
            "[5099, -154, 195, 4768, -1338, 888, 6551, 19308, 13198, 10730, 13460, -3277, -2224, 11096, 8430, 1206, 2865, 15229, -786, 1930, -138, 13706, 13232, 6895, 4295, 10667, 13704, -3238, 12209, 10388, 4700, 4908, -8210, -1679, 11835, 4686, 6801, 11956, 10100, 1645, -1505, -8440, 967, 1229, -4406, 2532, 3190, 8271, 1607, 13171, -789, -3503, 8013, -1501, 16647, -8189, 1102, 16664, 9580, 3699, -1935, -5264, 6355, 4523, 4258, 8846, 4741, 12133, 14297, 8139, -4249, 12753, 7545, 4128, 7379, 11904, 10909, 3618, -428, -5497, 10682, 1423, 9125, 10530, -53, 315, 2023, 6827, 2449, 9406, 16005, 5655, 4015, 3999, -6223, -9092, 3560, 8190, 15388, 12881, -5774, 16181, 6085, 5029, 7576, 9879, 2528, 7360, 8854, 8327, 8023, 10686, 16422, 7099, 13969, -4125, 3315, 14318, 15044, 16459, 3300, 9785, -2828, -749, 18107, 11667, 1841, 816]\n",
            "[-429, 7238, 8404, 6121, -1447, 721, 3309, -6909, 4563, 6461, 13215, 17917, 14453, 15680, -4270, 17768, 12582, 13488, 3754, 115, -3525, 325, -1864, 14300, 4575, 466, -1168, -6313, 3168, 4957, -3543, 1057, 5949, 2827, 13798, 8730, 14247, 8711, -775, 7360, -4402, 2716, 12504, -1017, 1766, 2372, 10330, 3441, 5091, 3297, 16455, 10171, 8080, 10227, -2600, -4627, -1746, -3430, 9893, 1009, 9988, 11916, 10806, 5496, 1057, 11348, -4014, 705, -4208, 13468, -3045, 9071, -1245, 12042, 8500, 12569, 2324, 13491, 8741, 10425, 10367, 15126, 7748, -1739, 11825, 1277, 841, 3259, 4483, 9543, 13556, 9282, 1461, -6765, 3691, 6168, 17997, 13860, -390, -6430, -4574, 6709, 7752, 3842, 1322, 5947, 10971, 5696, 16456, -1582, -7288, 9077, 12609, 9065, 14258, -4420, 10263, 473, 9069, 1565, 2786, 10622, -1325, 8532, 6356, 10704, 5066, 9973]\n",
            "[599, 10602, 5365, -5329, 14309, 3175, 9593, 16088, 10302, -1436, 16161, 9534, 5996, 11377, 6454, 74, 6013, 10091, -2107, 13944, 8678, 18395, -1391, 3251, 7875, 3658, 14362, 1764, 4661, 3826, 10964, 7419, 15476, -4599, 5239, -2887, 6130, 7777, 17261, 14730, 10473, -4047, 13276, 7547, -1495, -1336, 9362, 14421, 984, 7334, 11757, -1628, 6765, -3419, 8083, -1411, 1696, 7342, 221, 13163, 9211, 6324, 8282, 16796, 6820, 8405, 12450, 5900, 931, -5981, 4501, 2277, 11006, 7073, 2709, 6535, 38, 10494, 3390, 2677, -1156, 13343, 7755, 3730, 4944, 10071, 12494, 4597, 2930, 13484, -2503, 8767, 8705, 3556, -5953, 16050, 2262, 12300, 714, 11539, 4441, 11345, -5097, 9966, 1016, 1505, 12466, 17927, -680, 8236, 6768, 9407, -1772, -1752, -1320, 10332, -335, 12621, 9637, 8823, 13816, -189, 7860, 3063, -5909, 14240, 1646, 1187]\n",
            "[-815, 13991, 6078, -361, 17712, 6449, 1786, 2711, 3908, -5718, 16992, 2420, -4516, 7504, -2008, 13438, -6689, 8537, 17094, 9219, 12668, 12416, 2865, 2483, 203, -853, -632, 2019, 1059, 13636, 11744, 4168, 6153, 16151, 1688, 1079, 9734, 12721, 9307, 19725, 9893, 3355, 7680, 4711, 16317, 6957, 11689, 17260, 3013, -2082, 4514, -3295, 15506, 16185, 12437, 10933, 12031, -4972, 2390, 8638, -594, 17260, 10083, 9553, 10111, 633, 4773, 10666, -5590, 8742, 7981, -1326, -4311, -6794, 9601, 5752, 7361, 207, 8995, 10208, -2222, 2864, 12204, 7076, -4779, 1470, 11589, -1816, -365, -2390, 12727, 15162, 14622, 1640, 12276, -5121, -7775, 11504, -5003, 16757, 8139, 5653, 760, 7319, 3711, 14434, 8304, 5845, 3279, 4718, 12189, 3650, 16339, 10847, 4945, 6811, 12120, 8043, 2520, 6224, 1557, 7593, 11662, -481, 5886, 452, 4234, 3325]\n",
            "[4745, 8760, 14714, 749, -6886, -987, 905, -5924, 12598, 17072, -7027, 1473, 6292, 12376, 15271, 14057, -4033, 3809, 5386, 7979, -5226, 3062, 13594, -8459, 6448, 16654, 3082, 3975, 8426, 9184, 16996, -4193, -5995, 10776, 8675, -1746, 7657, 8026, 9213, -5187, -3717, 7889, 5089, -271, 5698, 8019, 7601, 3711, 11782, 2664, 15968, -1760, 5754, 15155, -2041, 15142, 14215, 1102, 5909, 3237, 6970, -4174, 13893, 7428, 10039, -466, 399, 3964, -856, -3433, 10808, -8654, -5105, 11703, 2183, 991, 8672, -605, -2707, 14382, 7767, 4448, 4809, -1470, 17625, -7705, 10424, 5784, 801, 14953, 13483, 15778, 2498, 3260, 1171, 11754, 9042, 822, 7416, -3352, 12392, -8540, 11872, 2355, -5501, 10632, 2442, 11289, 5876, 6279, 15491, 3848, 9728, -238, 6460, 7635, -7966, 8283, 2030, 7542, 2415, 3371, -4408, 11362, 13706, -7309, -3368, 9115]\n",
            "[4748, 11030, -4754, 6618, -3349, -4672, 12884, 1606, -5694, 2591, 15740, -1638, -4414, 5143, 10588, 11609, 6808, 4436, -6, 11158, -6843, -2118, 14124, 7861, 12962, 4630, 5611, 9741, -6742, 16125, 9346, 785, 6523, 4311, 13597, -9398, 7613, -241, 9273, 323, 595, 5718, -1074, 13875, 4162, -808, 16127, 582, 10580, 7176, 14480, 9561, 17361, -8663, 10566, 8684, -1464, 15286, 544, -5160, 7671, -3822, 14221, 13385, -8473, 3777, 1298, 9450, 1343, 9091, 8073, 290, 3942, 11191, 5732, 8176, -3105, 7424, 19632, 1035, 3345, 1057, -2640, 630, -3290, 12693, 16680, 9178, 10883, -2412, -5730, -2905, -3445, 5949, 7817, 11714, 5485, 6401, -395, -2271, -186, 10362, -7624, 10945, -4950, 1406, 15436, 5117, -443, 878, -2180, -2561, 7038, 11311, -1804, 400, 6522, 1541, 9205, 5347, -1211, 9708, 1681, 8733, 7957, 2654, -2075, 1546]\n",
            "[-465, -3728, 2782, 4660, 12238, 380, 15311, -1787, -5466, 5256, 5738, -271, 377, -2981, 5990, 6237, -7011, 19045, 10404, 10762, 4442, -4197, 5281, 3226, 6760, 9540, 10946, 1139, 2691, 4136, -4800, -1574, -6740, -4742, 3525, 670, 4303, -6678, 4543, 9365, 50, 4132, 12135, 16998, 16958, -4954, 7225, -959, 16723, 1521, 11024, 3398, 605, 7432, 12268, 4447, 7654, 3761, -5493, 15569, 1689, 1532, 1218, 9682, -983, -4947, -373, -1492, 13103, 4957, 8495, 9622, 11427, -2307, 14668, 2999, 10668, 1885, -618, -4992, 15629, 6327, 15099, 4237, 147, 7996, 553, 6900, -8475, 2955, -3055, 13928, 18179, 9402, -1132, 10681, 10616, -1413, 3474, 3719, -1452, 10600, 16489, 3533, 3320, 9133, 9980, 9886, 1809, -4346, 9727, -5782, 7251, 8947, 7669, 1012, -2609, 1479, 707, 7297, -2012, -298, -1987, 13167, 6018, 4009, 11428, 4246]\n",
            "[3760, 11431, -1042, 6297, 11417, 4878, 206, 1251, 172, 10543, 7244, 11015, -8807, 52, 10612, 2770, 5675, 13226, 6039, 9775, -5796, 4308, 14743, 832, -6074, -950, 7292, 771, 11465, 5673, 5166, 979, 12772, 10258, 9389, 1748, -1812, -1331, 4320, 10622, 11700, -1277, 16954, -5752, -2944, 7634, 1034, 11660, -4545, 707, 3434, 6695, 4546, 10837, 3158, 8351, 11508, 16141, -4474, 12896, -6050, 3466, 8047, 6125, 4785, 7211, 3430, 2389, 5352, 4900, 3348, 7898, -7535, -1323, -3126, -5121, 1625, -3740, 594, 5289, 2385, 9745, 5072, 19604, 15018, -4505, 12237, 11920, 6533, 12845, 17782, -898, 10324, 3320, -4370, 4805, -3890, -3011, 6292, 6516, 16631, -413, 12863, 8570, 2666, 12562, 12573, 13117, 10185, 13169, 9475, 5450, -442, 5468, -8625, 2099, -5885, -3820, 14883, 1814, -2224, 5006, -463, 18393, 8442, 797, 14896, 17036]\n",
            "[-5561, 6588, -698, 8494, 11380, 4921, 3485, 225, 2121, 12821, 14054, -2440, 13500, 8303, 12068, 9080, 8151, 1957, 4995, 3753, 9633, 3176, 4596, 5622, -201, 5654, 5944, -8703, 14350, 4059, -49, 17901, 1694, 12263, 4999, 7886, 6165, 9436, 2786, -570, -1482, 9399, 239, -495, 12769, -4618, 2458, -4579, 11841, 16138, 5927, 9865, 11254, 10617, 10706, -256, -827, 7831, 6395, 6009, -2956, 10890, 6001, 6814, 3458, 7044, -3114, 4325, 8376, 7774, 7842, 3381, 10276, 9017, 1635, 7560, 10240, 3409, 8484, 7560, 124, -672, 5049, 7562, 11460, 11430, -2939, 5377, 14588, 5336, 2038, 6088, 10105, 705, -3483, 14660, -1472, 7935, 18423, -768, 393, 7868, -331, -4539, 5394, 11869, -5082, 10221, 2397, -7096, 1572, -974, -7391, 4919, -3641, -7891, -2893, 4772, -2561, 7083, 15411, 8633, 4541, 11730, 3464, -1304, -8088, 11988]\n",
            "[5761, -1935, 90, 13309, -416, 8358, 3487, 3178, 11021, 5174, -5161, -2077, -323, 902, 2938, 5928, 4258, 6871, 6215, 33, 13998, 2140, 9256, 1089, 8031, 13154, -2518, 4003, 1140, 11639, -4043, 6541, 10683, 11358, 3579, 1073, -5980, -2391, 12826, 477, 3654, 14139, -7946, -638, 11615, 6799, -720, -806, 2842, -3607, 3920, 3384, -1502, 6830, 16422, 1590, 10215, 5, 15373, 1385, 8154, -5945, 4073, 10082, 872, 11524, 6324, 1535, 2602, -3921, -4808, 5345, 3565, 7960, 5446, 4977, 4509, 6245, 11317, -4660, 17355, 5437, -2435, -27, -6988, 4720, -1651, 11679, 12702, 12840, 1508, 15244, 11203, 2895, -107, 4887, 4699, 11829, 12277, 9178, -766, 3524, 6700, 2433, -1458, 10843, -285, 6959, 17805, -1019, 12265, 6799, 7046, 9033, -3346, -4294, 91, -8353, -5905, -4245, 12567, 15546, -1016, -347, -1217, -4935, 14057, 14993]\n",
            "[1573, 7499, 989, -745, 11110, -2505, 5279, 9564, 3944, 2301, 9876, 5340, 2011, 10137, 4224, 6232, 14619, 3110, 13505, 12994, 12573, 2758, 6983, -8825, 17030, 13808, 11608, 10839, 1874, 7695, 7974, 384, -5705, 9700, 3914, 7345, -859, -7733, 1774, 970, 11389, 13217, 9125, 14857, 9952, 1053, 4081, 18049, -3642, 8834, 13122, 13151, 16238, 2355, -2855, 3864, -2749, 9929, -559, 7648, 2015, -3697, 7641, 14332, 2670, 625, -338, 11747, -2163, 16282, 13191, 15123, -3868, -1873, 7784, 14980, 5971, 2330, 8603, 13122, 1800, 16218, 8391, 17007, -2355, 12542, 5219, -1431, 4801, 1414, 8850, 6077, 10991, 906, 2961, 7927, 11224, -876, 103, -807, 10432, 9784, -1478, 2169, 17247, -588, 6901, -150, 784, 11848, -195, 1740, -3331, 2295, 877, 2860, -232, 15784, 12315, -2955, 12000, -7893, 16800, 10734, 12548, 12829, 9456, 7304]\n",
            "[-4116, 9843, -1251, 8112, 813, 3793, -2417, 2950, 12830, 7529, 14506, 5307, 13057, 12891, 9802, 12540, -3501, -1312, -8877, 2270, 312, 1014, -8733, 6663, 4814, 13825, 12842, 4637, 11603, 11476, 12782, 4447, 3632, 18406, 4785, 5493, -3315, 4518, 2598, 9972, 803, 7327, -1107, 5480, 8293, 11829, -3896, 8947, -1624, -4526, 608, 4291, -3835, 8357, -4943, 6243, 12048, 4887, 17112, 3139, 2980, 1014, 5949, -6733, -5662, 15505, -154, 7239, 1330, 10335, 11710, 5699, 9801, 1396, 7413, -753, 1500, 15036, 7874, 7048, -7132, 3015, 13180, 4028, 10604, 15935, 17123, -3362, 3787, -2495, 2413, 2285, -1580, 7721, 7103, 15051, 2863, 155, -3587, 1748, -6617, 13949, 5831, 3934, -2487, 9151, 7574, 8342, -2322, -8966, -1594, 14644, -7930, 8841, 12044, 8874, 11042, 6410, 9465, -1750, 14403, 8870, -2337, 11104, 8202, -2698, 8835, -4007]\n",
            "[-6462, 5935, 9261, -1629, 1057, 7275, 8899, 6156, 8663, 4903, 13287, 10363, 4130, 1983, 4134, 4761, 12565, 14119, 404, 1215, -3085, 9118, -232, 16811, 9744, -1737, 3567, -3006, 13921, 2330, 1112, 11487, 3594, 103, 7841, -3078, -1225, 10381, 4507, 16298, 12860, 1641, -4116, 3632, -980, 10089, 4231, 10194, 13898, 15567, 12220, -2306, 2799, 14578, 11359, 2468, 11288, 10468, 3285, 8953, 10782, 738, 4398, 7320, 7018, 8203, -8048, 5776, 2588, -1368, -1458, 10835, -863, 108, 13253, 9194, -1457, 10673, 8111, 2493, 7226, 6300, 7730, -3350, 7500, 12903, 9226, 8531, -554, 4334, 769, -1938, 9788, 3381, -2666, 11418, 8045, 601, -1752, 412, 4640, 4872, 14163, -2117, 16936, 272, 13815, 6371, 588, 8528, 11832, 9442, 17118, -7400, -3059, 13984, 8681, -6590, 16130, 6816, 8022, -2808, 11836, 11584, 4197, -6549, 4951, 14683]\n",
            "[-9314, 10609, 13912, 9099, -2984, -478, 1563, 4855, 13210, -931, -859, -1639, -2742, 2629, 2961, 9189, 9746, -1394, 16226, 233, 3983, 3633, -2501, 5202, 13473, 15525, 3569, 10943, 8243, 2299, 13708, 13139, -9742, 13149, 1724, 1398, -190, -1766, 13182, 7322, 9157, -5088, 9544, 1185, 10301, 2244, 9253, 11504, 13912, -1363, -7311, -3223, 12265, 10358, 9639, -1112, 5490, 4600, 3888, -51, 7694, -9351, -1632, 10105, -6928, 705, 15126, -1858, 13217, -1087, 822, 4073, 6311, -7315, 5899, 7094, 4327, 9044, 7253, 565, 3051, -5375, 5480, 8418, 14567, -1015, 8229, 8530, 11540, 538, 13299, 12568, 11484, 8931, -870, 1574, -2098, 12392, 4507, 2551, 2708, 11111, -3996, -8685, 13882, 1232, -280, 4288, 17102, 292, -6890, -6036, 3463, 11290, -441, 17578, 5251, 6003, -2048, 11457, 6742, 10440, 269, 5181, 16947, 9710, -2517, 10519]\n",
            "[-1931, 2084, 1549, 764, 12474, 4280, 14850, 4979, 3180, 3647, 11842, 2927, 10165, 5499, -6411, 9795, -631, 10733, 10512, 17853, 8830, -5698, 14435, 938, 9237, 8374, -31, 17948, 11395, 14566, 15165, 4089, 12481, 8884, 2558, 2947, 4024, 13111, 6343, 7166, 11816, 2029, 3058, 641, -4989, 2827, -3304, 14313, 15041, -643, -7944, -116, 136, 1875, 9927, 728, 2300, 2733, -4672, 5252, 14697, -3024, 3740, 4011, 5467, -5842, 5169, 1030, -2676, -1249, 9813, 15210, 109, 8523, -1236, 11197, 10324, 10411, 7072, 14507, 323, 2593, 6353, 15620, 9320, 11962, -6761, 8364, 2590, -1818, 15898, -4301, 4492, 556, 14459, 5423, 435, -562, 12901, -8131, -3720, 183, -5660, 12298, -4556, 2629, 10561, -8597, 9505, 7239, 319, 10843, -8474, 16676, 11753, -3724, -3055, 2130, 3491, 14129, 11744, 11941, 1214, 1778, 9077, 9459, 6991, 9145]\n",
            "[19411, 6560, 13731, -7930, 4754, 14156, 15621, 7113, 6854, 4142, 8750, -366, 4366, 12561, 13386, 8286, 3777, 4407, 8531, 18468, 8090, 12727, 4855, 7317, 9044, -221, 5149, 13461, 9177, 13424, 8230, -1099, -2253, 6934, -6528, -3663, 6545, 550, -1594, 15414, 12051, 6921, -6540, 16779, 10345, -3589, 4104, 8275, 6466, 13203, 10973, 4375, 10943, 1649, -4055, 16887, 7389, 2603, 6145, 6246, -6024, 78, 8738, -6311, 7888, 10107, 3671, 8077, 4682, 4777, 3601, -3353, 1149, 8290, 1785, 11636, 2991, 9124, -3454, 181, 14438, -3313, 4626, 15411, 7855, 2497, -447, 8119, 12344, 5926, 6094, 8608, -4691, 8199, 15542, 3370, 5580, 6451, 6212, -8786, 590, 5931, 812, 5625, -1245, 14425, 694, -332, -1758, 4850, 269, 9439, 1170, 12427, 7285, 11738, 8397, 2813, 17694, 3984, 1207, 2312, 12458, -6756, -886, 187, 13308, -1638]\n",
            "[9142, 7776, 5678, 5669, 515, 17279, 13690, 2766, 9009, -1446, 9582, 12264, -2796, 8062, 2161, 872, 1539, 5312, 4304, 2151, 3143, 12567, 9795, 11454, 551, 10340, 386, 3592, 2160, 4221, -3296, 9794, -7247, 383, 16575, 13479, 13294, 5889, 4065, 9782, 11926, 7526, 11541, 12626, 1445, -3237, 14322, -1120, 14715, 4655, -4301, 8878, 5678, -2451, 10046, 3824, 1817, 4764, 13475, -4632, -364, -6200, 4369, 6112, 4904, 2814, 5793, -1293, 7536, 11200, 7400, 5291, -3849, 10520, -4546, 3530, -3055, -3264, 12124, 16368, -8336, 12437, 3859, 9314, 6015, 6801, 12370, -2404, 8225, 7375, 11837, 10059, 15985, 1699, 8017, -3268, -2355, -3493, -3630, -3786, 1561, -1870, 1508, 13761, 8318, 11587, -8504, -577, -473, 5014, 7441, 163, 5323, 5783, 3249, 16179, 17151, 15005, 3300, 11850, 16072, -1426, 8178, -3746, -387, 4162, -1638, 2956]\n",
            "[-8765, -405, 5428, 4948, 12892, 9443, -4437, 1206, 13325, 7140, 3604, 8927, 5119, -492, -2563, -4448, 18886, -6524, 3130, 5413, 7271, -117, 15612, 13471, 4390, 418, 12813, 13535, 9926, 4103, 14053, 12156, 10343, 4512, 7363, 7203, 9072, 5876, -3942, 5282, 12381, -866, 7287, 5061, 5761, 7240, 3323, 11078, 277, -4371, 6977, 7111, 12216, 12585, 599, -42, 5331, 2883, 3393, 15054, 8969, 1813, 2792, 8228, 5487, -1206, -1523, 3418, 2021, -1291, 1586, 6527, 7336, 4352, 13227, -612, 12904, 3887, -9165, 9774, -660, -5405, 11565, -1152, -2553, 5441, -1146, 9788, 9258, 16381, 815, -6154, 10290, -373, 4676, 16151, -1310, -4843, 1381, 1373, 10443, -743, 17052, 8700, 11391, 7626, 10226, 6536, 13288, -4394, -4337, 5327, 16140, -5943, -8415, -2398, -3270, -4464, 1804, 12767, -916, -8434, 11373, -6926, 4870, 4924, 15452, -1021]\n",
            "[81, -3498, -9011, 16556, 2723, 7177, -5987, 7947, 11680, -6317, 9459, 1129, -2442, 657, -2329, 3887, 10095, 2668, 5069, 11630, 10818, 15824, 4009, 10524, 5093, 6101, 7924, 17650, 6245, -804, -6282, -6126, -157, -945, 4166, -1976, -2416, 12873, 3354, 14142, -1838, -387, -9710, 8808, 2931, 8277, -8691, -4823, 4853, 9085, 5849, -3497, -150, 417, 3457, 9093, -3612, 3161, 8475, 10482, 973, 8895, 4604, 8923, 9380, -4673, 12873, 2152, -5446, -8681, 6539, 11371, -1380, -94, 5643, 7390, 7224, -2118, 13187, 12082, 11009, -3828, 16094, 7106, 10769, 7504, 7575, 2654, 3179, -5493, -1599, 9285, 2586, -5928, -4159, 760, 1271, 17797, 4289, -4160, 14805, 1790, -7874, 7600, -5166, 12893, 8440, 2588, 9499, -9616, 1011, -656, 7952, 625, -7553, -6731, 8264, 9105, 4945, 9908, 11934, 1084, 4398, -358, 12276, 4303, 16897, 8027]\n",
            "[-1904, 2676, -4856, 10749, -6178, 6448, 3091, 4172, 3382, 12480, 2810, 325, -1127, 5916, -2993, 4901, 2618, 8484, 363, 3666, -954, -1977, -1108, 1, 4837, 1464, -4673, 10605, 9627, -2411, -212, 16584, 19127, 7974, 10015, -4302, -1536, 10231, 8196, 1176, 13316, 15763, 999, 16594, 10985, 6362, 7972, 8970, 1621, 14051, 3566, 9645, 8011, -3855, 5993, 5567, -4651, 3694, 2130, -5905, 8280, -4461, 7278, 7509, 3361, 4425, 8694, 96, 14629, 13220, -3323, 8261, 9893, 2806, 507, 230, 2179, 10296, -7546, -3505, 10027, 266, 835, 14503, 6877, 13244, 5563, 9917, 9777, 16942, 10978, 4233, -5088, 7764, 7163, -8514, 8044, 6514, -2966, 12211, 908, 5178, 6497, 11294, 10888, -4768, 4293, 7799, 6323, -4137, 7359, 1967, -6224, 6427, 7533, 9705, 10757, 14741, 13118, 2401, 1765, 8745, 5332, 1251, -536, 13168, 1792, 9566]\n",
            "[7053, -1563, -1177, 13337, -575, 1435, -253, 5009, 2383, 6754, 292, 13428, -888, 11712, -3257, 630, 256, 8606, 3920, 11785, 3644, 4878, 9749, 9936, -5460, 7678, 9131, -1311, 6641, 9219, 13997, 14032, 14185, 18715, 3240, 1592, 4728, 10681, -1710, -5087, 8743, 7805, 11353, 17930, 11737, -39, 11208, 2073, 8450, 9868, -4918, 7015, -1544, 1259, -3834, -1221, 8178, 4649, 14487, 2476, 11364, 10374, 9877, 13934, -4955, 9926, -4630, -2687, 4695, 5764, 8910, 2432, 11731, 14415, -5207, 13549, 15579, -2977, 13279, 11353, 2766, 8104, 1694, 845, 138, 4593, 2809, 6503, 4772, 4624, -822, -4466, -5075, -6129, 11092, 2661, 7970, 10026, -5067, 18326, 1341, 5760, 1754, 11396, 3284, -2626, 4952, 3823, 7500, 5298, -3662, 7451, 2351, -5241, 511, 9564, 4179, 3914, 2798, 13885, -4801, 422, 7137, 282, 6388, 7623, 11728, 8406]\n",
            "[-7384, 14405, 11489, -4261, 4545, 14847, 3501, 523, 6431, 6509, 2083, 15089, -3324, 9782, -6311, 4665, -7194, 6414, -5610, 12198, 7790, 726, 5100, 8824, 1763, 7627, 3665, -3573, 1727, 13119, -6498, 7023, 16568, 159, 14518, -2632, 11394, 15517, 3702, 3063, 7174, -4130, 14567, 10478, 14606, 7718, -13, -793, 6651, -1499, -8712, 12404, -805, 9534, 5717, -922, -24, 18395, 13981, 5368, 11505, -4905, 10048, -4905, 12029, 10187, 16688, -4565, 6518, 13142, 7601, 3687, 7863, -5916, 3278, 2401, -5367, -614, 7794, 3325, 8941, 10897, 513, 10074, 8067, -1059, -2343, -2321, -5015, 4582, 6370, 12541, 9333, -131, 803, 12747, 477, -6795, 13314, 1066, 10052, 9845, 12366, 924, 8795, 1582, 1971, 9841, 5302, 11091, 7366, 18461, 3913, 5498, -205, 9574, -4139, 14141, -2361, 1624, 3354, 4539, 3906, 11129, 9620, 9663, 6220, 2790]\n",
            "[14460, 5566, 11648, 13142, 2743, 3642, 11599, 4764, -794, -600, 9123, -6055, 16022, 9312, 13341, 5267, 9872, 14026, 19028, 14050, 3842, -4659, 1532, 2037, 2291, 3157, 2547, 2760, 4637, 7706, 6621, 7560, -1727, -1968, 5109, 11854, 8881, -6210, 7164, 6305, -3617, 13690, -3344, -5294, 6647, 12818, -6088, 14506, 8387, -4685, 1197, 2128, 6394, -1255, -7943, 2574, 7447, 4255, 5272, -42, 12048, -192, 16041, 11001, -6489, 5846, -5766, 10428, 6737, -3153, -5529, -5780, 9850, 10971, -6739, 1771, -3161, 5169, -2330, 13124, 5075, 6542, -6335, 14272, -5531, 11423, 2093, 9119, 6765, -737, 17252, 2866, 19101, 10344, 1192, 13328, 10268, 10773, 5803, 9203, 6017, 4543, 12932, -4833, 6952, 1365, 5424, 3718, 11385, 11750, -1356, 11620, 14123, 3123, 12378, 9532, 17714, 14572, 16042, 3138, 1999, 194, 16243, -1224, -1573, 14574, 1754, -1545]\n",
            "[1197, -2955, 8451, 9309, 17249, 3315, 83, 10486, 1746, 1743, 5315, 2228, 10354, 12823, 4, 13639, 4154, 5949, -5047, 10313, -898, 7620, 5380, 2342, 14052, 2621, 7183, -3673, 791, 11625, -3464, 16659, -7435, -542, 5945, 7730, 7470, 6087, 12615, 9664, 12435, 13937, 1109, 13768, 9012, 5486, -518, -3085, 14526, 5866, 6215, 5406, 7508, 2144, 9130, -4642, -4819, -1804, 3366, 11554, 5241, 6390, 3465, -3703, 954, -3379, 5723, 6434, 5416, 5572, 5030, 8623, 9155, 8699, -5916, 14365, -3585, 4723, 9329, 8687, 2879, 9862, 12298, 6905, 10042, 2957, 12632, 198, 5359, 11212, 5400, 5854, 9923, 12887, 13135, 3653, 6964, 13708, -1105, -1918, 5501, 6882, 12382, 12694, 7121, 2803, -568, 4398, -1584, 2965, -4032, 6056, -3846, 13265, 14394, -939, 12465, 14210, 2232, -8556, -4433, -4040, 14701, -3833, 14620, -4679, -3868, -52]\n",
            "[7552, 2804, 3663, -2861, 6358, 11224, 1440, 5546, 11723, 493, 2372, 463, 11666, 1272, 450, -142, -40, -7902, 8195, 13303, -3229, 2919, 6383, 11874, 10517, 600, 7076, 7089, 1828, -1795, 11179, 5026, -1173, 6313, 4199, 894, 9152, 6520, -577, 9473, 9422, -3056, 16778, -1278, 3694, -1008, 688, -1662, 1355, 11657, 16917, 5952, 804, 8012, 18305, 8872, 2110, -4109, 16749, 16349, -104, 7617, 9249, 11938, 10340, -716, 10022, -606, -5588, 2179, -577, -3239, 9806, -3229, 7529, 12212, 15935, 17211, 9037, 3281, 1120, 8810, -3388, 7438, -3179, 6281, -2521, 9896, -4150, -1650, 1013, 13961, -1552, 10009, 4111, -53, 2986, -4425, -3734, 6791, -6281, 17335, 15553, 13166, -5586, 12374, 5704, 922, 9682, -3025, 14876, 7600, 9721, 13303, 12848, 10643, 14934, 8331, 6072, 10743, -8497, 16923, 9137, 7716, 4764, 10262, 6990, 12674]\n",
            "[10286, 9354, -6310, -7204, 15526, 8425, 2862, -2651, 12207, 5310, 7798, 14216, -135, -278, 1964, 14710, 11077, 5893, 693, -5160, 8065, 9166, -2687, 12347, 15962, 4433, 7928, -4068, -4838, 5518, 15194, 6955, 8888, 10508, 14234, -6215, 8267, -4570, 13704, 1096, 11202, 10632, 4736, 8716, 261, -6033, 9124, 6355, 993, 3713, 5401, -9169, 2644, 1751, 9498, 14298, 7569, 13615, 12907, -3171, 2494, 628, 10221, 15044, -2445, -3479, 9279, -1102, -5900, 10963, 2628, 15663, -2002, -614, 6627, 9157, 2377, 13017, 9380, 11474, 7938, 6273, 11020, 12262, -4248, 4781, 93, 310, 8123, 4640, 13780, 10574, 13753, 12558, -3910, 12671, 938, 7392, 14335, -310, 14109, 11037, 12168, 2650, 4937, 7929, 5490, 147, 7530, 10509, 13880, 13711, 4579, 17793, 3018, 4961, 9488, 4022, 4194, -4381, -3079, 8404, 8581, 6769, 4304, -304, 3541, 3933]\n",
            "[-8077, 5236, 8947, 11704, 8236, -680, -4932, 2185, 1849, 6446, 2261, 7309, 312, -132, 8962, 10311, 4460, 501, 15865, 3363, 12608, 10173, 9718, 11230, 4851, 17977, 828, 9217, 15761, -1251, -1649, 11016, 12955, 13502, 8005, -1097, 5466, 1238, 10273, 6938, 6883, 12011, -220, 11560, 15721, 15217, -1105, 5629, 9424, -4732, 13265, 8509, 9078, 8050, 11972, 743, 5895, 10489, 5267, 9048, 5149, 14479, -7516, 6207, 5169, 6620, 1531, 8032, 15246, -6798, 2795, 10617, 5599, -6027, 13991, 12521, 14245, 1899, -6008, -770, 17004, 12661, 16991, 2251, -8565, -354, -6915, -1325, -8361, 666, -2566, -2744, 4929, -348, 5390, 11221, 9188, -6171, 3267, 2870, -3540, 8944, 13125, 12339, 7212, 11297, 10821, 815, 11314, 4130, 9838, 5450, -6685, 16488, -594, -8906, 372, -7091, 11338, 2228, 14881, 2929, 9535, 15891, 15225, 14070, 2188, 747]\n",
            "[182, 1423, -3300, 18628, -3561, 13547, 2898, 8892, 458, 11636, 15788, 2516, 11057, 9149, 657, 5148, -2391, -151, -3127, -4059, 6340, 12766, 15009, 7249, -4221, 14037, 4647, -433, 7626, 950, 8376, 8757, 4278, 7516, 4922, 9674, -5613, 3780, 12157, 7528, -4587, 5183, 9387, 791, 3751, 2240, -5189, 15891, 10051, 10290, 11135, 6841, 5635, 3548, -1857, 17745, 8388, 12815, 4505, 14589, 4346, 8489, 13221, 1350, 8527, 18607, 11376, 5066, 3590, 11698, -6195, 7604, -5849, 11345, 12084, -3219, 2039, -6812, 15114, 11021, -5731, -3515, -1289, 18186, 10487, -1104, 3615, 3681, -270, 14371, 5732, 7624, 334, 1597, 1139, -3448, 7159, 8176, 10152, 11555, 11325, 315, 3395, 14447, -3913, 1748, 11466, 9700, 14018, 8138, 8961, 10218, 18346, 11940, -4728, 120, 16312, 9670, 1736, 17788, -3025, -6810, 6106, -2490, 9787, 13590, 749, -5875]\n",
            "[4024, 13792, 8636, 1350, 1419, -2549, -1505, 529, -693, 2280, 9615, 9148, 9261, 13127, 1986, 13185, 2385, 10435, 7993, 2858, -4265, -4793, 14854, 10534, 12616, -5352, 10215, 833, 5448, -4437, 17158, 8038, 9997, 503, 12265, 7827, 10812, 14767, 9404, 13168, 3831, 3916, 7330, 1452, 12883, 7619, -399, 3292, 7390, 6594, 6130, -5901, -4251, 8151, -447, 10173, 1612, 6146, -6556, 431, 352, 13205, 8033, -2426, 6208, 7179, 9374, 718, 12647, 13921, 3154, 4937, 5915, 13108, 6949, 10791, 4096, 10363, 7291, 7839, -5548, 6775, 11167, -8437, 12377, 7885, -3784, 13123, 4823, 15204, 8524, 476, 5225, -2643, 4274, 6558, 8254, 8945, 13506, 7107, 12033, 2962, 14891, 14248, 987, 2682, -6711, 12578, 2619, 1376, 15109, -1792, 6288, 9793, 10644, 3693, 1606, 8794, 8839, -692, 13934, 11333, 853, 12658, 1211, -5923, -742, 1846]\n",
            "[14183, 10129, 1221, -1048, -42, 5594, 5458, 10194, 7965, -385, 8362, 5332, 10053, 7874, 7489, -3397, -976, 9806, 2817, 9937, -447, -2815, 14782, -1183, -1121, 14504, 11442, 2657, -4324, 8807, 571, 7348, 2183, 15591, 564, 3636, 9807, 1882, 6881, -6528, 4668, 14059, 7571, 15037, 14190, 3078, 9963, 1134, 47, 15849, 12483, 1495, 13917, 1700, 15981, -858, 3814, 2137, 9310, 18647, -8004, -64, -1004, 10949, 4359, 4851, -1417, 12091, 25, 6426, 8385, 2710, -1859, 15899, 2166, -2917, 1670, -1696, -5875, -549, 7262, 4165, 2585, -615, 7542, 12099, -6139, 6564, 1078, 15435, -4499, 456, 6964, 10286, -1431, 963, 7065, 268, 14967, 10281, -4896, -2957, -3412, 6981, -3531, -1412, 1382, 5718, -5474, 2457, -255, -2751, -2850, 1966, 12758, -1147, 16668, 4552, -5456, -316, 1620, 2981, 7043, 10573, -3603, 12883, 11925, -3069]\n",
            "[6770, 11110, 12218, 8984, 1837, 12128, 8198, 9681, 5262, -3416, 12136, 2241, 10455, 1234, 2916, 9432, 4070, 7850, -6297, 2028, 9124, 4181, 4897, 9211, 15799, 9044, 4397, -427, 18808, 4199, -317, 1559, 8658, 11978, 10040, 10403, -966, 9664, 7358, 65, 632, 14653, 14313, 11422, 11853, 18873, -602, 1548, -1347, 12748, 7191, 11910, 4945, -973, 3301, 6043, 12176, 8666, -2380, 16832, 6094, 9744, 12596, 9676, 1182, 13742, 14191, 2998, 911, 8049, 3433, 11078, 10433, -5468, 1645, 15949, 17368, -2075, 7640, 1587, 14591, -323, 11380, 8993, 1387, -319, 1514, -3446, -785, 8343, 8947, -7905, -440, 16225, -2606, -992, 2560, -962, -7611, 3570, 10833, 7192, 453, -8028, -4308, 12291, 8581, 3540, 5154, 3041, 2839, 7143, 8629, -7029, -3410, 4220, 8405, 18961, -743, 4829, 951, -5548, 5165, 11445, -130, -1255, 9539, 6429]\n",
            "[7488, 2844, 13361, 4882, 6631, 11729, 3842, 3647, 1804, -772, 14274, 10733, 6425, -5249, 3041, 16049, -3832, -4382, -1108, 6893, 9515, 8738, -881, 3557, 916, 14539, 14367, 10950, 3440, 8189, 9268, 19382, 7645, -6989, -5005, -3962, 7791, -582, 7723, 1297, 1368, 14022, 12701, 3098, 6637, 9733, 5766, 8023, 3670, -5669, -2411, -1371, 15855, -3063, -5241, -1182, -8314, 9638, 1864, 5953, 13013, 3222, 5311, 5783, 13972, 1852, 1907, -5234, 6787, -2694, 16174, 6365, 3959, -3822, 16443, 1362, 3772, -1523, 9390, 3104, -2637, -2315, -2239, 11686, 10956, -1526, -4020, 7664, 7713, 9527, -3838, -1950, 9056, -4887, 1475, 2557, 615, 8100, 9045, 3896, 17132, 12877, 8028, 3816, -2211, 16554, 2241, 644, -7041, -320, 4107, 14140, 5794, 4315, 11839, 5611, 3814, 6752, 14267, 7964, 9105, 4865, 8650, -977, -1208, 6081, 5098, -6107]\n",
            "[7366, 4341, 13436, -426, 12473, 4586, 7395, 13067, -292, -176, 11756, 7271, 12837, 583, 15508, 8773, 564, 2178, 10301, -4811, 12092, 5568, 354, -1589, 5819, 19128, 13688, 2937, 2868, 7903, 2145, -4964, 11082, 14501, 10003, 1220, 3614, -6770, 2314, 7458, 9061, 6337, 5204, -3396, -2212, -4340, -1306, 11924, -2686, 6334, 11724, 15372, 691, 11652, 5855, 13106, 17376, 146, -5884, 16176, 4960, 218, 15472, -1187, 13997, -3101, 15992, 4347, 4156, 2808, 974, 8277, 10228, 2679, 891, 3657, 7150, 12154, 10357, 7824, 12991, 3209, 3625, 3678, 11285, 13028, 5451, 16807, 13543, -1180, 921, 9114, -4249, 8666, 5588, 5654, 14746, 1455, 4174, 14240, 8304, 5062, 2824, -88, 15550, 6758, 12101, -301, 5024, 7748, 1665, -1219, -1981, 3286, 10819, 12803, 7375, -3970, -4423, 2473, 12376, -5883, 8120, 4641, -5540, 8653, -6187, 10791]\n",
            "[522, -3203, 351, 9449, 5545, -332, 3199, 5139, 2742, 12743, 1151, 11175, 2573, 11572, 11739, 1697, 7336, 1084, 4715, 1966, 7795, 6266, -6067, 10281, 11543, 8198, 7912, -1803, -4726, 11248, 8862, 13095, 420, -5153, -1346, -1372, -1024, 11230, 5014, 11006, 12197, -3356, 5123, 8784, 5480, 9113, 15681, 5441, 9961, 19788, -5601, 2295, 8946, 4245, 7865, -8832, -4608, -190, 15369, 9953, 2332, 7234, 4903, 1493, -6665, -1919, -9443, 1296, 8062, 3384, 15818, 767, 11986, 3870, 8027, -6778, 5979, -4345, 12282, -429, 3471, 4049, 8461, 10881, -7155, 15861, 4084, -7557, -1720, 10881, 2150, 2379, 1617, 6731, 14381, 7355, 9937, -825, 7938, -1062, -1853, 174, 12788, 12903, 3731, 5149, 339, 11020, 10295, 2305, 13528, 1225, 10729, 529, 14660, -551, 8254, -4854, 10894, -43, -4595, 13786, 5881, 16604, -8268, 564, -1937, -3077]\n",
            "[-1487, 12160, 8575, 5233, 2038, 269, 13995, 9417, 9919, 9980, 9774, 7925, 9129, 7490, 4039, 8121, -2284, 6790, 4219, -2088, 7514, 7470, 16069, 11075, 17096, 2860, 1331, 2301, -2069, 6125, 7326, 9916, 6024, 3874, 8622, 17608, -8065, 6379, 10647, -809, 2039, 11253, 6630, 7181, 2353, 18861, 1369, 9834, 7859, 1761, 3518, 850, 14894, 2571, 14058, 8692, 11122, 6261, -1518, 10844, 3960, 10869, 10742, 4999, 10236, 5982, -1741, 4851, 15205, 4507, -8488, -553, 15532, 8730, -1981, 17404, 5971, -3554, -2230, 957, 2680, 4929, 12035, 728, 3050, 13672, -2664, 9929, 12077, 13295, 14339, 3979, 11899, 14100, 9744, 7022, -5766, -1615, 5734, 5187, 18753, 6002, -5248, -5091, -5395, 1078, -3758, -2288, 15736, 9857, 16395, 592, 6019, -423, 7536, 5676, 3103, 1020, 14325, 1102, 4878, 9528, 1556, -6444, 1817, -3610, 2519, -3229]\n",
            "[1039, 7770, 8725, 8816, -881, -5536, -3306, 4456, -218, 3369, 4141, 6282, -982, 6055, 10876, 16786, 12327, 13111, 6998, 8868, 13895, 2165, 8974, 4828, 11916, -490, 12735, 1293, 14840, 1989, 15147, -3070, 6305, -2023, -3488, 6378, 6312, 3579, 2904, 14554, 8758, 636, 3275, 9320, 1587, -3309, 11094, 5188, 17214, 8680, 12389, 105, 1083, -8268, 11961, 10725, 2769, 7169, 12392, 11096, 14293, 7319, 11033, 6462, 919, 13097, 15609, 4717, 5165, 4064, 882, 13921, -845, -4288, 7294, 9111, -5152, -4168, -2213, 18743, 2130, 4102, -3126, -6089, -2218, 1671, 1024, 12256, -3651, 987, 12704, 10295, 15730, 8751, -1125, 2799, 5490, -5699, 17319, 481, 9545, 6320, 15025, 10154, 8093, 17460, 7522, 6738, -1955, -4706, 8722, 13958, 11408, -618, 3184, -5307, 11082, -5028, 5161, 1771, 4469, 9719, 3754, -6528, 3776, 6553, -5229, 1328]\n",
            "[5479, 737, 1162, 4820, -7321, 12162, 1122, 1029, 11340, 11806, -6473, -7746, 1255, 3057, 6224, -863, 3285, 212, 7283, -522, 1477, 3924, 2726, 16118, 2633, 4727, 1005, -2401, 11711, 5513, 14530, -1898, -3284, 7587, 1301, -1168, 15573, 3602, -5473, -133, 4502, 12933, 3946, 8701, -8001, -3109, 5838, 1083, 4683, 9454, 12329, 16833, 4757, 10453, 16839, -2319, 6818, 12150, 2954, 4607, 78, 2782, 682, -1436, -188, 3329, 7847, 1366, 2893, -3798, -1022, 17680, -5311, 508, 7643, 537, -34, 4048, 7335, 3814, 1567, -2101, 10174, 3859, -2846, 1115, 4875, -103, 3112, 3909, 1438, -2152, 4290, 4256, -981, 8076, 2727, 13985, 1962, 5911, -1824, 11371, 2148, 2621, 8837, 5593, -2944, 11862, 1755, 6909, 5875, 10154, -4955, 1403, -730, -2334, 15648, 582, -149, 16204, 5702, 17547, 8341, -261, 17036, 10084, 11492, -2904]\n",
            "[11038, 10157, 12778, 1425, 10210, 6999, 16912, -1664, -1796, -4329, 9373, 9141, 1787, -1116, 2251, -5983, 15429, 14129, 151, 4847, -8530, -5115, -1221, 4025, 5791, 11154, 8546, 7900, 1694, 12580, 10241, 10061, -582, 14863, 2309, 11335, -2925, 6594, 2786, 15495, 9663, 8829, 663, 12474, 7615, 14400, -3321, 7614, -4432, 1329, 8358, 8716, 234, 2808, 11782, -4497, 6155, 48, 8629, 14216, 10239, -9351, -2751, 10059, -3318, -2672, 9869, 14081, -2891, 7771, -4064, -8391, -5162, 9884, -3124, 4253, 2145, 13279, 11949, 10259, 164, 15388, 3628, 1616, 9996, 6626, -465, 2974, -721, 3022, 13810, 19068, 6790, -7352, 3015, 11981, -3032, 10475, 615, 6105, 13519, 8726, 14327, -4247, 3707, 9295, -4178, 2003, 11426, 811, -5864, 13489, 4774, -3855, 5229, 7969, 8390, 2400, 9879, 3553, -5470, 1989, 3435, 5401, 1674, -7475, 1035, 5770]\n",
            "[2637, 1283, 6578, 1564, 686, 6686, 15240, -1039, 10016, -5235, -6971, 2072, 4985, 16141, 10486, 10675, 9106, 5604, 6447, 2378, 12294, 3739, 9122, 4372, 929, -7932, 6353, 10354, -5442, 6514, 1172, 6060, 7018, 4611, 14074, 14820, 3119, 7584, 13819, 6296, 11018, 886, 16515, 14967, 11505, 7061, 10354, 658, 2069, 19547, -2658, -3829, -548, 2533, 7505, 4137, 18505, -4982, 5011, 2775, 9564, 12459, 12389, 6988, -3486, 4181, 5376, 14505, 901, -6203, 1469, 1309, 6980, 1056, 1503, 6785, -4135, 3109, 3503, 964, 13900, 638, -1238, 13932, -3169, 9060, 12567, 9778, 10286, 10756, 15192, -314, 15199, 13095, 7495, 8802, -2988, 13825, 16667, 5491, 12394, 15144, 6405, 12362, 15176, -3239, 8759, 4736, 2130, 9002, -3656, 3319, -3176, -3923, 717, 18575, 1179, -5884, 2911, 3688, 12400, 13403, 3054, -2545, 11704, -4561, -570, 4109]\n",
            "[-3370, 9204, 14445, 13765, 11266, 8552, -636, -6900, 11974, 13214, 15325, 1762, 4134, -6528, 4550, 2216, 16995, 1804, 7390, 8054, 3976, 2362, 14114, 6140, 8994, 2420, 1960, 3943, 10954, 10857, 3646, 9627, 15105, 6947, 944, 5370, -2364, 6164, 7224, 6392, 7152, 2580, 9758, 1785, 13652, -1844, -6476, -4609, 1952, -6722, -1917, 1533, 12561, -4654, 2545, -2260, 11000, 2106, 12689, 8250, -4028, 4735, 8465, 6540, 14754, -3551, -4892, 3896, -920, 14714, 10807, 13331, 9642, 2021, 7963, 10889, 551, 2791, 5067, 3753, 7916, -2168, 10176, 8527, -800, 7348, 10583, 9320, 13137, -5373, 4569, 11656, -6593, 886, 17248, -4611, 9969, 10177, 7875, -3937, 14521, -2654, 2013, -4536, -5466, -5881, 9766, 14263, 16798, -6907, 4663, 12968, 16410, 2473, -4908, 4196, -2629, 11888, 17232, 18695, -2371, -2629, 4617, 18749, -1384, 9036, 7433, 18430]\n",
            "[2108, -1393, 3528, -9343, 525, 9359, -1190, 10983, 11083, 9574, 10005, -16, 78, 446, 2966, 4855, 9520, -4104, 5908, 9039, 10741, 14499, 6342, 8765, 4968, 2810, 12353, 14934, 6296, 15275, -626, 11998, 6178, 5696, 12384, 8855, 1924, 8727, -5328, 16722, 1474, 6529, 1247, 5318, 1855, 15289, -765, 11188, -739, 11486, -3480, -2151, 5329, 8295, -5021, 4149, 10587, 9100, 11889, 9799, 7184, -6400, 18233, 9432, -7733, 11492, 9713, -4713, 5608, -1400, 5840, 890, 10950, -209, 9938, 10649, -166, -4656, -3918, -1157, 10423, 1186, 7521, 2870, 11509, 5341, 39, 17146, 9872, 6407, 1924, 5602, 2491, -1395, 7849, -8502, 6767, -410, -2533, 11210, 8863, 6871, 11268, 18932, 8139, -4362, 3212, 3781, -7141, -3845, 9052, 2602, 6448, 12346, 2516, 15156, 6324, 6898, 6941, 453, 6205, 11244, 6405, 11777, -5442, -7728, 3003, 16334]\n",
            "[9428, -803, -3214, 4766, 9328, 15743, 11537, 555, 9270, 11598, 4372, 1910, 9091, -2044, 4685, 12040, 5805, 9976, 10689, 7633, 4129, 4080, 13341, 5057, 14363, -257, 12665, 2129, 1887, 8397, 4834, 10932, 3096, 7298, 2800, 16635, 4729, 2256, -1383, -4616, 14506, 7778, 8909, 1037, 7139, 3451, 17278, 13094, 7826, 6085, 1849, 7347, 3613, 17405, 5977, 11553, -8122, 3829, 8640, 12527, 12359, 6666, 9915, 12423, 3250, 2568, 4480, 2058, -4266, -2455, 6533, 9966, 10627, 6515, 4040, 6065, -2515, -6609, 3478, 14905, 7378, 768, -1862, 10851, 134, -5740, 4454, -6236, -2943, 5893, 2165, -1132, 12927, 1464, 6931, 4078, 8225, 10807, 1503, -2428, -4381, 16955, -508, 2545, 4391, 10964, -1780, 8722, -539, 4377, 9693, 2351, -1286, 13783, 1102, 9072, -3104, 1647, 2986, 14778, 3979, 4162, 11890, 13040, 17143, 1876, 11056, 14260]\n",
            "[3706, 10974, 13610, 8740, 4169, 8927, 4335, -8889, 2104, 7163, 13855, 6892, -1441, -6703, 19019, 6758, -4031, 6361, 8774, 3727, 10237, 7923, -7717, 15205, 14372, 9980, -3236, -3584, 5275, 1992, 759, 11915, 8829, 7968, 6112, 9839, 266, 9934, 619, -191, 6127, 14363, -6646, -3470, 10027, 16858, 8215, 10127, -3379, -3171, 3823, 10610, 15288, -979, 1327, 11621, 1078, -1047, 6065, 9534, -4889, 14037, 11860, 2986, 2189, 2638, 14268, 7125, 8967, 7873, 562, 3194, 9310, 8863, -2362, 4895, 1987, 6912, -6866, 1209, 11957, 536, 14755, -4384, 14357, 12440, 8969, 16249, 9976, -2035, 5492, 688, 5330, 13407, -2961, 13791, 13131, 2333, 3162, 14535, -74, 6300, 9291, 862, 11211, 3368, 7839, -1266, 3111, -602, 386, 13749, 6048, -1659, -4163, 8724, -6859, -7129, 239, -7001, -8440, -7491, 295, 12692, 17981, 13674, -3266, 3792]\n",
            "[8572, 6903, 5877, -2471, 6281, 11187, 3145, -644, 302, 7670, 1949, -3380, -1527, 5315, 12062, 16423, 12453, -3896, 5177, 4023, 12890, 5228, 2111, 4443, 9949, 9643, 12724, 9714, 8839, 3035, -1856, -214, 3140, -1803, 16679, 7255, -2923, 10881, 9711, 8251, -6091, 9451, -3040, 5340, 7106, 7811, -4282, -1363, 5875, 5386, 4705, 11921, -3620, 2588, 10168, 7777, 14730, 13874, 10396, -4774, -7387, 7621, -6934, -4802, -3921, 4847, 2324, -5083, 9001, 7343, 1407, 5197, 5193, 12033, 1440, 13291, 15054, 5214, 2575, 3515, -1130, 6985, 4780, -4625, -2250, -514, 3633, 9900, -1627, 13950, 4125, 9045, -2338, 876, 1210, 11141, 590, -432, 2125, -2166, 2413, 5388, 10682, 3814, -1179, -1409, -2295, 3737, -7640, 10368, 3925, 7884, 89, -3682, 11660, 7163, 5482, 11871, -453, -3233, 2146, 2603, 16196, 10911, 9223, 13560, 12284, 2869]\n",
            "[420, 12050, 11719, -4872, 10450, 6029, -929, 11623, 1506, -6024, -2660, 2835, -2437, -3021, -4990, 4001, 10496, 3243, 8585, 4789, 12597, -2295, 1835, -6417, 2255, 3059, 11601, -5316, 7647, 3405, -4975, 2308, 5770, 17270, 13655, 13592, 9698, 14399, -364, 14866, -1446, 497, 1315, 10128, -4717, -1009, 10535, 997, 7457, 8083, -6053, -976, 15446, 14722, 6136, 427, 3491, 672, -5398, 17434, 4523, 13706, 6674, 3721, 6898, 6990, -1791, -1685, 7395, 4910, 14741, -2895, 17550, -6037, -2258, 3872, 1408, 6996, 6890, 1308, 14084, -1985, -3589, 1425, 3011, 9061, 10043, 10828, 12960, 12598, 14002, -4242, 945, -8341, 6139, 6230, 8730, 9755, -6371, -2807, 13675, 2946, -3055, 13885, 9384, 11660, -1537, 15649, 7119, 4719, 3812, 3166, 7788, 11327, 10623, 5481, 13832, 7491, 7652, -4087, -3232, 5842, 8671, -1238, 17622, 16175, 2161, 4561]\n",
            "[-1626, 167, -6737, 4622, 10883, -3028, 13759, 14503, 9956, -9559, 4179, -3423, 468, 4079, -3170, 15527, 10982, 9047, 2350, 8661, -1727, -4116, 6474, 4875, 5930, 4326, 2306, 11041, 5343, 418, 15832, 8583, 7846, 4576, 127, -3817, 6278, 10455, 13440, 16191, 6967, -593, 1983, 11495, -3651, -6982, -5274, 859, 17836, 14667, 14630, 16407, 13913, 2203, 3759, 9324, 11510, 834, 13937, 10286, 19660, -1463, -71, 13252, 11726, 9490, 12143, 6668, 4975, 13223, 11718, -3720, 1964, -2881, -3144, -8439, 7719, -7694, -4702, 18488, 11772, 1742, 13852, 7354, 5351, 14902, 4382, 13540, 8472, -2607, 8104, 17119, -5443, 5885, 12020, 9622, 9409, 2896, 9380, -2795, 8346, 11420, 8931, 9664, -4517, -860, 11999, 9361, 8701, 48, 18132, -3621, -1097, 7371, 1834, -5816, 3576, 10096, 1446, 307, 2479, 18042, 10018, -3776, -7981, 8217, 4157, 8946]\n",
            "[4898, -2752, 10517, 6064, 7894, 1638, 9594, -2861, -1479, 405, 15879, 377, 4682, -6474, 5153, 13425, 8786, 2933, 478, 15140, 12415, 818, -6781, 4021, 5713, 7273, 6334, 14795, 15208, 1360, 11158, 14494, 13514, 2244, 9238, 9445, 4343, 2141, 398, 9059, 6223, -4685, 12591, -434, 5069, 16122, 1599, 6611, 11214, 3462, -1733, 17213, 3163, 9271, 15756, 7977, 16709, -206, 10999, 18828, 2420, 3177, 3768, -1815, -4180, 387, -4644, 966, 935, -550, 1733, 15325, 6904, 14358, 2084, 13494, 3699, 9895, 10648, 5696, 12137, 13402, -457, 14427, 1945, 15212, 12206, 7189, 4379, 2952, -1834, 7899, 3594, 1191, -3109, 9639, -3118, 8863, 6910, -478, 11755, 5407, 1141, -4194, -1167, 13703, 8368, 12883, -3404, -3528, 8731, 6474, 10105, 6027, -5935, 3594, 7437, -3604, 11616, 4174, 2702, 11771, 6597, 715, -2934, 19074, 2622, -6721]\n",
            "[20, 5514, 7458, 10501, 2047, 18766, 6133, -179, -1865, 11143, 7853, 17984, 4651, 6590, 142, 13456, 11941, -3112, 7757, -313, -4002, 10323, -1217, 130, 8315, 7670, 9546, -2307, 9780, 1850, 14407, 9739, 15706, 3528, 17105, 11906, 18660, -2996, 6035, 9026, 1217, 4215, 4920, -1070, 12244, -1406, 7383, 5116, 9844, 10874, 4265, -523, 10586, 16808, 14915, 8340, 311, -2467, -1860, -426, 229, 5306, 16753, 7160, 4639, 6099, -5626, 5356, 1177, -947, -7403, 13773, 332, -183, 17894, -7400, -1357, 7861, -2139, -1086, -3101, 4049, 11477, 2485, 11299, 2369, -7689, -5697, 6228, -1138, 14240, 16298, 5231, 10475, -2033, 10974, 12308, -307, 2805, -6688, 5404, -2099, -3346, 12025, 5726, 3608, 8749, 12248, 13926, 5605, 3488, 8316, 10254, 13214, -92, 8904, 15255, 14199, 14749, -5332, -727, -4366, 12099, 4737, -3965, 3887, 2395, -2234]\n",
            "[10316, 140, 3487, 3573, 8263, 9735, -4229, 7423, 16733, 12641, 2416, 5370, -3659, 2654, 9394, -2103, 2421, 10949, 5381, -4147, 4270, -1581, 5377, 9859, -4828, -625, 8671, 10098, 6037, -3128, 3566, 11768, 9927, -3597, 8645, 9194, 395, -420, 1580, 328, 11430, 6860, -5354, 12966, 1595, 9932, -360, -9397, -5346, 3858, 12338, -875, 10562, 12563, -4059, 8450, 5032, -6769, 3743, 7600, 11579, -1441, -5279, 3402, 5222, 8215, 13462, 8555, 6789, 5124, 870, 1675, 4212, -5982, 14398, 3944, 11893, 8945, -3355, 10086, 2474, 9361, 10341, 7469, 13282, -3335, 10051, 15818, 8331, -3973, 11192, 2387, 11443, 1019, 587, 14387, 14072, 13437, 0, -8284, -1383, 11153, 12617, -1668, -1355, 3369, 11439, -7018, 13257, -671, 12101, 8279, 4404, 13512, -4547, -3889, 18260, -3104, 13716, -1123, -3737, 15920, 9188, 8817, 15708, 9344, 7085, 3142]\n",
            "[193, 6867, 4372, -466, 4063, 5720, 11774, 16432, -608, 3382, 1564, -6839, 3091, 204, 6949, -6990, 18407, -1340, 5686, -1009, 7778, -2694, 7567, -3224, -1050, -4933, 1886, 13703, 4443, 2739, 3533, 430, -4212, -924, 5582, 11515, 6898, 5769, 15995, 10057, 4464, -3027, 2160, -1512, 16277, 11330, -3787, 3032, 14022, -3727, 4246, 2882, 4284, 8569, 4606, 4163, 10482, 952, 1058, -6194, -9250, 11309, 7877, 5319, -1153, 12915, 11512, 4908, -4614, 7330, -6514, 3979, -1543, -3172, 9386, -3533, 7031, 5347, 3249, 11202, 3256, 482, -3486, 7675, 13855, 17485, 7150, 2100, 11368, -1899, -8000, -5629, -4264, -1360, 10580, 2367, -737, 11457, 2900, -869, 4710, 16, -7276, 3961, 7082, -4541, 4108, 7372, 10316, 13822, 1494, 3455, 6236, -2186, 12403, 13799, 2177, 1621, 16540, -2496, -4508, 173, -150, -1342, -1781, 13673, -4861, 133]\n",
            "[9219, 1346, 7384, -4873, 3423, 1934, 12327, -3380, 9040, 8486, 3901, 4742, 13034, 5308, 9828, 9365, 6880, -1399, 9293, 1413, -3420, -4079, 11141, 4253, 15826, 5223, 10673, 8259, 2656, 14000, 3098, 11348, 6280, 10617, -5310, -3307, -3722, 1908, -2441, -314, -6931, 12566, -6587, -4, 6759, 12198, 13822, 2418, 2614, 1660, 5635, 11074, 11517, 4007, 99, 13733, 8646, 10439, 1161, -6465, 5480, 1247, 558, -344, 2297, 1218, 1075, 7996, 10402, -2385, 15136, 10891, 4962, 7111, 11481, 12603, 6449, -1444, 11897, 1867, 15507, 1713, 8146, 17124, 12611, 6441, -3503, -2797, 19749, 529, 4999, -4788, -4764, 4285, 5513, 6090, 11909, 12663, 1057, 7140, -1542, -3735, 5396, 9434, 9985, 8375, -3997, -3227, -4817, 12380, -1600, 10555, -3176, 13351, 12275, 14916, 5267, 12124, 6329, 12801, -140, 6704, -1368, 457, -2582, -1003, 5911, 4382]\n",
            "[6005, 5011, 4353, 3087, 4163, 2006, 10142, -3914, 4597, 14107, -4763, 6999, 9389, -3358, -1629, 11366, 9035, -3588, 15459, 11730, -6965, -639, 252, 12941, 6188, 1001, -2504, 7226, 1339, 4670, 11051, 11839, 1732, 15341, -6150, 15504, 1946, 9135, -5986, 11847, 4141, 5058, 6579, 1754, -2790, 6947, 10559, 4960, 2833, 10718, 2078, 10114, 4789, 6884, -2228, 1991, 3409, 10948, 2076, -1684, 6727, 11589, -833, -752, 208, 14612, 13353, 11186, 16392, 13085, -576, 11514, 10048, -4727, 2119, -3862, -4001, 1585, 8805, 7309, 10719, 15452, -2834, -1571, 10719, 11882, -833, 2781, 15936, -5864, -6228, -2482, 2100, 5033, 9835, 2020, 13126, 9396, 12555, 11188, 10186, -5701, 15398, 4516, 1263, 10110, -6463, 10133, 18375, 5679, 2165, -910, -8265, -2637, -5191, 9303, 13987, 4161, 10619, 4294, -2883, -3029, 2234, 646, 4198, 5971, 478, 10935]\n",
            "[7452, 12885, -8287, -4860, -408, 10721, 11835, 9452, 770, 14380, 3217, 6722, 6363, 1419, 12940, 10639, -6403, 13486, 10479, 10236, -6924, 13052, -2854, 775, 8259, 9039, -5289, 5127, -1660, 12286, 7342, 11673, 9956, 1626, 15357, 1685, 16247, -7295, 1697, -7270, 15462, 13014, 12193, -5756, -45, 7821, 17095, 9863, 11234, 6387, 16190, 707, 1365, 10553, 8845, 1041, -6489, 4129, -7059, -5623, -3563, 2348, 13568, 17933, 3826, 1481, 895, 15729, 14290, 4301, -8773, 179, -1865, -3226, -5883, -6132, 2133, -751, 562, 89, -9142, -1565, 11642, 3913, 9669, 5371, -4920, 11145, -3864, 18192, -5423, -4243, -7880, -3304, 5886, 9069, 17038, 2320, 5853, 10429, 8866, -8630, 8809, -1440, 1472, 4112, 5530, 4326, 6938, 1280, 10699, 3860, 6255, -872, 7428, 3038, 3214, 13153, 15040, -2470, 14553, 7003, -8985, 8988, 8470, -8113, -79, 623]\n",
            "[5969, 12240, 10476, 595, 7918, 3147, -2564, 3394, 8035, -1468, 11995, -2884, 4290, 609, 9267, 2162, 1656, 1024, -1302, 10468, 13705, 2472, 8008, -3458, 7914, -4868, 785, 6671, 8024, -7623, 2224, 10931, -1961, 7313, 8943, 8148, 14361, 6280, 8571, 9798, 1221, 4039, 7616, 13606, 7860, 14174, 735, 748, 5013, -5195, -761, 5727, -4810, -1863, -7098, -2897, -5013, 7910, 16175, 2978, -525, 4797, 6506, 15930, -7567, 1209, 3164, 17360, 1530, 7065, 11363, 10817, 2625, 14503, 18194, 15533, 9971, -5145, 7904, -5222, 2561, 12620, 9450, -6678, 10442, 1024, 646, 18626, -8053, 1508, -4902, 10383, 7522, 3882, 506, 8493, 10349, 9005, -818, -5216, 1277, -4396, 2942, 11354, 5507, 12978, 3668, 3390, 8370, 8827, 3137, 8152, 1201, 10493, 8320, 14744, 3461, -4030, 3457, 6566, -8078, 31, 4015, -6377, 2934, 7035, 6328, 17159]\n",
            "[14561, -4470, 16127, -6302, -1858, 12283, 6089, -2381, 1624, 12961, 11896, 5332, 4906, 2941, 7453, 521, 8861, 16637, 10163, 6860, -2490, -1324, 8938, -976, 14403, 14036, -2974, 324, 816, 10048, 12891, 2082, -3159, -8391, 4951, 7281, 719, 6525, -5079, 9815, 4103, 100, 9672, 15658, -1312, 11968, 14154, 4554, -6890, -5781, 12143, 7164, -2054, 12337, 12156, -969, 13534, 3026, 3727, 6033, 11276, 7942, 8015, 11995, 3399, 2765, 15711, -556, 3246, -1260, -4869, 5697, 13149, 9694, -1755, 2393, -3064, 13941, 15551, 6852, 4102, 8819, -6021, 8159, 7309, 4330, -1908, 9428, 12768, -1135, -5589, -1446, 14277, -801, 4566, 7476, 14056, 7361, 467, -88, 11816, 10444, 5495, 13495, 12525, 1476, 13568, 7032, 5198, 7095, -3921, 1054, -3250, 6992, 3092, 6363, 4699, -588, -1464, 13842, 3115, 9072, 8239, 4109, -2798, 2425, 4744, 1357]\n",
            "[11528, 2522, 12031, 8443, 4313, -4740, 10785, 11462, 2218, 11253, 16089, 6116, 4883, 3107, -2945, 11223, -2079, -2654, 6511, -5556, 680, -4080, 8948, 8463, 2394, 17182, 14446, -1000, -8601, 6972, 5591, 8642, 2368, 11896, -1307, 7527, -96, 5492, 3612, 1492, 9342, -3376, 10230, -4384, -4450, -3640, 17900, 7445, -7059, 2712, 695, 4449, 7097, 18789, 16150, 7127, 1830, -5148, 7468, 1175, -306, -1945, 19851, 8348, 1216, 261, 7422, 7372, 12598, -1447, -4003, 16682, 2753, 2316, -4373, -4790, 9320, 6820, 13751, 8805, 5496, -695, -3069, 1702, 8812, 3046, -733, -8036, -2363, 15327, 802, 14163, 4461, 12897, 10569, -676, 2011, 10641, 15831, 66, 7810, -6029, 14496, 3963, 4822, 12076, 10345, 742, 15858, 4059, 2056, 14799, 5459, 2306, 11140, 16153, 13554, -2809, 1744, 11203, 8434, -6194, 10708, 11681, 6575, 9739, -7448, -2232]\n",
            "[9891, 5920, -1877, 5192, 15732, 14710, -7017, 8945, 6181, -669, 4295, 6204, 11629, 12823, -1873, 10803, -3457, 1264, -2289, -3185, 4275, -2606, 2401, 7478, -3650, 13051, 10870, 16755, 2248, 4461, 5074, 15461, 6837, 2517, 11283, -1492, 1770, -7784, -993, 13421, -8303, 11704, 3060, 10088, 10452, 16862, -35, 14726, 4617, -5458, 5030, 17097, 202, 9066, -466, 9169, 810, -6814, 16131, 13293, 4216, 9326, 6672, 7366, -4570, 14502, -8907, -5949, -4589, -3516, -327, 1153, -2409, -1095, 13319, 9569, 9095, 13685, 16734, 4929, -8984, -517, 3906, -2360, 7895, -3706, 11017, 6799, 11143, 9058, -2686, 12311, -2748, 9530, -4394, 10428, 8487, 4594, 9229, -2671, 947, -3294, 10596, 3795, 1006, -1082, -16, -855, 9811, 2861, 14563, 10183, 11929, 2288, 6054, 2749, -2264, -1698, -1921, 8483, 10951, -3751, 12993, -1383, -2657, 12314, 14649, -8547]\n",
            "[-6488, 17108, -1155, 7893, 1949, 11071, 12768, 10558, 1039, 12221, 1639, 8700, 1097, 9937, 38, 8669, 10370, 16699, 3865, 12786, 10236, 18677, 2005, 1265, 4321, 3768, 13513, 6478, 3818, 2369, -4058, 17318, 4818, 2471, 10074, 7692, -7105, 6438, -289, 5929, 13200, 822, 5118, 3318, -55, 8482, -3536, -5002, 6425, 8882, 5652, 1745, 6464, 945, 602, 13661, 16043, 5903, 4682, 11995, 11315, 10737, 3490, 1359, 10523, 9333, 17386, -3785, 2378, -520, -268, 4857, 14310, -2036, -6816, 1516, 3590, -5470, 13189, 10257, -1249, 8820, 1426, 3459, 14419, -9, 1506, 1646, -5402, 5925, -6326, 10342, 2949, 9866, 1363, 9332, 2669, -5577, 5058, 6360, 13455, -7626, 12486, 10930, 16863, 5052, -1088, 12621, -1842, 5943, 6429, -3332, 3657, -2829, 2407, 9777, 11492, -6234, 627, 363, 7303, 14802, 10075, 13540, 6179, 7739, 12157, -2331]\n",
            "[-1359, 4082, 5280, 4681, -3358, 7266, 16562, 4961, -1389, -357, 10989, 7753, 6555, 7022, 4583, 5840, 3311, -4240, 11409, -141, 1197, -128, 4208, 1539, 16853, 10737, 3810, 6148, 6388, -822, -5510, 10049, 9495, 9028, 3352, 12676, 8823, 16681, 714, 9413, 6435, -3644, 2067, 2164, 11201, 15517, 5279, 6654, 8978, -6136, -5582, -5614, 7030, 133, 3579, 9565, 15464, 6117, 189, 815, 9056, 6541, 19145, 6784, 11665, 6339, 2355, -271, 512, -4860, 8436, 12584, -3847, 174, 5771, 12623, 5567, 11811, 13355, -6591, 12491, 8290, 5158, 3931, 10475, 4661, 6015, 98, 13925, -1166, 8120, 8307, -511, 4071, -108, -438, 2846, -1142, 3967, 495, 2610, -2532, 4881, 2036, 5218, -5876, 6544, 6340, 910, 14558, 6348, 6904, -1449, 12734, -4610, 4759, -5323, 3304, 6866, 8553, -7302, -2273, 9828, 16780, -2452, 751, 6592, -4858]\n",
            "[13198, 6390, 9469, 2022, 15220, 9409, 10677, 8050, 12835, 1796, -2332, 11041, 14889, 10799, 12733, -258, -4339, 16844, 7603, 1323, -2020, -5341, 4648, 5627, 5205, -2257, 15006, 11136, 14096, -124, 11623, 15347, -6321, -403, 5544, 7404, -3508, 6202, 14242, 11334, 2884, -3914, 2839, 959, 11012, 8424, 14129, 14202, -5559, -1079, -2997, 2375, -3933, 8800, 11079, 12727, 6699, -1491, 17226, -1332, 4265, 605, 13590, -1452, 4243, 4539, 3101, 2556, 11510, 5087, -8757, 9527, 8694, 3445, 3034, -7765, -175, 2332, 10210, -6482, -4676, 6069, 2769, -3002, 11507, 12825, 14043, 7579, 7737, 13005, 6815, -2055, 11676, 8114, -1746, 4335, 8422, 5927, 12608, -4893, -2235, 5044, 10697, -146, -5517, -1664, 1769, 14283, 6394, 7282, 1570, 11258, 286, 1194, 7668, 661, 12853, 8108, 2508, -559, 3562, 15891, 11892, -558, 13249, 716, 4060, 7702]\n",
            "[12575, 9170, -285, 12236, 4972, 5407, 14156, -4939, 2184, 4113, 4426, 4436, -517, 3138, 13244, 16501, -1514, 615, 7683, 9211, 1069, 3523, -7364, 3672, -4021, 10977, 7310, 14047, -7713, 9668, 4343, 6483]\n"
          ]
        }
      ]
    },
    {
      "cell_type": "markdown",
      "metadata": {
        "id": "hoJ07PULVPpM"
      },
      "source": [
        "## Evaluate results\n",
        "\n",
        "Because our task is simple and the output is straight-forward, we will use [MAE](https://en.wikipedia.org/wiki/Mean_absolute_error) metric to evaluate the trained model during the epochs. Compute the value of the metric for the output from each epoch."
      ]
    },
    {
      "cell_type": "code",
      "metadata": {
        "collapsed": true,
        "id": "MJfXwBvaVPpN"
      },
      "source": [
        "from sklearn.metrics import mean_absolute_error"
      ],
      "execution_count": null,
      "outputs": []
    },
    {
      "cell_type": "code",
      "metadata": {
        "collapsed": true,
        "id": "g9DdkKswVPpN"
      },
      "source": [
        "for i, (gts, predictions, invalid_number_prediction_count) in enumerate(zip(all_ground_truth,\n",
        "                                                                            all_model_predictions,\n",
        "                                                                            invalid_number_prediction_counts), 1):\n",
        "    mae = ######### YOUR CODE HERE #############\n",
        "    print(\"Epoch: %i, MAE: %f, Invalid numbers: %i\" % (i, mae, invalid_number_prediction_count))"
      ],
      "execution_count": null,
      "outputs": []
    }
  ]
}