{
  "nbformat": 4,
  "nbformat_minor": 0,
  "metadata": {
    "kernelspec": {
      "display_name": "Python 3",
      "language": "python",
      "name": "python3"
    },
    "language_info": {
      "codemirror_mode": {
        "name": "ipython",
        "version": 3
      },
      "file_extension": ".py",
      "mimetype": "text/x-python",
      "name": "python",
      "nbconvert_exporter": "python",
      "pygments_lexer": "ipython3",
      "version": "3.4.3"
    },
    "colab": {
      "name": "week4-seq2seq.ipynb",
      "provenance": [],
      "machine_shape": "hm",
      "include_colab_link": true
    }
  },
  "cells": [
    {
      "cell_type": "markdown",
      "metadata": {
        "id": "view-in-github",
        "colab_type": "text"
      },
      "source": [
        "<a href=\"https://colab.research.google.com/github/gromag/natural-language-processing/blob/master/week4/week4-seq2seq.ipynb\" target=\"_parent\"><img src=\"https://colab.research.google.com/assets/colab-badge.svg\" alt=\"Open In Colab\"/></a>"
      ]
    },
    {
      "cell_type": "markdown",
      "metadata": {
        "id": "aKXZd_lpVPo2"
      },
      "source": [
        "# Learn to calculate with seq2seq model\n",
        "\n",
        "In this assignment, you will learn how to use neural networks to solve sequence-to-sequence prediction tasks. Seq2Seq models are very popular these days because they achieve great results in Machine Translation, Text Summarization, Conversational Modeling and more.\n",
        "\n",
        "Using sequence-to-sequence modeling you are going to build a calculator for evaluating arithmetic expressions, by taking an equation as an input to the neural network and producing an answer as it's output.\n",
        "\n",
        "The resulting solution for this problem will be based on state-of-the-art approaches for sequence-to-sequence learning and you should be able to easily adapt it to solve other tasks. However, if you want to train your own machine translation system or intellectual chat bot, it would be useful to have access to compute resources like GPU, and be patient, because training of such systems is usually time consuming. \n",
        "\n",
        "### Libraries\n",
        "\n",
        "For this task you will need the following libraries:\n",
        " - [TensorFlow](https://www.tensorflow.org) — an open-source software library for Machine Intelligence.\n",
        " \n",
        "In this assignment, we use Tensorflow 1.15.0. You can install it with pip:\n",
        "\n",
        "    !pip install tensorflow==1.15.0\n",
        "     \n",
        " - [scikit-learn](http://scikit-learn.org/stable/index.html) — a tool for data mining and data analysis.\n",
        " \n",
        "If you have never worked with TensorFlow, you will probably want to read some tutorials during your work on this assignment, e.g. [Neural Machine Translation](https://www.tensorflow.org/tutorials/seq2seq) tutorial deals with very similar task and can explain some concepts to you. "
      ]
    },
    {
      "cell_type": "code",
      "metadata": {
        "colab": {
          "base_uri": "https://localhost:8080/"
        },
        "id": "mB32UF34V9H5",
        "outputId": "c22b5688-0a5c-48c3-a733-882895bb4715"
      },
      "source": [
        "%tensorflow_version 1.x\n",
        "import tensorflow\n",
        "print(tensorflow.__version__)"
      ],
      "execution_count": 2,
      "outputs": [
        {
          "output_type": "stream",
          "name": "stdout",
          "text": [
            "TensorFlow 1.x selected.\n",
            "1.15.2\n"
          ]
        }
      ]
    },
    {
      "cell_type": "code",
      "metadata": {
        "colab": {
          "base_uri": "https://localhost:8080/"
        },
        "id": "CvvtOIshVPo6",
        "outputId": "0c92a3cd-c194-49a7-b30f-52d1dfd6ef9d"
      },
      "source": [
        "try:\n",
        "    import google.colab\n",
        "    IN_COLAB = True\n",
        "except:\n",
        "    IN_COLAB = False\n",
        "\n",
        "if IN_COLAB:\n",
        "    ! wget https://raw.githubusercontent.com/hse-aml/natural-language-processing/master/setup_google_colab.py -O setup_google_colab.py\n",
        "    import setup_google_colab\n",
        "    setup_google_colab.setup_week4()"
      ],
      "execution_count": 3,
      "outputs": [
        {
          "output_type": "stream",
          "name": "stdout",
          "text": [
            "--2021-10-24 09:33:02--  https://raw.githubusercontent.com/hse-aml/natural-language-processing/master/setup_google_colab.py\n",
            "Resolving raw.githubusercontent.com (raw.githubusercontent.com)... 185.199.108.133, 185.199.109.133, 185.199.110.133, ...\n",
            "Connecting to raw.githubusercontent.com (raw.githubusercontent.com)|185.199.108.133|:443... connected.\n",
            "HTTP request sent, awaiting response... 200 OK\n",
            "Length: 1939 (1.9K) [text/plain]\n",
            "Saving to: ‘setup_google_colab.py’\n",
            "\n",
            "setup_google_colab. 100%[===================>]   1.89K  --.-KB/s    in 0s      \n",
            "\n",
            "2021-10-24 09:33:02 (21.5 MB/s) - ‘setup_google_colab.py’ saved [1939/1939]\n",
            "\n"
          ]
        }
      ]
    },
    {
      "cell_type": "markdown",
      "metadata": {
        "id": "ych81bLAVPo8"
      },
      "source": [
        "### Data\n",
        "\n",
        "One benefit of this task is that you don't need to download any data — you will generate it on your own! We will use two operators (addition and subtraction) and work with positive integer numbers in some range. Here are examples of correct inputs and outputs:\n",
        "\n",
        "    Input: '1+2'\n",
        "    Output: '3'\n",
        "    \n",
        "    Input: '0-99'\n",
        "    Output: '-99'\n",
        "\n",
        "*Note, that there are no spaces between operators and operands.*\n",
        "\n",
        "\n",
        "Now you need to implement the function *generate_equations*, which will be used to generate the data."
      ]
    },
    {
      "cell_type": "code",
      "metadata": {
        "collapsed": true,
        "id": "bo8mlr5eVPo9"
      },
      "source": [
        "import random"
      ],
      "execution_count": 4,
      "outputs": []
    },
    {
      "cell_type": "code",
      "metadata": {
        "collapsed": true,
        "id": "rHBaJgR6VPo9"
      },
      "source": [
        "import operator\n",
        "\n",
        "def generate_equations(allowed_operators, dataset_size, min_value, max_value):\n",
        "    \"\"\"Generates pairs of equations and solutions to them.\n",
        "    \n",
        "       Each equation has a form of two integers with an operator in between.\n",
        "       Each solution is an integer with the result of the operation.\n",
        "    \n",
        "        allowed_operators: list of strings, allowed operators.\n",
        "        dataset_size: an integer, number of equations to be generated.\n",
        "        min_value: an integer, min value of each operand.\n",
        "        max_value: an integer, max value of each operand.\n",
        "\n",
        "        result: a list of tuples of strings (equation, solution).\n",
        "    \"\"\"\n",
        "    # STUDENT CODE      \n",
        "    operations = { \"+\": operator.add, \"-\": operator.sub }\n",
        "    # Note: we may end up with an equation with unusual\n",
        "    # notation like \"11--10\", where \"--\" should be expressed\n",
        "    # as \"+\"\n",
        "    # The following maps those odd notations\n",
        "    notation_map = { \"+-\": \"-\", \"--\": \"+\"}\n",
        "\n",
        "    for o in allowed_operators:\n",
        "      assert o in operations\n",
        "\n",
        "    numbers = random.choices(range(min_value, max_value), k=dataset_size*2)\n",
        "\n",
        "    sample = []\n",
        "    for pair in zip(numbers[:dataset_size], numbers[dataset_size:]):\n",
        "      operation_choice = random.choice(allowed_operators)\n",
        "      result = operations[operation_choice](*pair)\n",
        "      eq_literal = f'{pair[0]}{operation_choice}{pair[1]}'\n",
        "      for notation in notation_map:\n",
        "        if notation in eq_literal:\n",
        "          eq_literal = eq_literal.replace(notation, notation_map[notation])\n",
        "      \n",
        "      sample.append((eq_literal, str(result)))\n",
        "    return sample"
      ],
      "execution_count": 5,
      "outputs": []
    },
    {
      "cell_type": "markdown",
      "metadata": {
        "id": "PLFM6vUoVPo-"
      },
      "source": [
        "To check the correctness of your implementation, use *test_generate_equations* function:"
      ]
    },
    {
      "cell_type": "code",
      "metadata": {
        "collapsed": true,
        "id": "IbIuG3mlVPo-"
      },
      "source": [
        "def test_generate_equations():\n",
        "    allowed_operators = ['+', '-']\n",
        "    dataset_size = 10\n",
        "    for (input_, output_) in generate_equations(allowed_operators, dataset_size, 0, 100):\n",
        "        if not (type(input_) is str and type(output_) is str):\n",
        "            return \"Both parts should be strings.\"\n",
        "        if eval(input_) != int(output_):\n",
        "            return \"The (equation: {!r}, solution: {!r}) pair is incorrect.\".format(input_, output_)\n",
        "    return \"Tests passed.\""
      ],
      "execution_count": 6,
      "outputs": []
    },
    {
      "cell_type": "code",
      "metadata": {
        "collapsed": true,
        "colab": {
          "base_uri": "https://localhost:8080/"
        },
        "id": "qSCpHI-GVPo_",
        "outputId": "92f84fb8-04d9-4ed8-9b29-ee2686f16b41"
      },
      "source": [
        "print(test_generate_equations())"
      ],
      "execution_count": 7,
      "outputs": [
        {
          "output_type": "stream",
          "name": "stdout",
          "text": [
            "Tests passed.\n"
          ]
        }
      ]
    },
    {
      "cell_type": "markdown",
      "metadata": {
        "id": "8jy7FPGgVPpA"
      },
      "source": [
        "Finally, we are ready to generate the train and test data for the neural network:"
      ]
    },
    {
      "cell_type": "code",
      "metadata": {
        "collapsed": true,
        "id": "XGBJTtNMVPpB"
      },
      "source": [
        "from sklearn.model_selection import train_test_split"
      ],
      "execution_count": 8,
      "outputs": []
    },
    {
      "cell_type": "code",
      "metadata": {
        "collapsed": true,
        "id": "fergeaFdVPpB"
      },
      "source": [
        "allowed_operators = ['+', '-']\n",
        "dataset_size = 100000\n",
        "data = generate_equations(allowed_operators, dataset_size, min_value=0, max_value=9999)\n",
        "\n",
        "train_set, test_set = train_test_split(data, test_size=0.2, random_state=42)"
      ],
      "execution_count": 9,
      "outputs": []
    },
    {
      "cell_type": "markdown",
      "metadata": {
        "id": "7UoqzfUhVPpC"
      },
      "source": [
        "## Prepare data for the neural network\n",
        "\n",
        "The next stage of data preparation is creating mappings of the characters to their indices in some vocabulary. Since in our task we already know which symbols will appear in the inputs and outputs, generating the vocabulary is a simple step.\n",
        "\n",
        "#### How to create dictionaries for other task\n",
        "\n",
        "First of all, you need to understand what is the basic unit of the sequence in your task. In our case, we operate on symbols and the basic unit is a symbol. The number of symbols is small, so we don't need to think about filtering/normalization steps. However, in other tasks, the basic unit is often a word, and in this case the mapping would be *word $\\to$ integer*. The number of words might be huge, so it would be reasonable to filter them, for example, by frequency and leave only the frequent ones. Other strategies that your should consider are: data normalization (lowercasing, tokenization, how to consider punctuation marks), separate vocabulary for input and for output (e.g. for machine translation), some specifics of the task."
      ]
    },
    {
      "cell_type": "code",
      "metadata": {
        "collapsed": true,
        "id": "QgsRET6vVPpC"
      },
      "source": [
        "word2id = {symbol:i for i, symbol in enumerate('#^$+-1234567890')}\n",
        "id2word = {i:symbol for symbol, i in word2id.items()}"
      ],
      "execution_count": 10,
      "outputs": []
    },
    {
      "cell_type": "markdown",
      "metadata": {
        "id": "Rprj1RxQVPpC"
      },
      "source": [
        "#### Special symbols"
      ]
    },
    {
      "cell_type": "code",
      "metadata": {
        "collapsed": true,
        "id": "0xxEz48jVPpD"
      },
      "source": [
        "start_symbol = '^'\n",
        "end_symbol = '$'\n",
        "padding_symbol = '#'"
      ],
      "execution_count": 11,
      "outputs": []
    },
    {
      "cell_type": "markdown",
      "metadata": {
        "id": "CNnKWd6aVPpD"
      },
      "source": [
        "You could notice that we have added 3 special symbols: '^', '\\$' and '#':\n",
        "- '^' symbol will be passed to the network to indicate the beginning of the decoding procedure. We will discuss this one later in more details.\n",
        "- '\\$' symbol will be used to indicate the *end of a string*, both for input and output sequences. \n",
        "- '#' symbol will be used as a *padding* character to make lengths of all strings equal within one training batch.\n",
        "\n",
        "People have a bit different habits when it comes to special symbols in encoder-decoder networks, so don't get too much confused if you come across other variants in tutorials you read. "
      ]
    },
    {
      "cell_type": "markdown",
      "metadata": {
        "id": "gx7J5EwtVPpD"
      },
      "source": [
        "#### Padding"
      ]
    },
    {
      "cell_type": "markdown",
      "metadata": {
        "id": "tn8YDKyBVPpD"
      },
      "source": [
        "When vocabularies are ready, we need to be able to convert a sentence to a list of vocabulary word indices and back. At the same time, let's care about padding. We are going to preprocess each sequence from the input (and output ground truth) in such a way that:\n",
        "- it has a predefined length *padded_len*\n",
        "- it is probably cut off or padded with the *padding symbol* '#'\n",
        "- it *always* ends with the *end symbol* '$'\n",
        "\n",
        "We will treat the original characters of the sequence **and the end symbol** as the valid part of the input. We will store *the actual length* of the sequence, which includes the end symbol, but does not include the padding symbols. "
      ]
    },
    {
      "cell_type": "markdown",
      "metadata": {
        "id": "yXVQOOcPVPpE"
      },
      "source": [
        " Now you need to implement the function *sentence_to_ids* that does the described job. "
      ]
    },
    {
      "cell_type": "code",
      "metadata": {
        "colab": {
          "base_uri": "https://localhost:8080/"
        },
        "id": "nAWEA-mghItC",
        "outputId": "248a2f1c-72a2-413d-cf7c-430b76621364"
      },
      "source": [
        "a = [1,2,3,4,5,6]\n",
        "\n",
        "a[:3]"
      ],
      "execution_count": 12,
      "outputs": [
        {
          "output_type": "execute_result",
          "data": {
            "text/plain": [
              "[1, 2, 3]"
            ]
          },
          "metadata": {},
          "execution_count": 12
        }
      ]
    },
    {
      "cell_type": "code",
      "metadata": {
        "collapsed": true,
        "id": "9EXBivB0VPpE"
      },
      "source": [
        "def sentence_to_ids(sentence, word2id, padded_len):\n",
        "    \"\"\" Converts a sequence of symbols to a padded sequence of their ids.\n",
        "    \n",
        "      sentence: a string, input/output sequence of symbols.\n",
        "      word2id: a dict, a mapping from original symbols to ids.\n",
        "      padded_len: an integer, a desirable length of the sequence.\n",
        "\n",
        "      result: a tuple of (a list of ids, an actual length of sentence).\n",
        "    \"\"\"\n",
        "    # STUDENT CODE\n",
        "    end_symbol = \"$\"\n",
        "    pad_symbol = \"#\"\n",
        "    sent_ids = [word2id[char] for char in sentence]\n",
        "    # Trim sentence lenth (if need be) and add end symbol\n",
        "    sent_ids = sent_ids[:(padded_len-1)] + [word2id[end_symbol]]\n",
        "    sent_len = len(sent_ids)\n",
        "    sent_ids = sent_ids + [word2id[pad_symbol] for pad in range(padded_len - sent_len)]\n",
        "    \n",
        "    \n",
        "    return sent_ids, sent_len"
      ],
      "execution_count": 13,
      "outputs": []
    },
    {
      "cell_type": "markdown",
      "metadata": {
        "id": "2Rd6ex-FVPpE"
      },
      "source": [
        "Check that your implementation is correct:"
      ]
    },
    {
      "cell_type": "code",
      "metadata": {
        "collapsed": true,
        "id": "bdFGoDQ7VPpE"
      },
      "source": [
        "def test_sentence_to_ids():\n",
        "    sentences = [(\"123+123\", 7), (\"123+123\", 8), (\"123+123\", 10)]\n",
        "    expected_output = [([5, 6, 7, 3, 5, 6, 2], 7), \n",
        "                       ([5, 6, 7, 3, 5, 6, 7, 2], 8), \n",
        "                       ([5, 6, 7, 3, 5, 6, 7, 2, 0, 0], 8)] \n",
        "    for (sentence, padded_len), (sentence_ids, expected_length) in zip(sentences, expected_output):\n",
        "        output, length = sentence_to_ids(sentence, word2id, padded_len)\n",
        "        if output != sentence_ids:\n",
        "            return(\"Convertion of '{}' for padded_len={} to {} is incorrect.\".format(\n",
        "                sentence, padded_len, output))\n",
        "        if length != expected_length:\n",
        "            return(\"Convertion of '{}' for padded_len={} has incorrect actual length {}.\".format(\n",
        "                sentence, padded_len, length))\n",
        "    return(\"Tests passed.\")"
      ],
      "execution_count": 14,
      "outputs": []
    },
    {
      "cell_type": "code",
      "metadata": {
        "collapsed": true,
        "colab": {
          "base_uri": "https://localhost:8080/"
        },
        "id": "0G2K5RiYVPpF",
        "outputId": "fa311ec6-add0-4e53-e07a-5db9e2444dfb"
      },
      "source": [
        "print(test_sentence_to_ids())"
      ],
      "execution_count": 15,
      "outputs": [
        {
          "output_type": "stream",
          "name": "stdout",
          "text": [
            "Tests passed.\n"
          ]
        }
      ]
    },
    {
      "cell_type": "markdown",
      "metadata": {
        "id": "5ZKjFtgNVPpF"
      },
      "source": [
        "We also need to be able to get back from indices to symbols:"
      ]
    },
    {
      "cell_type": "code",
      "metadata": {
        "collapsed": true,
        "id": "MymXm45IVPpF"
      },
      "source": [
        "def ids_to_sentence(ids, id2word):\n",
        "    \"\"\" Converts a sequence of ids to a sequence of symbols.\n",
        "    \n",
        "          ids: a list, indices for the padded sequence.\n",
        "          id2word:  a dict, a mapping from ids to original symbols.\n",
        "\n",
        "          result: a list of symbols.\n",
        "    \"\"\"\n",
        " \n",
        "    return [id2word[i] for i in ids] "
      ],
      "execution_count": 16,
      "outputs": []
    },
    {
      "cell_type": "markdown",
      "metadata": {
        "id": "ALhm23crVPpF"
      },
      "source": [
        "#### Generating batches"
      ]
    },
    {
      "cell_type": "markdown",
      "metadata": {
        "id": "P8YbR12xVPpF"
      },
      "source": [
        "The final step of data preparation is a function that transforms a batch of sentences to a list of lists of indices. "
      ]
    },
    {
      "cell_type": "code",
      "metadata": {
        "collapsed": true,
        "id": "vEzkZLjGVPpG"
      },
      "source": [
        "def batch_to_ids(sentences, word2id, max_len):\n",
        "    \"\"\"Prepares batches of indices. \n",
        "    \n",
        "       Sequences are padded to match the longest sequence in the batch,\n",
        "       if it's longer than max_len, then max_len is used instead.\n",
        "\n",
        "        sentences: a list of strings, original sequences.\n",
        "        word2id: a dict, a mapping from original symbols to ids.\n",
        "        max_len: an integer, max len of sequences allowed.\n",
        "\n",
        "        result: a list of lists of ids, a list of actual lengths.\n",
        "    \"\"\"\n",
        "    \n",
        "    max_len_in_batch = min(max(len(s) for s in sentences) + 1, max_len)\n",
        "    batch_ids, batch_ids_len = [], []\n",
        "    for sentence in sentences:\n",
        "        ids, ids_len = sentence_to_ids(sentence, word2id, max_len_in_batch)\n",
        "        batch_ids.append(ids)\n",
        "        batch_ids_len.append(ids_len)\n",
        "    return batch_ids, batch_ids_len"
      ],
      "execution_count": 17,
      "outputs": []
    },
    {
      "cell_type": "markdown",
      "metadata": {
        "id": "ArSmdtWUVPpG"
      },
      "source": [
        "The function *generate_batches* will help to generate batches with defined size from given samples."
      ]
    },
    {
      "cell_type": "code",
      "metadata": {
        "collapsed": true,
        "id": "txf-zWHuVPpG"
      },
      "source": [
        "def generate_batches(samples, batch_size=64):\n",
        "    X, Y = [], []\n",
        "    for i, (x, y) in enumerate(samples, 1):\n",
        "        X.append(x)\n",
        "        Y.append(y)\n",
        "        if i % batch_size == 0:\n",
        "            yield X, Y\n",
        "            X, Y = [], []\n",
        "    if X and Y:\n",
        "        yield X, Y"
      ],
      "execution_count": 18,
      "outputs": []
    },
    {
      "cell_type": "markdown",
      "metadata": {
        "id": "h2bsMPcPVPpG"
      },
      "source": [
        "To illustrate the result of the implemented functions, run the following cell:"
      ]
    },
    {
      "cell_type": "code",
      "metadata": {
        "collapsed": true,
        "colab": {
          "base_uri": "https://localhost:8080/"
        },
        "id": "pkQjHhyaVPpG",
        "outputId": "b33b2936-16e8-4746-c068-fc76108f1c09"
      },
      "source": [
        "sentences = train_set[0]\n",
        "ids, sent_lens = batch_to_ids(sentences, word2id, max_len=10)\n",
        "print('Input:', sentences)\n",
        "print('Ids: {}\\nSentences lengths: {}'.format(ids, sent_lens))"
      ],
      "execution_count": 19,
      "outputs": [
        {
          "output_type": "stream",
          "name": "stdout",
          "text": [
            "Input: ('5555-859', '4696')\n",
            "Ids: [[9, 9, 9, 9, 4, 12, 9, 13, 2], [8, 10, 13, 10, 2, 0, 0, 0, 0]]\n",
            "Sentences lengths: [9, 5]\n"
          ]
        }
      ]
    },
    {
      "cell_type": "markdown",
      "metadata": {
        "id": "Ow2lghmIVPpG"
      },
      "source": [
        "## Encoder-Decoder architecture\n",
        "\n",
        "Encoder-Decoder is a successful architecture for Seq2Seq tasks with different lengths of input and output sequences. The main idea is to use two recurrent neural networks, where the first neural network *encodes* the input sequence into a real-valued vector and then the second neural network *decodes* this vector into the output sequence. While building the neural network, we will specify some particular characteristics of this architecture."
      ]
    },
    {
      "cell_type": "code",
      "metadata": {
        "collapsed": true,
        "id": "Mv_se3pTVPpH"
      },
      "source": [
        "import tensorflow as tf"
      ],
      "execution_count": 20,
      "outputs": []
    },
    {
      "cell_type": "markdown",
      "metadata": {
        "id": "P93z_fzsVPpH"
      },
      "source": [
        "Let us use TensorFlow building blocks to specify the network architecture."
      ]
    },
    {
      "cell_type": "code",
      "metadata": {
        "collapsed": true,
        "id": "OOQNp-xlVPpH"
      },
      "source": [
        "class Seq2SeqModel(object):\n",
        "    pass"
      ],
      "execution_count": 21,
      "outputs": []
    },
    {
      "cell_type": "markdown",
      "metadata": {
        "id": "1jbx64z0VPpH"
      },
      "source": [
        "First, we need to create [placeholders](https://www.tensorflow.org/api_guides/python/io_ops#Placeholders) to specify what data we are going to feed into the network during the execution time. For this task we will need:\n",
        " - *input_batch* — sequences of sentences (the shape will equal to [batch_size, max_sequence_len_in_batch]);\n",
        " - *input_batch_lengths* — lengths of not padded sequences (the shape equals to [batch_size]);\n",
        " - *ground_truth* — sequences of groundtruth (the shape will equal to [batch_size, max_sequence_len_in_batch]);\n",
        " - *ground_truth_lengths* — lengths of not padded groundtruth sequences (the shape equals to [batch_size]);\n",
        " - *dropout_ph* — dropout keep probability; this placeholder has a predifined value 1;\n",
        " - *learning_rate_ph* — learning rate."
      ]
    },
    {
      "cell_type": "code",
      "metadata": {
        "collapsed": true,
        "id": "EuB_IWgFVPpI"
      },
      "source": [
        "def declare_placeholders(self):\n",
        "    \"\"\"Specifies placeholders for the model.\"\"\"\n",
        "    # STUDENT CODE\n",
        "    \n",
        "    # Placeholders for input and its actual lengths.\n",
        "    self.input_batch = tf.placeholder(shape=(None, None), dtype=tf.int32, name='input_batch')\n",
        "    self.input_batch_lengths = tf.placeholder(shape=(None, ), dtype=tf.int32, name='input_batch_lengths')\n",
        "    \n",
        "    # Placeholders for groundtruth and its actual lengths.\n",
        "    self.ground_truth = tf.placeholder(shape=(None, None), dtype=tf.int32, name='ground_truth')\n",
        "    self.ground_truth_lengths = tf.placeholder(shape=(None, ), dtype=tf.int32, name='ground_truth_lengths')\n",
        "        \n",
        "    self.dropout_ph = tf.placeholder_with_default(tf.cast(1.0, tf.float32), shape=[])\n",
        "    self.learning_rate_ph = tf.placeholder(shape=[], dtype=tf.float32, name=\"learning_rate_ph\")"
      ],
      "execution_count": 22,
      "outputs": []
    },
    {
      "cell_type": "code",
      "metadata": {
        "collapsed": true,
        "id": "Ob0NWqYPVPpI"
      },
      "source": [
        "Seq2SeqModel.__declare_placeholders = classmethod(declare_placeholders)"
      ],
      "execution_count": 23,
      "outputs": []
    },
    {
      "cell_type": "markdown",
      "metadata": {
        "id": "o9-nptsWVPpI"
      },
      "source": [
        "Now, let us specify the layers of the neural network. First, we need to prepare an embedding matrix. Since we use the same vocabulary for input and output, we need only one such matrix. For tasks with different vocabularies there would be multiple embedding layers.\n",
        "- Create embeddings matrix with [tf.Variable](https://www.tensorflow.org/api_docs/python/tf/Variable). Specify its name, type (tf.float32), and initialize with random values.\n",
        "- Perform [embeddings lookup](https://www.tensorflow.org/api_docs/python/tf/nn/embedding_lookup) for a given input batch."
      ]
    },
    {
      "cell_type": "code",
      "metadata": {
        "collapsed": true,
        "id": "Uz6zFG38VPpI"
      },
      "source": [
        "def create_embeddings(self, vocab_size, embeddings_size):\n",
        "    \"\"\"Specifies embeddings layer and embeds an input batch.\"\"\"\n",
        "    \n",
        "    random_initializer = tf.random_uniform((vocab_size, embeddings_size), -1.0, 1.0)\n",
        "    # STUDENT CODE\n",
        "    self.embeddings = tf.Variable(dtype=tf.float32, \n",
        "                                  shape=(vocab_size, embeddings_size), \n",
        "                                  initial_value=random_initializer,\n",
        "                                  name=\"embeddings\")\n",
        "    # STUDENT CODE\n",
        "    # Perform embeddings lookup for self.input_batch. \n",
        "    self.input_batch_embedded = tf.nn.embedding_lookup(self.embeddings, self.input_batch)"
      ],
      "execution_count": 24,
      "outputs": []
    },
    {
      "cell_type": "code",
      "metadata": {
        "collapsed": true,
        "id": "vaO3jNa5VPpI"
      },
      "source": [
        "Seq2SeqModel.__create_embeddings = classmethod(create_embeddings)"
      ],
      "execution_count": 25,
      "outputs": []
    },
    {
      "cell_type": "markdown",
      "metadata": {
        "id": "jARxidIiVPpI"
      },
      "source": [
        "#### Encoder\n",
        "\n",
        "The first RNN of the current architecture is called an *encoder* and serves for encoding an input sequence to a real-valued vector. Input of this RNN is an embedded input batch. Since sentences in the same batch could have different actual lengths, we also provide input lengths to avoid unnecessary computations. The final encoder state will be passed to the second RNN (decoder), which we will create soon. \n",
        "\n",
        "- TensorFlow provides a number of [RNN cells](https://www.tensorflow.org/api_guides/python/contrib.rnn#Core_RNN_Cells_for_use_with_TensorFlow_s_core_RNN_methods) ready for use. We suggest that you use [GRU cell](https://www.tensorflow.org/api_docs/python/tf/contrib/rnn/GRUCell), but you can also experiment with other types. \n",
        "- Wrap your cells with [DropoutWrapper](https://www.tensorflow.org/api_docs/python/tf/contrib/rnn/DropoutWrapper). Dropout is an important regularization technique for neural networks. Specify input keep probability using the dropout placeholder that we created before.\n",
        "- Combine the defined encoder cells with [Dynamic RNN](https://www.tensorflow.org/api_docs/python/tf/nn/dynamic_rnn). Use the embedded input batches and their lengths here.\n",
        "- Use *dtype=tf.float32* everywhere."
      ]
    },
    {
      "cell_type": "code",
      "metadata": {
        "collapsed": true,
        "id": "qBM01bksVPpJ"
      },
      "source": [
        "# STUDENT CODE\n",
        "def build_encoder(self, hidden_size):\n",
        "    \"\"\"Specifies encoder architecture and computes its output.\"\"\"\n",
        "    \n",
        "    # Create GRUCell with dropout.\n",
        "    encoder_cell = tf.nn.rnn_cell.DropoutWrapper(\n",
        "        tf.nn.rnn_cell.GRUCell(hidden_size, dtype=tf.float32),\n",
        "        input_keep_prob = self.dropout_ph)    \n",
        "    # Create RNN with the predefined cell.\n",
        "    # See https://youtu.be/RIR_-Xlbp7s?t=1190\n",
        "    _, self.final_encoder_state = tf.nn.dynamic_rnn(\n",
        "        cell=encoder_cell, \n",
        "        inputs=self.input_batch_embedded,\n",
        "        sequence_length = self.input_batch_lengths,\n",
        "        dtype=tf.float32\n",
        "    )"
      ],
      "execution_count": 26,
      "outputs": []
    },
    {
      "cell_type": "code",
      "metadata": {
        "collapsed": true,
        "id": "lOoDxGAYVPpJ"
      },
      "source": [
        "Seq2SeqModel.__build_encoder = classmethod(build_encoder)"
      ],
      "execution_count": 27,
      "outputs": []
    },
    {
      "cell_type": "markdown",
      "metadata": {
        "id": "vdPB6tFeVPpJ"
      },
      "source": [
        "#### Decoder\n",
        "\n",
        "The second RNN is called a *decoder* and serves for generating the output sequence. In the simple seq2seq architecture, the input sequence is provided to the decoder only as the final state of the encoder. Obviously, it is a bottleneck and [Attention techniques](https://www.tensorflow.org/tutorials/seq2seq#background_on_the_attention_mechanism) can help to overcome it. So far, we do not need them to make our calculator work, but this would be a necessary ingredient for more advanced tasks. \n",
        "\n",
        "During training, decoder also uses information about the true output. It is feeded in as input symbol by symbol. However, during the prediction stage (which is called *inference* in this architecture), the decoder can only use its own generated output from the previous step to feed it in at the next step. Because of this difference (*training* vs *inference*), we will create two distinct instances, which will serve for the described scenarios.\n",
        "\n",
        "The picture below illustrates the point. It also shows our work with the special characters, e.g. look how the start symbol `^` is used. The transparent parts are ignored. In decoder, it is masked out in the loss computation. In encoder, the green state is considered as final and passed to the decoder. "
      ]
    },
    {
      "cell_type": "markdown",
      "metadata": {
        "id": "XQ35EkXIVPpJ"
      },
      "source": [
        "<img src=\"https://github.com/gromag/natural-language-processing/blob/master/week4/encoder-decoder-pic.png?raw=1\" style=\"width: 500px;\">"
      ]
    },
    {
      "cell_type": "markdown",
      "metadata": {
        "id": "vkSXl3usVPpJ"
      },
      "source": [
        "Now, it's time to implement the decoder:\n",
        " - First, we should create two [helpers](https://www.tensorflow.org/api_guides/python/contrib.seq2seq#Dynamic_Decoding). These classes help to determine the behaviour of the decoder. During the training time, we will use [TrainingHelper](https://www.tensorflow.org/api_docs/python/tf/contrib/seq2seq/TrainingHelper). For the inference we recommend to use [GreedyEmbeddingHelper](https://www.tensorflow.org/api_docs/python/tf/contrib/seq2seq/GreedyEmbeddingHelper).\n",
        " - To share all parameters during training and inference, we use one scope and set the flag 'reuse' to True at inference time. You might be interested to know more about how [variable scopes](https://www.tensorflow.org/programmers_guide/variables) work in TF. \n",
        " - To create the decoder itself, we will use [BasicDecoder](https://www.tensorflow.org/api_docs/python/tf/contrib/seq2seq/BasicDecoder) class. As previously, you should choose some RNN cell, e.g. GRU cell. To turn hidden states into logits, we will need a projection layer. One of the simple solutions is using [OutputProjectionWrapper](https://www.tensorflow.org/api_docs/python/tf/contrib/rnn/OutputProjectionWrapper).\n",
        " - For getting the predictions, it will be convinient to use [dynamic_decode](https://www.tensorflow.org/api_docs/python/tf/contrib/seq2seq/dynamic_decode). This function uses the provided decoder to perform decoding."
      ]
    },
    {
      "cell_type": "code",
      "metadata": {
        "collapsed": true,
        "id": "bIdwE7mYVPpJ"
      },
      "source": [
        "def build_decoder(self, hidden_size, vocab_size, max_iter, start_symbol_id, end_symbol_id):\n",
        "    \"\"\"Specifies decoder architecture and computes the output.\n",
        "    \n",
        "        Uses different helpers:\n",
        "          - for train: feeding ground truth\n",
        "          - for inference: feeding generated output\n",
        "\n",
        "        As a result, self.train_outputs and self.infer_outputs are created. \n",
        "        Each of them contains two fields:\n",
        "          rnn_output (predicted logits)\n",
        "          sample_id (predictions).\n",
        "\n",
        "    \"\"\"\n",
        "    \n",
        "    # Use start symbols as the decoder inputs at the first time step.\n",
        "    batch_size = tf.shape(self.input_batch)[0]\n",
        "    start_tokens = tf.fill([batch_size], start_symbol_id)\n",
        "    ground_truth_as_input = tf.concat([tf.expand_dims(start_tokens, 1), self.ground_truth], 1)\n",
        "    \n",
        "    # STUDENT CODE\n",
        "    # TODO: revisit\n",
        "    # Use the embedding layer defined before to lookup embeddings for ground_truth_as_input. \n",
        "    self.ground_truth_embedded = tf.nn.embedding_lookup(self.embeddings, ground_truth_as_input)\n",
        "     \n",
        "    # Create TrainingHelper for the train stage.\n",
        "    train_helper = tf.contrib.seq2seq.TrainingHelper(self.ground_truth_embedded, \n",
        "                                                     self.ground_truth_lengths)\n",
        "    # STUDENT CODE\n",
        "    # TODO: revisit\n",
        "    # Create GreedyEmbeddingHelper for the inference stage.\n",
        "    # You should provide the embedding layer, start_tokens and index of the end symbol.\n",
        "    infer_helper = tf.contrib.seq2seq.GreedyEmbeddingHelper(self.embeddings, start_tokens, end_symbol_id)\n",
        "    \n",
        "  \n",
        "    def decode(helper, scope, reuse=None):\n",
        "        \"\"\"Creates decoder and return the results of the decoding with a given helper.\"\"\"\n",
        "        \n",
        "        with tf.variable_scope(scope, reuse=reuse):\n",
        "            # STUDENT CODE\n",
        "            # Create GRUCell with dropout. Do not forget to set the reuse flag properly.\n",
        "            decoder_cell = tf.nn.rnn_cell.DropoutWrapper(\n",
        "              tf.nn.rnn_cell.GRUCell(hidden_size, dtype=tf.float32, reuse=reuse),\n",
        "              input_keep_prob = self.dropout_ph) \n",
        "            \n",
        "            # Create a projection wrapper.\n",
        "            decoder_cell = tf.contrib.rnn.OutputProjectionWrapper(decoder_cell, vocab_size, reuse=reuse)\n",
        "            \n",
        "            # STUDENT CODE\n",
        "            # Create BasicDecoder, pass the defined cell, a helper, and initial state.\n",
        "            # The initial state should be equal to the final state of the encoder!\n",
        "            decoder = tf.contrib.seq2seq.BasicDecoder(decoder_cell, helper, self.final_encoder_state)\n",
        "            \n",
        "            # The first returning argument of dynamic_decode contains two fields:\n",
        "            #   rnn_output (predicted logits)\n",
        "            #   sample_id (predictions)\n",
        "            # see: https://youtu.be/RIR_-Xlbp7s?t=1844\n",
        "            outputs, _, _ = tf.contrib.seq2seq.dynamic_decode(decoder=decoder, maximum_iterations=max_iter, \n",
        "                                                              output_time_major=False, impute_finished=True)\n",
        "\n",
        "            return outputs\n",
        "        \n",
        "    self.train_outputs = decode(train_helper, 'decode')\n",
        "    self.infer_outputs = decode(infer_helper, 'decode', reuse=True)"
      ],
      "execution_count": 28,
      "outputs": []
    },
    {
      "cell_type": "code",
      "metadata": {
        "collapsed": true,
        "id": "n2jCyBfEVPpK"
      },
      "source": [
        "Seq2SeqModel.__build_decoder = classmethod(build_decoder)"
      ],
      "execution_count": 29,
      "outputs": []
    },
    {
      "cell_type": "markdown",
      "metadata": {
        "id": "8N1vxENAVPpK"
      },
      "source": [
        "In this task we will use [sequence_loss](https://www.tensorflow.org/api_docs/python/tf/contrib/seq2seq/sequence_loss), which is a weighted cross-entropy loss for a sequence of logits. Take a moment to understand, what is your train logits and targets. Also note, that we do not want to take into account loss terms coming from padding symbols, so we will mask them out using weights.  "
      ]
    },
    {
      "cell_type": "code",
      "metadata": {
        "collapsed": true,
        "id": "_xka1zKKVPpK"
      },
      "source": [
        "def compute_loss(self):\n",
        "    \"\"\"Computes sequence loss (masked cross-entopy loss with logits).\"\"\"\n",
        "    \n",
        "    weights = tf.cast(tf.sequence_mask(self.ground_truth_lengths), dtype=tf.float32)\n",
        "    # STUDENT CODE\n",
        "    # TODO: revisit\n",
        "    self.loss = tf.contrib.seq2seq.sequence_loss(self.train_outputs.rnn_output, self.ground_truth, weights)"
      ],
      "execution_count": 30,
      "outputs": []
    },
    {
      "cell_type": "code",
      "metadata": {
        "collapsed": true,
        "id": "DVnqWrjqVPpK"
      },
      "source": [
        "Seq2SeqModel.__compute_loss = classmethod(compute_loss)"
      ],
      "execution_count": 31,
      "outputs": []
    },
    {
      "cell_type": "markdown",
      "metadata": {
        "id": "Ljh25cMUVPpK"
      },
      "source": [
        "The last thing to specify is the optimization of the defined loss. \n",
        "We suggest that you use [optimize_loss](https://www.tensorflow.org/api_docs/python/tf/contrib/layers/optimize_loss) with Adam optimizer and a learning rate from the corresponding placeholder. You might also need to pass global step (e.g. as tf.train.get_global_step()) and clip gradients by 1.0."
      ]
    },
    {
      "cell_type": "code",
      "metadata": {
        "collapsed": true,
        "id": "vRCYdu0PVPpK"
      },
      "source": [
        "def perform_optimization(self):\n",
        "    \"\"\"Specifies train_op that optimizes self.loss.\"\"\"\n",
        "\n",
        "    # STUDENT CODE\n",
        "    # see week2 assignment\n",
        "    self.optimizer =  tf.train.AdamOptimizer(learning_rate=self.learning_rate_ph)\n",
        "    self.grads_and_vars = self.optimizer.compute_gradients(self.loss)\n",
        "    clip_norm = tf.cast(1.0, tf.float32)\n",
        "    self.grads_and_vars = [(tf.clip_by_norm(g, clip_norm=clip_norm), v) for g, v in self.grads_and_vars]    \n",
        "    self.train_op = self.optimizer.apply_gradients(self.grads_and_vars)\n",
        "    # Preferred alternative\n",
        "    # self.train_op = tf.contrib.layers.optimize_loss(loss=self.loss,\n",
        "    #                                             global_step=tf.train.get_global_step(),\n",
        "    #                                             learning_rate=self.learning_rate_ph,\n",
        "    #                                             optimizer='Adam',\n",
        "    #                                             clip_gradients=1.0)"
      ],
      "execution_count": 32,
      "outputs": []
    },
    {
      "cell_type": "code",
      "metadata": {
        "collapsed": true,
        "id": "ms3XTTwmVPpK"
      },
      "source": [
        "Seq2SeqModel.__perform_optimization = classmethod(perform_optimization)"
      ],
      "execution_count": 33,
      "outputs": []
    },
    {
      "cell_type": "markdown",
      "metadata": {
        "id": "tvWFCWe_VPpL"
      },
      "source": [
        "Congratulations! You have specified all the parts of your network. You may have noticed, that we didn't deal with any real data yet, so what you have written is just recipies on how the network should function.\n",
        "Now we will put them to the constructor of our Seq2SeqModel class to use it in the next section. "
      ]
    },
    {
      "cell_type": "code",
      "metadata": {
        "collapsed": true,
        "id": "NTSEPGYjVPpL"
      },
      "source": [
        "def init_model(self, vocab_size, embeddings_size, hidden_size, \n",
        "               max_iter, start_symbol_id, end_symbol_id, padding_symbol_id):\n",
        "    \n",
        "    self.__declare_placeholders()\n",
        "    self.__create_embeddings(vocab_size, embeddings_size)\n",
        "    self.__build_encoder(hidden_size)\n",
        "    self.__build_decoder(hidden_size, vocab_size, max_iter, start_symbol_id, end_symbol_id)\n",
        "    \n",
        "    # Compute loss and back-propagate.\n",
        "    self.__compute_loss()\n",
        "    self.__perform_optimization()\n",
        "    \n",
        "    # Get predictions for evaluation.\n",
        "    self.train_predictions = self.train_outputs.sample_id\n",
        "    self.infer_predictions = self.infer_outputs.sample_id"
      ],
      "execution_count": 34,
      "outputs": []
    },
    {
      "cell_type": "code",
      "metadata": {
        "collapsed": true,
        "id": "kCj42TmOVPpL"
      },
      "source": [
        "Seq2SeqModel.__init__ = classmethod(init_model)"
      ],
      "execution_count": 35,
      "outputs": []
    },
    {
      "cell_type": "markdown",
      "metadata": {
        "id": "qyCgRe3fVPpL"
      },
      "source": [
        "## Train the network and predict output\n",
        "\n",
        "[Session.run](https://www.tensorflow.org/api_docs/python/tf/Session#run) is a point which initiates computations in the graph that we have defined. To train the network, we need to compute *self.train_op*. To predict output, we just need to compute *self.infer_predictions*. In any case, we need to feed actual data through the placeholders that we defined above. "
      ]
    },
    {
      "cell_type": "code",
      "metadata": {
        "collapsed": true,
        "id": "jy0IgTclVPpL"
      },
      "source": [
        "def train_on_batch(self, session, X, X_seq_len, Y, Y_seq_len, learning_rate, dropout_keep_probability):\n",
        "    # STUDENT CODE\n",
        "    feed_dict = {\n",
        "            self.input_batch: X,\n",
        "            self.input_batch_lengths: X_seq_len,\n",
        "            self.ground_truth: Y,\n",
        "            self.ground_truth_lengths: Y_seq_len,\n",
        "            self.learning_rate_ph: learning_rate,\n",
        "            self.dropout_ph: dropout_keep_probability\n",
        "        }\n",
        "    pred, loss, _ = session.run([\n",
        "            self.train_predictions,\n",
        "            self.loss,\n",
        "            self.train_op], feed_dict=feed_dict)\n",
        "    return pred, loss"
      ],
      "execution_count": 36,
      "outputs": []
    },
    {
      "cell_type": "code",
      "metadata": {
        "collapsed": true,
        "id": "4toojwZsVPpL"
      },
      "source": [
        "Seq2SeqModel.train_on_batch = classmethod(train_on_batch)"
      ],
      "execution_count": 37,
      "outputs": []
    },
    {
      "cell_type": "markdown",
      "metadata": {
        "id": "OMur7c4HVPpL"
      },
      "source": [
        "We implemented two prediction functions: *predict_for_batch* and *predict_for_batch_with_loss*. The first one allows only to predict output for some input sequence, while the second one could compute loss because we provide also ground truth values. Both these functions might be useful since the first one could be used for predicting only, and the second one is helpful for validating results on not-training data during the training."
      ]
    },
    {
      "cell_type": "code",
      "metadata": {
        "collapsed": true,
        "id": "gN8u2xh-VPpL"
      },
      "source": [
        "def predict_for_batch(self, session, X, X_seq_len):\n",
        "    # STUDENT CODE \n",
        "    feed_dict = {\n",
        "            self.input_batch: X,\n",
        "            self.input_batch_lengths: X_seq_len,\n",
        "    }\n",
        "\n",
        "    pred = session.run([\n",
        "            self.infer_predictions\n",
        "        ], feed_dict=feed_dict)[0]\n",
        "    return pred\n",
        "\n",
        "def predict_for_batch_with_loss(self, session, X, X_seq_len, Y, Y_seq_len):\n",
        "    # STUDENT CODE\n",
        "    feed_dict = {\n",
        "            self.input_batch: X,\n",
        "            self.input_batch_lengths: X_seq_len,\n",
        "            self.ground_truth: Y,\n",
        "            self.ground_truth_lengths: Y_seq_len,\n",
        "    }    \n",
        "    \n",
        "    pred, loss = session.run([\n",
        "            self.infer_predictions,\n",
        "            self.loss,\n",
        "        ], feed_dict=feed_dict)\n",
        "\n",
        "    return pred, loss"
      ],
      "execution_count": 38,
      "outputs": []
    },
    {
      "cell_type": "code",
      "metadata": {
        "collapsed": true,
        "id": "4ZKMHEx1VPpM"
      },
      "source": [
        "Seq2SeqModel.predict_for_batch = classmethod(predict_for_batch)\n",
        "Seq2SeqModel.predict_for_batch_with_loss = classmethod(predict_for_batch_with_loss)"
      ],
      "execution_count": 39,
      "outputs": []
    },
    {
      "cell_type": "markdown",
      "metadata": {
        "id": "4w6t9GjKVPpM"
      },
      "source": [
        "## Run your experiment\n",
        "\n",
        "Create *Seq2SeqModel* model with the following parameters:\n",
        " - *vocab_size* — number of tokens;\n",
        " - *embeddings_size* — dimension of embeddings, recommended value: 20;\n",
        " - *max_iter* — maximum number of steps in decoder, recommended value: 7;\n",
        " - *hidden_size* — size of hidden layers for RNN, recommended value: 512;\n",
        " - *start_symbol_id* — an index of the start token (`^`).\n",
        " - *end_symbol_id* — an index of the end token (`$`).\n",
        " - *padding_symbol_id* — an index of the padding token (`#`).\n",
        "\n",
        "Set hyperparameters. You might want to start with the following values and see how it works:\n",
        "- *batch_size*: 128;\n",
        "- at least 10 epochs;\n",
        "- value of *learning_rate*: 0.001\n",
        "- *dropout_keep_probability* equals to 0.5 for training (typical values for dropout probability are ranging from 0.1 to 1.0); larger values correspond smaller number of dropout units;\n",
        "- *max_len*: 20."
      ]
    },
    {
      "cell_type": "code",
      "metadata": {
        "collapsed": true,
        "id": "JzR263esVPpM"
      },
      "source": [
        "tf.reset_default_graph()\n",
        "\n",
        "# STUDENT CODE\n",
        "model = Seq2SeqModel(\n",
        "            vocab_size = len(id2word), \n",
        "            embeddings_size = 20, \n",
        "            hidden_size = 512, \n",
        "            max_iter = 7, \n",
        "            start_symbol_id = word2id[\"^\"], \n",
        "            end_symbol_id = word2id[\"$\"], \n",
        "            padding_symbol_id = word2id[\"#\"]\n",
        "        )\n",
        "# STUDENT CODE \n",
        "batch_size = 128\n",
        "n_epochs = 20\n",
        "learning_rate = 0.001\n",
        "dropout_keep_probability = 0.5\n",
        "max_len = 20\n",
        "\n",
        "n_step = int(len(train_set) / batch_size)"
      ],
      "execution_count": 42,
      "outputs": []
    },
    {
      "cell_type": "markdown",
      "metadata": {
        "id": "jsmZKRnqVPpM"
      },
      "source": [
        "Finally, we are ready to run the training! A good indicator that everything works fine is decreasing loss during the training. You should account on the loss value equal to approximately 2.7 at the beginning of the training and near 1 after the 10th epoch."
      ]
    },
    {
      "cell_type": "code",
      "metadata": {
        "collapsed": true,
        "scrolled": true,
        "id": "vAwEifNUVPpM",
        "colab": {
          "base_uri": "https://localhost:8080/"
        },
        "outputId": "b7945ed4-2e06-4174-d60a-5d30a9815f8d"
      },
      "source": [
        "from itertools import chain\n",
        "\n",
        "session = tf.Session()\n",
        "session.run(tf.global_variables_initializer())\n",
        "            \n",
        "invalid_number_prediction_counts = []\n",
        "all_model_predictions = []\n",
        "all_ground_truth = []\n",
        "\n",
        "print('Start training... \\n')\n",
        "for epoch in range(n_epochs):  \n",
        "    random.shuffle(train_set)\n",
        "    random.shuffle(test_set)\n",
        "    \n",
        "    print('Train: epoch', epoch + 1)\n",
        "    for n_iter, (X_batch, Y_batch) in enumerate(generate_batches(train_set, batch_size=batch_size)):\n",
        "\n",
        "        # STUDENT CODE\n",
        "        # prepare the data (X_batch and Y_batch) for training\n",
        "        # using function batch_to_ids\n",
        "        X_batch_ids, X_seq_len = batch_to_ids(X_batch, word2id, max_len)\n",
        "        Y_batch_ids, Y_seq_len = batch_to_ids(Y_batch, word2id, max_len)\n",
        "        predictions, loss = model.train_on_batch(session, X_batch_ids, X_seq_len, Y_batch_ids, Y_seq_len, learning_rate, dropout_keep_probability)\n",
        "\n",
        "        \n",
        "        if n_iter % 200 == 0:\n",
        "            print(\"Epoch: [%d/%d], step: [%d/%d], loss: %f\" % (epoch + 1, n_epochs, n_iter + 1, n_step, loss))\n",
        "                \n",
        "    X_sent, Y_sent = next(generate_batches(test_set, batch_size=batch_size))\n",
        "    # STUDENT CODE\n",
        "    # prepare test data (X_sent and Y_sent) for predicting \n",
        "    # quality and computing value of the loss function\n",
        "    # using function batch_to_ids\n",
        "    X, X_seq_len = batch_to_ids(X_sent, word2id, max_len)\n",
        "    Y, Y_seq_len = batch_to_ids(Y_sent, word2id, max_len)\n",
        "    predictions, loss = model.predict_for_batch_with_loss(session, X, X_seq_len, Y, Y_seq_len)\n",
        "    \n",
        "    print('Test: epoch', epoch + 1, 'loss:', loss,)\n",
        "    for x, y, p  in list(zip(X, Y, predictions))[:3]:\n",
        "        print('X:',''.join(ids_to_sentence(x, id2word)))\n",
        "        print('Y:',''.join(ids_to_sentence(y, id2word)))\n",
        "        print('O:',''.join(ids_to_sentence(p, id2word)))\n",
        "        print('')\n",
        "\n",
        "    model_predictions = []\n",
        "    ground_truth = []\n",
        "    invalid_number_prediction_count = 0\n",
        "    # STUDENT CODE\n",
        "    # For the whole test set calculate ground-truth values (as integer numbers)\n",
        "    # and prediction values (also as integers) to calculate metrics.\n",
        "    # If generated by model number is not correct (e.g. '1-1'), \n",
        "    # increase invalid_number_prediction_count and don't append this and corresponding\n",
        "    # ground-truth value to the arrays.\n",
        "    for X_batch, Y_batch in generate_batches(test_set, batch_size=batch_size):\n",
        "        Y_batch_as_int = [int(y) for y in Y_batch]\n",
        "        ground_truth = ground_truth + [Y_batch_as_int]\n",
        "        X_batch_ids, X_seq_len = batch_to_ids(X_batch, word2id, max_len)\n",
        "        predictions = model.predict_for_batch(session, X_batch_ids, X_seq_len)\n",
        "        for i, p in enumerate(predictions):\n",
        "            output_padded = ids_to_sentence(p, id2word)\n",
        "            output = output_padded[:output_padded.index('$')]\n",
        "            output = ''.join(output)\n",
        "            output_int = None\n",
        "            try:\n",
        "              output_int = int(output)\n",
        "              # if output_int != Y_batch_as_int[i]:\n",
        "              #   raise ValueError(\"Prediction did not match\")\n",
        "            except Exception as e:\n",
        "              invalid_number_prediction_count +=1\n",
        "\n",
        "            model_predictions = model_predictions + [output_int]\n",
        "\n",
        "    all_model_predictions.append(model_predictions)\n",
        "    all_ground_truth.append(ground_truth)\n",
        "    invalid_number_prediction_counts.append(invalid_number_prediction_count)\n",
        "\n",
        "            \n",
        "print('\\n...training finished.')"
      ],
      "execution_count": 43,
      "outputs": [
        {
          "output_type": "stream",
          "name": "stdout",
          "text": [
            "Start training... \n",
            "\n",
            "Train: epoch 1\n",
            "Epoch: [1/20], step: [1/625], loss: 2.710099\n",
            "Epoch: [1/20], step: [201/625], loss: 1.795794\n",
            "Epoch: [1/20], step: [401/625], loss: 1.680471\n",
            "Epoch: [1/20], step: [601/625], loss: 1.636346\n",
            "Test: epoch 1 loss: 1.5788823\n",
            "X: 4298+4976$\n",
            "Y: 9274$#\n",
            "O: 10000$\n",
            "\n",
            "X: 7389-4770$\n",
            "Y: 2619$#\n",
            "O: 2099$#\n",
            "\n",
            "X: 9886-6699$\n",
            "Y: 3187$#\n",
            "O: 2009$#\n",
            "\n",
            "Train: epoch 2\n",
            "Epoch: [2/20], step: [1/625], loss: 1.593531\n",
            "Epoch: [2/20], step: [201/625], loss: 1.526370\n",
            "Epoch: [2/20], step: [401/625], loss: 1.478123\n",
            "Epoch: [2/20], step: [601/625], loss: 1.493300\n",
            "Test: epoch 2 loss: 1.4205196\n",
            "X: 4193-7204$\n",
            "Y: -3011$\n",
            "O: -3000$\n",
            "\n",
            "X: 3192+3136$\n",
            "Y: 6328$#\n",
            "O: 6000$#\n",
            "\n",
            "X: 6406+9379$\n",
            "Y: 15785$\n",
            "O: 16000$\n",
            "\n",
            "Train: epoch 3\n",
            "Epoch: [3/20], step: [1/625], loss: 1.453852\n",
            "Epoch: [3/20], step: [201/625], loss: 1.419207\n",
            "Epoch: [3/20], step: [401/625], loss: 1.441263\n",
            "Epoch: [3/20], step: [601/625], loss: 1.389972\n",
            "Test: epoch 3 loss: 1.3361694\n",
            "X: 9354-9354$\n",
            "Y: 0$####\n",
            "O: -405$#\n",
            "\n",
            "X: 9750-371$#\n",
            "Y: 9379$#\n",
            "O: 9051$#\n",
            "\n",
            "X: 1145-9789$\n",
            "Y: -8644$\n",
            "O: -8577$\n",
            "\n",
            "Train: epoch 4\n",
            "Epoch: [4/20], step: [1/625], loss: 1.365393\n",
            "Epoch: [4/20], step: [201/625], loss: 1.352193\n",
            "Epoch: [4/20], step: [401/625], loss: 1.394924\n",
            "Epoch: [4/20], step: [601/625], loss: 1.321875\n",
            "Test: epoch 4 loss: 1.3354123\n",
            "X: 1465+9849$\n",
            "Y: 11314$\n",
            "O: 11006$\n",
            "\n",
            "X: 2611+1943$\n",
            "Y: 4554$#\n",
            "O: 4923$#\n",
            "\n",
            "X: 2210-1109$\n",
            "Y: 1101$#\n",
            "O: 1450$#\n",
            "\n",
            "Train: epoch 5\n",
            "Epoch: [5/20], step: [1/625], loss: 1.336136\n",
            "Epoch: [5/20], step: [201/625], loss: 1.334816\n",
            "Epoch: [5/20], step: [401/625], loss: 1.298032\n",
            "Epoch: [5/20], step: [601/625], loss: 1.294296\n",
            "Test: epoch 5 loss: 1.2523966\n",
            "X: 7136+3105$\n",
            "Y: 10241$\n",
            "O: 10089$\n",
            "\n",
            "X: 4310-9018$\n",
            "Y: -4708$\n",
            "O: -4999$\n",
            "\n",
            "X: 3509+7066$\n",
            "Y: 10575$\n",
            "O: 10500$\n",
            "\n",
            "Train: epoch 6\n",
            "Epoch: [6/20], step: [1/625], loss: 1.265142\n",
            "Epoch: [6/20], step: [201/625], loss: 1.310760\n",
            "Epoch: [6/20], step: [401/625], loss: 1.252633\n",
            "Epoch: [6/20], step: [601/625], loss: 1.276878\n",
            "Test: epoch 6 loss: 1.2411652\n",
            "X: 6784-9104$\n",
            "Y: -2320$\n",
            "O: -2252$\n",
            "\n",
            "X: 1164+6257$\n",
            "Y: 7421$#\n",
            "O: 7739$#\n",
            "\n",
            "X: 3866+8879$\n",
            "Y: 12745$\n",
            "O: 12722$\n",
            "\n",
            "Train: epoch 7\n",
            "Epoch: [7/20], step: [1/625], loss: 1.266291\n",
            "Epoch: [7/20], step: [201/625], loss: 1.252388\n",
            "Epoch: [7/20], step: [401/625], loss: 1.276461\n",
            "Epoch: [7/20], step: [601/625], loss: 1.202236\n",
            "Test: epoch 7 loss: 1.2049917\n",
            "X: 1349+1206$\n",
            "Y: 2555$#\n",
            "O: 2707$#\n",
            "\n",
            "X: 4019-7949$\n",
            "Y: -3930$\n",
            "O: -3779$\n",
            "\n",
            "X: 8209-8990$\n",
            "Y: -781$#\n",
            "O: -755$#\n",
            "\n",
            "Train: epoch 8\n",
            "Epoch: [8/20], step: [1/625], loss: 1.212035\n",
            "Epoch: [8/20], step: [201/625], loss: 1.173910\n",
            "Epoch: [8/20], step: [401/625], loss: 1.175771\n",
            "Epoch: [8/20], step: [601/625], loss: 1.135127\n",
            "Test: epoch 8 loss: 1.07829\n",
            "X: 5698+1961$\n",
            "Y: 7659$#\n",
            "O: 7660$#\n",
            "\n",
            "X: 6347+8559$\n",
            "Y: 14906$\n",
            "O: 14863$\n",
            "\n",
            "X: 5855+1152$\n",
            "Y: 7007$#\n",
            "O: 7030$#\n",
            "\n",
            "Train: epoch 9\n",
            "Epoch: [9/20], step: [1/625], loss: 1.115617\n",
            "Epoch: [9/20], step: [201/625], loss: 1.072044\n",
            "Epoch: [9/20], step: [401/625], loss: 1.078935\n",
            "Epoch: [9/20], step: [601/625], loss: 0.984826\n",
            "Test: epoch 9 loss: 1.0339042\n",
            "X: 20-8062$##\n",
            "Y: -8042$\n",
            "O: -8090$\n",
            "\n",
            "X: 6505-2489$\n",
            "Y: 4016$#\n",
            "O: 4033$#\n",
            "\n",
            "X: 3984+9668$\n",
            "Y: 13652$\n",
            "O: 13639$\n",
            "\n",
            "Train: epoch 10\n",
            "Epoch: [10/20], step: [1/625], loss: 1.016539\n",
            "Epoch: [10/20], step: [201/625], loss: 1.012717\n",
            "Epoch: [10/20], step: [401/625], loss: 0.999397\n",
            "Epoch: [10/20], step: [601/625], loss: 0.994592\n",
            "Test: epoch 10 loss: 0.9353518\n",
            "X: 6276-8242$\n",
            "Y: -1966$\n",
            "O: -1953$\n",
            "\n",
            "X: 3707+4429$\n",
            "Y: 8136$#\n",
            "O: 8149$#\n",
            "\n",
            "X: 7061+2580$\n",
            "Y: 9641$#\n",
            "O: 9625$#\n",
            "\n",
            "Train: epoch 11\n",
            "Epoch: [11/20], step: [1/625], loss: 0.952433\n",
            "Epoch: [11/20], step: [201/625], loss: 1.000811\n",
            "Epoch: [11/20], step: [401/625], loss: 0.944442\n",
            "Epoch: [11/20], step: [601/625], loss: 0.945088\n",
            "Test: epoch 11 loss: 0.93511164\n",
            "X: 7107+8733$\n",
            "Y: 15840$\n",
            "O: 15871$\n",
            "\n",
            "X: 6672-8022$\n",
            "Y: -1350$\n",
            "O: -1359$\n",
            "\n",
            "X: 1097-3850$\n",
            "Y: -2753$\n",
            "O: -2750$\n",
            "\n",
            "Train: epoch 12\n",
            "Epoch: [12/20], step: [1/625], loss: 1.038992\n",
            "Epoch: [12/20], step: [201/625], loss: 0.915007\n",
            "Epoch: [12/20], step: [401/625], loss: 0.987300\n",
            "Epoch: [12/20], step: [601/625], loss: 0.909748\n",
            "Test: epoch 12 loss: 0.91685677\n",
            "X: 4409+9379$\n",
            "Y: 13788$\n",
            "O: 13808$\n",
            "\n",
            "X: 4644+1167$\n",
            "Y: 5811$#\n",
            "O: 5822$#\n",
            "\n",
            "X: 5363-9571$\n",
            "Y: -4208$\n",
            "O: -4188$\n",
            "\n",
            "Train: epoch 13\n",
            "Epoch: [13/20], step: [1/625], loss: 0.947029\n",
            "Epoch: [13/20], step: [201/625], loss: 0.918912\n",
            "Epoch: [13/20], step: [401/625], loss: 0.890545\n",
            "Epoch: [13/20], step: [601/625], loss: 0.891146\n",
            "Test: epoch 13 loss: 0.89000034\n",
            "X: 2631+1495$\n",
            "Y: 4126$#\n",
            "O: 4156$#\n",
            "\n",
            "X: 4405+2254$\n",
            "Y: 6659$#\n",
            "O: 6669$#\n",
            "\n",
            "X: 8682+5448$\n",
            "Y: 14130$\n",
            "O: 14109$\n",
            "\n",
            "Train: epoch 14\n",
            "Epoch: [14/20], step: [1/625], loss: 0.978113\n",
            "Epoch: [14/20], step: [201/625], loss: 0.925408\n",
            "Epoch: [14/20], step: [401/625], loss: 0.897872\n",
            "Epoch: [14/20], step: [601/625], loss: 0.882805\n",
            "Test: epoch 14 loss: 0.89443606\n",
            "X: 4713+2683$\n",
            "Y: 7396$#\n",
            "O: 7393$#\n",
            "\n",
            "X: 5807-6844$\n",
            "Y: -1037$\n",
            "O: -1044$\n",
            "\n",
            "X: 9641-8133$\n",
            "Y: 1508$#\n",
            "O: 1513$#\n",
            "\n",
            "Train: epoch 15\n",
            "Epoch: [15/20], step: [1/625], loss: 0.863171\n",
            "Epoch: [15/20], step: [201/625], loss: 0.894792\n",
            "Epoch: [15/20], step: [401/625], loss: 0.887066\n",
            "Epoch: [15/20], step: [601/625], loss: 0.840961\n",
            "Test: epoch 15 loss: 0.8671537\n",
            "X: 6083-6605$\n",
            "Y: -522$#\n",
            "O: -559$#\n",
            "\n",
            "X: 7789-5419$\n",
            "Y: 2370$#\n",
            "O: 2350$#\n",
            "\n",
            "X: 4335-6795$\n",
            "Y: -2460$\n",
            "O: -2446$\n",
            "\n",
            "Train: epoch 16\n",
            "Epoch: [16/20], step: [1/625], loss: 0.885565\n",
            "Epoch: [16/20], step: [201/625], loss: 0.854479\n",
            "Epoch: [16/20], step: [401/625], loss: 0.861452\n",
            "Epoch: [16/20], step: [601/625], loss: 0.865972\n",
            "Test: epoch 16 loss: 0.86261344\n",
            "X: 4592-2876$\n",
            "Y: 1716$#\n",
            "O: 1717$#\n",
            "\n",
            "X: 3185+194$#\n",
            "Y: 3379$#\n",
            "O: 3381$#\n",
            "\n",
            "X: 7023-1272$\n",
            "Y: 5751$#\n",
            "O: 5740$#\n",
            "\n",
            "Train: epoch 17\n",
            "Epoch: [17/20], step: [1/625], loss: 0.816451\n",
            "Epoch: [17/20], step: [201/625], loss: 0.814589\n",
            "Epoch: [17/20], step: [401/625], loss: 0.832779\n",
            "Epoch: [17/20], step: [601/625], loss: 0.870619\n",
            "Test: epoch 17 loss: 0.8394098\n",
            "X: 2307+3494$\n",
            "Y: 5801$#\n",
            "O: 5802$#\n",
            "\n",
            "X: 7902+5721$\n",
            "Y: 13623$\n",
            "O: 13624$\n",
            "\n",
            "X: 9196+7796$\n",
            "Y: 16992$\n",
            "O: 17004$\n",
            "\n",
            "Train: epoch 18\n",
            "Epoch: [18/20], step: [1/625], loss: 0.824178\n",
            "Epoch: [18/20], step: [201/625], loss: 0.803522\n",
            "Epoch: [18/20], step: [401/625], loss: 0.844543\n",
            "Epoch: [18/20], step: [601/625], loss: 0.904163\n",
            "Test: epoch 18 loss: 0.8158074\n",
            "X: 6690+7141$\n",
            "Y: 13831$\n",
            "O: 13829$\n",
            "\n",
            "X: 6491+2053$\n",
            "Y: 8544$#\n",
            "O: 8556$#\n",
            "\n",
            "X: 4922-9979$\n",
            "Y: -5057$\n",
            "O: -5055$\n",
            "\n",
            "Train: epoch 19\n",
            "Epoch: [19/20], step: [1/625], loss: 0.820316\n",
            "Epoch: [19/20], step: [201/625], loss: 0.795753\n",
            "Epoch: [19/20], step: [401/625], loss: 0.797277\n",
            "Epoch: [19/20], step: [601/625], loss: 0.814881\n",
            "Test: epoch 19 loss: 0.80429024\n",
            "X: 4402-5229$\n",
            "Y: -827$#\n",
            "O: -815$#\n",
            "\n",
            "X: 5495-3349$\n",
            "Y: 2146$#\n",
            "O: 2159$#\n",
            "\n",
            "X: 8144+6112$\n",
            "Y: 14256$\n",
            "O: 14255$\n",
            "\n",
            "Train: epoch 20\n",
            "Epoch: [20/20], step: [1/625], loss: 0.746309\n",
            "Epoch: [20/20], step: [201/625], loss: 0.823610\n",
            "Epoch: [20/20], step: [401/625], loss: 0.838530\n",
            "Epoch: [20/20], step: [601/625], loss: 0.792902\n",
            "Test: epoch 20 loss: 0.8568932\n",
            "X: 2877-7547$\n",
            "Y: -4670$\n",
            "O: -4700$\n",
            "\n",
            "X: 9316+2642$\n",
            "Y: 11958$\n",
            "O: 11988$\n",
            "\n",
            "X: 7732+6839$\n",
            "Y: 14571$\n",
            "O: 14574$\n",
            "\n",
            "\n",
            "...training finished.\n"
          ]
        }
      ]
    },
    {
      "cell_type": "markdown",
      "metadata": {
        "id": "hoJ07PULVPpM"
      },
      "source": [
        "## Evaluate results\n",
        "\n",
        "Because our task is simple and the output is straight-forward, we will use [MAE](https://en.wikipedia.org/wiki/Mean_absolute_error) metric to evaluate the trained model during the epochs. Compute the value of the metric for the output from each epoch."
      ]
    },
    {
      "cell_type": "code",
      "metadata": {
        "collapsed": true,
        "id": "MJfXwBvaVPpN"
      },
      "source": [
        "from sklearn.metrics import mean_absolute_error\n",
        "from itertools import chain"
      ],
      "execution_count": 44,
      "outputs": []
    },
    {
      "cell_type": "code",
      "metadata": {
        "collapsed": true,
        "id": "g9DdkKswVPpN",
        "colab": {
          "base_uri": "https://localhost:8080/"
        },
        "outputId": "a1baf60e-39ad-4523-d089-1f001891ea95"
      },
      "source": [
        "for i, (gts, predictions, invalid_number_prediction_count) in enumerate(zip(all_ground_truth,\n",
        "                                                                            all_model_predictions,\n",
        "                                                                            invalid_number_prediction_counts), 1):\n",
        "  \n",
        "    gts = list(chain.from_iterable(gts))\n",
        "    mae = mean_absolute_error(gts, predictions)\n",
        "    print(\"Epoch: %i, MAE: %f, Invalid numbers: %i\" % (i, mae, invalid_number_prediction_count))"
      ],
      "execution_count": 45,
      "outputs": [
        {
          "output_type": "stream",
          "name": "stdout",
          "text": [
            "Epoch: 1, MAE: 842.185100, Invalid numbers: 0\n",
            "Epoch: 2, MAE: 373.444650, Invalid numbers: 0\n",
            "Epoch: 3, MAE: 225.741800, Invalid numbers: 0\n",
            "Epoch: 4, MAE: 225.524850, Invalid numbers: 0\n",
            "Epoch: 5, MAE: 169.570800, Invalid numbers: 0\n",
            "Epoch: 6, MAE: 162.400800, Invalid numbers: 0\n",
            "Epoch: 7, MAE: 126.745950, Invalid numbers: 0\n",
            "Epoch: 8, MAE: 77.641100, Invalid numbers: 0\n",
            "Epoch: 9, MAE: 52.113300, Invalid numbers: 0\n",
            "Epoch: 10, MAE: 44.976100, Invalid numbers: 0\n",
            "Epoch: 11, MAE: 33.698350, Invalid numbers: 0\n",
            "Epoch: 12, MAE: 39.539100, Invalid numbers: 0\n",
            "Epoch: 13, MAE: 27.631300, Invalid numbers: 0\n",
            "Epoch: 14, MAE: 33.445200, Invalid numbers: 0\n",
            "Epoch: 15, MAE: 30.987750, Invalid numbers: 0\n",
            "Epoch: 16, MAE: 30.426900, Invalid numbers: 0\n",
            "Epoch: 17, MAE: 24.904200, Invalid numbers: 0\n",
            "Epoch: 18, MAE: 24.928250, Invalid numbers: 0\n",
            "Epoch: 19, MAE: 25.279650, Invalid numbers: 0\n",
            "Epoch: 20, MAE: 19.860350, Invalid numbers: 0\n"
          ]
        }
      ]
    },
    {
      "cell_type": "code",
      "metadata": {
        "id": "qQ1UQ9VMaKYe"
      },
      "source": [
        "def calculate(operation): \n",
        "    X_batch_ids, X_seq_len = batch_to_ids([operation], word2id, max_len)\n",
        "    X_batch_ids, X_seq_len\n",
        "    predictions = model.predict_for_batch(session, X_batch_ids, X_seq_len)\n",
        "    p = predictions[0]\n",
        "    output_padded = ids_to_sentence(p, id2word)\n",
        "    output = output_padded[:output_padded.index('$')]\n",
        "    output = ''.join(output)\n",
        "    return output"
      ],
      "execution_count": 46,
      "outputs": []
    },
    {
      "cell_type": "markdown",
      "metadata": {
        "id": "Bb-1olE7cuMC"
      },
      "source": [
        "### Sample inference of model"
      ]
    },
    {
      "cell_type": "code",
      "metadata": {
        "colab": {
          "base_uri": "https://localhost:8080/"
        },
        "id": "OhqeAtvxbaAP",
        "outputId": "5d48c9c1-aefc-4418-c782-cd53fa0d54f0"
      },
      "source": [
        "input = ['100-90', '110+90', '199+300', '1010+3000']\n",
        "expected = [10, 200, 499, 4010]\n",
        "[f'Performing {op}, inferred {calculate(op)}, expected {correct}'  for op, correct in zip(input, expected)]"
      ],
      "execution_count": 47,
      "outputs": [
        {
          "output_type": "execute_result",
          "data": {
            "text/plain": [
              "['Performing 100-90, inferred 19, expected 10',\n",
              " 'Performing 110+90, inferred 1111, expected 200',\n",
              " 'Performing 199+300, inferred 596, expected 499',\n",
              " 'Performing 1010+3000, inferred 4070, expected 4010']"
            ]
          },
          "metadata": {},
          "execution_count": 47
        }
      ]
    },
    {
      "cell_type": "code",
      "metadata": {
        "id": "Ilm4bLyfrn6_"
      },
      "source": [
        ""
      ],
      "execution_count": null,
      "outputs": []
    }
  ]
}